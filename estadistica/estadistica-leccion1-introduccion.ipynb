{
 "cells": [
  {
   "attachments": {},
   "cell_type": "markdown",
   "metadata": {},
   "source": [
    "# **Ejercicios de pair programming Módulo 2 Sprint 1**\n",
    "## **Estadística: Lección 1**\n",
    "### **Introducción**\n",
    "\n",
    "---"
   ]
  },
  {
   "cell_type": "code",
   "execution_count": 8,
   "metadata": {},
   "outputs": [],
   "source": [
    "import numpy as np\n",
    "import pandas as pd"
   ]
  },
  {
   "attachments": {},
   "cell_type": "markdown",
   "metadata": {},
   "source": [
    "1. Buscar un conjunto de datos a analizar:\n",
    " - Se recomienda que el conjunto de datos a analizar tenga variables numéricas y categóricas. Ya que también se analizarán.\n"
   ]
  },
  {
   "cell_type": "code",
   "execution_count": 30,
   "metadata": {},
   "outputs": [
    {
     "data": {
      "text/html": [
       "<div>\n",
       "<style scoped>\n",
       "    .dataframe tbody tr th:only-of-type {\n",
       "        vertical-align: middle;\n",
       "    }\n",
       "\n",
       "    .dataframe tbody tr th {\n",
       "        vertical-align: top;\n",
       "    }\n",
       "\n",
       "    .dataframe thead th {\n",
       "        text-align: right;\n",
       "    }\n",
       "</style>\n",
       "<table border=\"1\" class=\"dataframe\">\n",
       "  <thead>\n",
       "    <tr style=\"text-align: right;\">\n",
       "      <th></th>\n",
       "      <th>Title</th>\n",
       "      <th>Release Date</th>\n",
       "      <th>Team</th>\n",
       "      <th>Rating</th>\n",
       "      <th>Times Listed</th>\n",
       "      <th>Number of Reviews</th>\n",
       "      <th>Genres</th>\n",
       "      <th>Summary</th>\n",
       "      <th>Reviews</th>\n",
       "      <th>Plays</th>\n",
       "      <th>Playing</th>\n",
       "      <th>Backlogs</th>\n",
       "      <th>Wishlist</th>\n",
       "    </tr>\n",
       "  </thead>\n",
       "  <tbody>\n",
       "    <tr>\n",
       "      <th>0</th>\n",
       "      <td>Elden Ring</td>\n",
       "      <td>Feb 25, 2022</td>\n",
       "      <td>['Bandai Namco Entertainment', 'FromSoftware']</td>\n",
       "      <td>4.5</td>\n",
       "      <td>39000</td>\n",
       "      <td>39000</td>\n",
       "      <td>['Adventure', 'RPG']</td>\n",
       "      <td>Elden Ring is a fantasy, action and open world...</td>\n",
       "      <td>[\"The first playthrough of elden ring is one o...</td>\n",
       "      <td>17000</td>\n",
       "      <td>38000</td>\n",
       "      <td>46000</td>\n",
       "      <td>48000</td>\n",
       "    </tr>\n",
       "    <tr>\n",
       "      <th>1</th>\n",
       "      <td>Hades</td>\n",
       "      <td>Dec 10, 2019</td>\n",
       "      <td>['Supergiant Games']</td>\n",
       "      <td>4.3</td>\n",
       "      <td>29000</td>\n",
       "      <td>29000</td>\n",
       "      <td>['Adventure', 'Brawler', 'Indie', 'RPG']</td>\n",
       "      <td>A rogue-lite hack and slash dungeon crawler in...</td>\n",
       "      <td>['convinced this is a roguelike for people who...</td>\n",
       "      <td>21000</td>\n",
       "      <td>32000</td>\n",
       "      <td>63000</td>\n",
       "      <td>36000</td>\n",
       "    </tr>\n",
       "    <tr>\n",
       "      <th>2</th>\n",
       "      <td>The Legend of Zelda: Breath of the Wild</td>\n",
       "      <td>Mar 03, 2017</td>\n",
       "      <td>['Nintendo', 'Nintendo EPD Production Group No...</td>\n",
       "      <td>4.4</td>\n",
       "      <td>43000</td>\n",
       "      <td>43000</td>\n",
       "      <td>['Adventure', 'RPG']</td>\n",
       "      <td>The Legend of Zelda: Breath of the Wild is the...</td>\n",
       "      <td>['This game is the game (that is not CS:GO) th...</td>\n",
       "      <td>30000</td>\n",
       "      <td>25000</td>\n",
       "      <td>5000</td>\n",
       "      <td>26000</td>\n",
       "    </tr>\n",
       "    <tr>\n",
       "      <th>3</th>\n",
       "      <td>Undertale</td>\n",
       "      <td>Sep 15, 2015</td>\n",
       "      <td>['tobyfox', '8-4']</td>\n",
       "      <td>4.2</td>\n",
       "      <td>35000</td>\n",
       "      <td>35000</td>\n",
       "      <td>['Adventure', 'Indie', 'RPG', 'Turn Based Stra...</td>\n",
       "      <td>A small child falls into the Underground, wher...</td>\n",
       "      <td>['soundtrack is tied for #1 with nier automata...</td>\n",
       "      <td>28000</td>\n",
       "      <td>679</td>\n",
       "      <td>49000</td>\n",
       "      <td>18000</td>\n",
       "    </tr>\n",
       "    <tr>\n",
       "      <th>4</th>\n",
       "      <td>Hollow Knight</td>\n",
       "      <td>Feb 24, 2017</td>\n",
       "      <td>['Team Cherry']</td>\n",
       "      <td>4.4</td>\n",
       "      <td>3000</td>\n",
       "      <td>3000</td>\n",
       "      <td>['Adventure', 'Indie', 'Platform']</td>\n",
       "      <td>A 2D metroidvania with an emphasis on close co...</td>\n",
       "      <td>[\"this games worldbuilding is incredible, with...</td>\n",
       "      <td>21000</td>\n",
       "      <td>24000</td>\n",
       "      <td>83000</td>\n",
       "      <td>23000</td>\n",
       "    </tr>\n",
       "  </tbody>\n",
       "</table>\n",
       "</div>"
      ],
      "text/plain": [
       "                                     Title  Release Date  \\\n",
       "0                               Elden Ring  Feb 25, 2022   \n",
       "1                                    Hades  Dec 10, 2019   \n",
       "2  The Legend of Zelda: Breath of the Wild  Mar 03, 2017   \n",
       "3                                Undertale  Sep 15, 2015   \n",
       "4                            Hollow Knight  Feb 24, 2017   \n",
       "\n",
       "                                                Team  Rating  Times Listed  \\\n",
       "0     ['Bandai Namco Entertainment', 'FromSoftware']     4.5         39000   \n",
       "1                               ['Supergiant Games']     4.3         29000   \n",
       "2  ['Nintendo', 'Nintendo EPD Production Group No...     4.4         43000   \n",
       "3                                 ['tobyfox', '8-4']     4.2         35000   \n",
       "4                                    ['Team Cherry']     4.4          3000   \n",
       "\n",
       "   Number of Reviews                                             Genres  \\\n",
       "0              39000                               ['Adventure', 'RPG']   \n",
       "1              29000           ['Adventure', 'Brawler', 'Indie', 'RPG']   \n",
       "2              43000                               ['Adventure', 'RPG']   \n",
       "3              35000  ['Adventure', 'Indie', 'RPG', 'Turn Based Stra...   \n",
       "4               3000                 ['Adventure', 'Indie', 'Platform']   \n",
       "\n",
       "                                             Summary  \\\n",
       "0  Elden Ring is a fantasy, action and open world...   \n",
       "1  A rogue-lite hack and slash dungeon crawler in...   \n",
       "2  The Legend of Zelda: Breath of the Wild is the...   \n",
       "3  A small child falls into the Underground, wher...   \n",
       "4  A 2D metroidvania with an emphasis on close co...   \n",
       "\n",
       "                                             Reviews  Plays  Playing  \\\n",
       "0  [\"The first playthrough of elden ring is one o...  17000    38000   \n",
       "1  ['convinced this is a roguelike for people who...  21000    32000   \n",
       "2  ['This game is the game (that is not CS:GO) th...  30000    25000   \n",
       "3  ['soundtrack is tied for #1 with nier automata...  28000      679   \n",
       "4  [\"this games worldbuilding is incredible, with...  21000    24000   \n",
       "\n",
       "   Backlogs  Wishlist  \n",
       "0     46000     48000  \n",
       "1     63000     36000  \n",
       "2      5000     26000  \n",
       "3     49000     18000  \n",
       "4     83000     23000  "
      ]
     },
     "execution_count": 30,
     "metadata": {},
     "output_type": "execute_result"
    }
   ],
   "source": [
    "games = pd.read_csv(\"data/games.csv\", index_col=0)\n",
    "games.head()"
   ]
  },
  {
   "attachments": {},
   "cell_type": "markdown",
   "metadata": {},
   "source": [
    "Información del contenido de las columnas\n",
    "\n",
    "Title - Title of the Game.\n",
    "\n",
    "Release Date - Date of release of the game's first version\n",
    "\n",
    "Team - Game developer team\n",
    "\n",
    "Rating - Average rating\n",
    "\n",
    "Times Listed - Number of users who listed this game\n",
    "\n",
    "Number of Reviews - Number of reviews received from the users\n",
    "\n",
    "Genres - All genres pertaining to a specified game\n",
    "\n",
    "Summary - Summary provided by the team\n",
    "\n",
    "Reviews - User reviews\n",
    "\n",
    "Plays - Number of users that have played the game before\n",
    "\n",
    "Playing - Number of current users who are playing the game\n",
    "\n",
    "Backlogs - Number of users who have access but haven't started with the game yet\n",
    "\n",
    "Wishlist- Number of users who wish to play the game"
   ]
  },
  {
   "cell_type": "code",
   "execution_count": 10,
   "metadata": {},
   "outputs": [
    {
     "name": "stdout",
     "output_type": "stream",
     "text": [
      "<class 'pandas.core.frame.DataFrame'>\n",
      "Int64Index: 1512 entries, 0 to 1511\n",
      "Data columns (total 13 columns):\n",
      " #   Column             Non-Null Count  Dtype  \n",
      "---  ------             --------------  -----  \n",
      " 0   Title              1512 non-null   object \n",
      " 1   Release Date       1512 non-null   object \n",
      " 2   Team               1511 non-null   object \n",
      " 3   Rating             1499 non-null   float64\n",
      " 4   Times Listed       1512 non-null   int64  \n",
      " 5   Number of Reviews  1512 non-null   int64  \n",
      " 6   Genres             1512 non-null   object \n",
      " 7   Summary            1511 non-null   object \n",
      " 8   Reviews            1512 non-null   object \n",
      " 9   Plays              1512 non-null   int64  \n",
      " 10  Playing            1512 non-null   int64  \n",
      " 11  Backlogs           1512 non-null   int64  \n",
      " 12  Wishlist           1512 non-null   int64  \n",
      "dtypes: float64(1), int64(6), object(6)\n",
      "memory usage: 165.4+ KB\n"
     ]
    }
   ],
   "source": [
    "games.info()"
   ]
  },
  {
   "attachments": {},
   "cell_type": "markdown",
   "metadata": {},
   "source": [
    "Tenemos pocas columnas numéricas. Vamos a transformar a columnas numéricas Times Listed, Number of Reviews, Plays, Playing, Backlogs,\tWishlist\t"
   ]
  },
  {
   "cell_type": "code",
   "execution_count": 11,
   "metadata": {},
   "outputs": [
    {
     "data": {
      "text/plain": [
       "' Este es el código utilizado para la modificación de columnas numéricas, eliminación de la k y sustitución por las unidades\\ncorrespondientes. Posteriormente al cambio guardamos el archivo, por lo que dejamos el código comentado porque no es necesario volver\\na ejecutarlo'"
      ]
     },
     "execution_count": 11,
     "metadata": {},
     "output_type": "execute_result"
    }
   ],
   "source": [
    "\"\"\" Este es el código utilizado para la modificación de columnas numéricas, eliminación de la k y sustitución por las unidades\n",
    "correspondientes. Posteriormente al cambio guardamos el archivo, por lo que dejamos el código comentado porque no es necesario volver\n",
    "a ejecutarlo\"\"\"\n",
    "\n",
    "# def limpieza(col):\n",
    "#     if \"K\" in col:\n",
    "#         return (col.replace(\"K\",\"000\").replace(\".\", \"\"))\n",
    "#     else:\n",
    "#         return col\n",
    "\n",
    "# games[\"Times Listed\"] = games[\"Times Listed\"].apply(limpieza)\n",
    "# games[\"Number of Reviews\"] = games[\"Number of Reviews\"].apply(limpieza)\n",
    "# games[\"Plays\"] = games[\"Plays\"].apply(limpieza)\n",
    "# games[\"Playing\"] = games[\"Playing\"].apply(limpieza)\n",
    "# games[\"Backlogs\"] = games[\"Backlogs\"].apply(limpieza)\n",
    "# games[\"Wishlist\"] = games[\"Wishlist\"].apply(limpieza)\n",
    "\n",
    "# games = games.astype({\"Times Listed\": int, \"Number of Reviews\": int, \"Plays\": int, \"Playing\": int, \"Backlogs\": int, \"Wishlist\":int})\n",
    "    "
   ]
  },
  {
   "attachments": {},
   "cell_type": "markdown",
   "metadata": {},
   "source": [
    "2. Extraer los siguentes estadísiticos del conjunto de datos para varias de las variables disponibles:\n",
    "- Media\n",
    "- Desviación con respecto de la media\n",
    "- Varianza\n",
    "- Desviación típica\n",
    "- Moda\n",
    "- Mediana\n",
    "- Media ponderada\n",
    "- Robustez\n",
    "- Coeficiente de variación\n"
   ]
  },
  {
   "cell_type": "code",
   "execution_count": null,
   "metadata": {},
   "outputs": [],
   "source": [
    "def descripcion(col):\n",
    "\n",
    "    print(f\"La media de la columna {col} es\", games[col].mean())\n",
    "    print(f\"La desviación con respecto a la media de la columna {col} es: \", np.abs(games[col] - games[col].mean()))\n",
    "    print(f\"La varianza de la columna {col} es\", games[col].var())\n",
    "    print(f\"La desviación estándar de la columna {col} es\", games[col].std())\n",
    "    print(f\"La moda de la columna {col} es\", games[col].mode()[0])\n",
    "    print(f\"La mediana de la columna {col} es\", games[col].median())\n",
    "    print(f\"El coeficiente de variación de la columna {col} es\", (games[col].std() / games[col].mean()))"
   ]
  },
  {
   "cell_type": "code",
   "execution_count": null,
   "metadata": {},
   "outputs": [
    {
     "name": "stdout",
     "output_type": "stream",
     "text": [
      "La media de la columna Rating es 3.7193462308205465\n",
      "La desviación con respecto a la media de la columna Rating es:  0       0.780654\n",
      "1       0.580654\n",
      "2       0.680654\n",
      "3       0.480654\n",
      "4       0.680654\n",
      "          ...   \n",
      "1507    0.519346\n",
      "1508    0.819346\n",
      "1509    0.019346\n",
      "1510    0.380654\n",
      "1511    0.919346\n",
      "Name: Rating, Length: 1512, dtype: float64\n",
      "La varianza de la columna Rating es 0.2836708673606179\n",
      "La desviación estándar de la columna Rating es 0.5326076110614811\n",
      "La moda de la columna Rating es 4.1\n",
      "La mediana de la columna Rating es 3.8\n",
      "El coeficiente de variación de la columna Rating es 0.14319925546269444\n"
     ]
    }
   ],
   "source": [
    "descripcion(\"Rating\")"
   ]
  },
  {
   "cell_type": "code",
   "execution_count": null,
   "metadata": {},
   "outputs": [
    {
     "name": "stdout",
     "output_type": "stream",
     "text": [
      "La media de la columna Number of Reviews es 4352.79298941799\n",
      "La desviación con respecto a la media de la columna Number of Reviews es:  0       34647.207011\n",
      "1       24647.207011\n",
      "2       38647.207011\n",
      "3       30647.207011\n",
      "4        1352.792989\n",
      "            ...     \n",
      "1507     4258.792989\n",
      "1508     4088.792989\n",
      "1509     4142.792989\n",
      "1510     4187.792989\n",
      "1511     4168.792989\n",
      "Name: Number of Reviews, Length: 1512, dtype: float64\n",
      "La varianza de la columna Number of Reviews es 61362585.79629813\n",
      "La desviación estándar de la columna Number of Reviews es 7833.427461609518\n",
      "La moda de la columna Number of Reviews es 11000\n",
      "La mediana de la columna Number of Reviews es 551.0\n",
      "El coeficiente de variación de la columna Number of Reviews es 1.7996324384488873\n"
     ]
    }
   ],
   "source": [
    "descripcion(\"Number of Reviews\")"
   ]
  },
  {
   "cell_type": "code",
   "execution_count": null,
   "metadata": {},
   "outputs": [
    {
     "name": "stdout",
     "output_type": "stream",
     "text": [
      "La media de la columna Plays es 30211.3167989418\n",
      "La desviación con respecto a la media de la columna Plays es:  0       13211.316799\n",
      "1        9211.316799\n",
      "2         211.316799\n",
      "3        2211.316799\n",
      "4        9211.316799\n",
      "            ...     \n",
      "1507    29448.316799\n",
      "1508    15211.316799\n",
      "1509    19211.316799\n",
      "1510    29942.316799\n",
      "1511    13211.316799\n",
      "Name: Plays, Length: 1512, dtype: float64\n",
      "La varianza de la columna Plays es 691534493.7321335\n",
      "La desviación estándar de la columna Plays es 26297.043440891477\n",
      "La moda de la columna Plays es 12000\n",
      "La mediana de la columna Plays es 21000.0\n",
      "El coeficiente de variación de la columna Plays es 0.8704368503994693\n"
     ]
    }
   ],
   "source": [
    "descripcion(\"Plays\")"
   ]
  },
  {
   "cell_type": "code",
   "execution_count": null,
   "metadata": {},
   "outputs": [
    {
     "name": "stdout",
     "output_type": "stream",
     "text": [
      "La media de la columna Playing es 1035.2367724867725\n",
      "La desviación con respecto a la media de la columna Playing es:  0       36964.763228\n",
      "1       30964.763228\n",
      "2       23964.763228\n",
      "3         356.236772\n",
      "4       22964.763228\n",
      "            ...     \n",
      "1507     1030.236772\n",
      "1508      986.236772\n",
      "1509      990.236772\n",
      "1510      956.236772\n",
      "1511     1024.236772\n",
      "Name: Playing, Length: 1512, dtype: float64\n",
      "La varianza de la columna Playing es 15813763.439599883\n",
      "La desviación estándar de la columna Playing es 3976.652290507668\n",
      "La moda de la columna Playing es 11000\n",
      "La mediana de la columna Playing es 112.5\n",
      "El coeficiente de variación de la columna Playing es 3.841297369060061\n"
     ]
    }
   ],
   "source": [
    "descripcion(\"Playing\")"
   ]
  },
  {
   "cell_type": "code",
   "execution_count": null,
   "metadata": {},
   "outputs": [
    {
     "name": "stdout",
     "output_type": "stream",
     "text": [
      "La media de la columna Backlogs es 11244.839285714286\n",
      "La desviación con respecto a la media de la columna Backlogs es:  0       34755.160714\n",
      "1       51755.160714\n",
      "2        6244.839286\n",
      "3       37755.160714\n",
      "4       71755.160714\n",
      "            ...     \n",
      "1507    11021.839286\n",
      "1508    10831.839286\n",
      "1509    10757.839286\n",
      "1510    10856.839286\n",
      "1511    11005.839286\n",
      "Name: Backlogs, Length: 1512, dtype: float64\n",
      "La varianza de la columna Backlogs es 206351112.83517316\n",
      "La desviación estándar de la columna Backlogs es 14364.926482066421\n",
      "La moda de la columna Backlogs es 15000\n",
      "La mediana de la columna Backlogs es 1000.0\n",
      "El coeficiente de variación de la columna Backlogs es 1.277468367228331\n"
     ]
    }
   ],
   "source": [
    "descripcion(\"Backlogs\")"
   ]
  },
  {
   "cell_type": "code",
   "execution_count": null,
   "metadata": {},
   "outputs": [
    {
     "name": "stdout",
     "output_type": "stream",
     "text": [
      "La media de la columna Wishlist es 4866.25462962963\n",
      "La desviación con respecto a la media de la columna Wishlist es:  0       43133.74537\n",
      "1       31133.74537\n",
      "2       21133.74537\n",
      "3       13133.74537\n",
      "4       18133.74537\n",
      "           ...     \n",
      "1507     4799.25463\n",
      "1508     4759.25463\n",
      "1509     4660.25463\n",
      "1510     4264.25463\n",
      "1511     4793.25463\n",
      "Name: Wishlist, Length: 1512, dtype: float64\n",
      "La varianza de la columna Wishlist es 77247433.51354572\n",
      "La desviación estándar de la columna Wishlist es 8789.051912097557\n",
      "La moda de la columna Wishlist es 13000\n",
      "La mediana de la columna Wishlist es 496.0\n",
      "El coeficiente de variación de la columna Wishlist es 1.8061224866004373\n"
     ]
    }
   ],
   "source": [
    "descripcion(\"Wishlist\")"
   ]
  },
  {
   "cell_type": "code",
   "execution_count": null,
   "metadata": {},
   "outputs": [
    {
     "name": "stdout",
     "output_type": "stream",
     "text": [
      "La media ponderada de Number of Reviews es 2128.0612602100355\n"
     ]
    }
   ],
   "source": [
    "\"\"\"Media ponderada de Number of Reviews. Balancear la media considerando asignar mayor peso a los juegos que tienen menos \n",
    "reviews desde el planteamiento de que unos pocos juegos con muchas reviews distorsionan el resultado.\n",
    "Decidimos hacer esto, aunque sabemos que va a arrojar un resultado representativo de la muestra ya que no consideramos que \n",
    "en nuestro dataset haya ninguna variable de la que podamos extraer una media ponderada coherente o justificada.\"\"\" \n",
    "\n",
    "def definir_pesos(col):\n",
    "    if col < 100:\n",
    "        return 0.40\n",
    "    elif col < 500:\n",
    "        return 0.30\n",
    "    elif col <= 1000:\n",
    "        return 0.20\n",
    "    else:\n",
    "        return 0.10\n",
    "\n",
    "pesos = games[\"Number of Reviews\"].apply(definir_pesos)\n",
    "number_reviews_mp = np.average(games[\"Number of Reviews\"], weights = pesos)\n",
    "print(f\"La media ponderada de Number of Reviews es {number_reviews_mp}\")"
   ]
  },
  {
   "attachments": {},
   "cell_type": "markdown",
   "metadata": {},
   "source": [
    "    Dado que para esta columna nuestra media aritmética es 4352.79 y la mediana 551.0, aunque la ponderación haya sido un poco \"ficticia\", consideramos que la media ponderada obtenida consigue el objetivo de acercarse algo más a la realidad de los datos. "
   ]
  },
  {
   "attachments": {},
   "cell_type": "markdown",
   "metadata": {},
   "source": [
    "3. Interpretación de los resultados.\n",
    "- Ahora interpreta los resultados obtenidos de los diferentes estadísticos estudiados haciendo hincapié en aspectos interesantes de tus datos y explica lo mejor posible la naturaleza de los mismos."
   ]
  },
  {
   "attachments": {},
   "cell_type": "markdown",
   "metadata": {},
   "source": [
    "Estas son algunas de nuestras observaciones tras el estudio y trabajo con el dataset:\n",
    "\n",
    "- Exceptuando la columna de ratings el resto de nuestras columnas numéricas son muy asimétricas (como ejemplifican las diferencias entre sus medias y medianas) y tienen bastantes outliers.\n",
    "- Todas estas columnas numéricas están a su vez bastante relacionadas entre sí, en el sentido, de que comparten valores grandes o valores pequeños según el caso.\n",
    "- Hemos visto que además dos de las columnas \"Times Listed\" y \"Number of Reviews\", aunque tienen diferente nombres, los datos son iguales. \n",
    "- Se observa que el grueso del peso en los estadísticos lo llevan en realidad unos pocos valores, lo que ejemplifica el tipo de industria de que se trata, con unos pocos juegos con mucho peso (como sucede en otras, música, libros...). \n",
    "- Creemos que sería interesante explorar el dataset por intervalos porque quizás disminuiría este efecto y arrojaría información interesante y más amplia sobre la industria del videojuego. \n",
    "- Resulta interesante la media del rating, 3.7, con una moda de 4.1, que nos lleva a pensar si existe tendencia a dejar más opiniones cuando estás son positivas, contrariamente a lo que podemos pensar en otros ámbitos. "
   ]
  },
  {
   "attachments": {},
   "cell_type": "markdown",
   "metadata": {},
   "source": [
    "4. Guardamos el dataset modificado para conservar los cambios"
   ]
  },
  {
   "cell_type": "code",
   "execution_count": null,
   "metadata": {},
   "outputs": [],
   "source": [
    "games.to_csv(\"data/games.csv\")"
   ]
  }
 ],
 "metadata": {
  "kernelspec": {
   "display_name": "adalabenv",
   "language": "python",
   "name": "python3"
  },
  "language_info": {
   "codemirror_mode": {
    "name": "ipython",
    "version": 3
   },
   "file_extension": ".py",
   "mimetype": "text/x-python",
   "name": "python",
   "nbconvert_exporter": "python",
   "pygments_lexer": "ipython3",
   "version": "3.10.9"
  },
  "orig_nbformat": 4
 },
 "nbformat": 4,
 "nbformat_minor": 2
}
