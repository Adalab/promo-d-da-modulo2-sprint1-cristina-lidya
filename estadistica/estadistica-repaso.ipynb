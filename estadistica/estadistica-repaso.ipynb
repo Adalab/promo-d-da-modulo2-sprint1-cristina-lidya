{
 "cells": [
  {
   "attachments": {},
   "cell_type": "markdown",
   "metadata": {},
   "source": [
    "# **Ejercicios de pair programming Módulo 2 Sprint 1**\n",
    "## **Repaso**\n",
    "### **Conceptos de estadística y visualización**"
   ]
  },
  {
   "cell_type": "code",
   "execution_count": 1,
   "metadata": {},
   "outputs": [],
   "source": [
    "import numpy as np\n",
    "import pandas as pd\n",
    "import seaborn as sns\n",
    "from scipy.stats import skew"
   ]
  },
  {
   "cell_type": "code",
   "execution_count": 5,
   "metadata": {},
   "outputs": [],
   "source": [
    "games = pd.read_csv(\"data/games.csv\", index_col = 0)"
   ]
  },
  {
   "attachments": {},
   "cell_type": "markdown",
   "metadata": {},
   "source": [
    "Información del contenido de las columnas\n",
    "\n",
    "Title - Title of the Game.\n",
    "\n",
    "Release Date - Date of release of the game's first version\n",
    "\n",
    "Team - Game developer team\n",
    "\n",
    "Rating - Average rating\n",
    "\n",
    "Times Listed - Number of users who listed this game\n",
    "\n",
    "Number of Reviews - Number of reviews received from the users\n",
    "\n",
    "Genres - All genres pertaining to a specified game\n",
    "\n",
    "Summary - Summary provided by the team\n",
    "\n",
    "Reviews - User reviews\n",
    "\n",
    "Plays - Number of users that have played the game before\n",
    "\n",
    "Playing - Number of current users who are playing the game\n",
    "\n",
    "Backlogs - Number of users who have access but haven't started with the game yet\n",
    "\n",
    "Wishlist- Number of users who wish to play the game"
   ]
  },
  {
   "attachments": {},
   "cell_type": "markdown",
   "metadata": {},
   "source": [
    "1. Hacer una exploración inicial del dataframe.\n",
    " - ¿Cuántas filas tiene?\n",
    " - ¿Cuántas nulos tiene?\n",
    " - ¿Y duplicados?\n",
    " - ¿Qué tipo de datos tenemos en el dataframe?\n",
    " - etc.\n"
   ]
  },
  {
   "cell_type": "code",
   "execution_count": 6,
   "metadata": {},
   "outputs": [
    {
     "name": "stdout",
     "output_type": "stream",
     "text": [
      "<class 'pandas.core.frame.DataFrame'>\n",
      "Int64Index: 1512 entries, 0 to 1511\n",
      "Data columns (total 13 columns):\n",
      " #   Column             Non-Null Count  Dtype  \n",
      "---  ------             --------------  -----  \n",
      " 0   Title              1512 non-null   object \n",
      " 1   Release Date       1512 non-null   object \n",
      " 2   Team               1511 non-null   object \n",
      " 3   Rating             1499 non-null   float64\n",
      " 4   Times Listed       1512 non-null   int64  \n",
      " 5   Number of Reviews  1512 non-null   int64  \n",
      " 6   Genres             1512 non-null   object \n",
      " 7   Summary            1511 non-null   object \n",
      " 8   Reviews            1512 non-null   object \n",
      " 9   Plays              1512 non-null   int64  \n",
      " 10  Playing            1512 non-null   int64  \n",
      " 11  Backlogs           1512 non-null   int64  \n",
      " 12  Wishlist           1512 non-null   int64  \n",
      "dtypes: float64(1), int64(6), object(6)\n",
      "memory usage: 165.4+ KB\n"
     ]
    }
   ],
   "source": [
    "games.info()"
   ]
  },
  {
   "cell_type": "code",
   "execution_count": 10,
   "metadata": {},
   "outputs": [
    {
     "data": {
      "text/plain": [
       "382"
      ]
     },
     "execution_count": 10,
     "metadata": {},
     "output_type": "execute_result"
    }
   ],
   "source": [
    "games.duplicated().sum()"
   ]
  },
  {
   "cell_type": "code",
   "execution_count": 7,
   "metadata": {},
   "outputs": [
    {
     "data": {
      "text/html": [
       "<div>\n",
       "<style scoped>\n",
       "    .dataframe tbody tr th:only-of-type {\n",
       "        vertical-align: middle;\n",
       "    }\n",
       "\n",
       "    .dataframe tbody tr th {\n",
       "        vertical-align: top;\n",
       "    }\n",
       "\n",
       "    .dataframe thead th {\n",
       "        text-align: right;\n",
       "    }\n",
       "</style>\n",
       "<table border=\"1\" class=\"dataframe\">\n",
       "  <thead>\n",
       "    <tr style=\"text-align: right;\">\n",
       "      <th></th>\n",
       "      <th>Rating</th>\n",
       "      <th>Times Listed</th>\n",
       "      <th>Number of Reviews</th>\n",
       "      <th>Plays</th>\n",
       "      <th>Playing</th>\n",
       "      <th>Backlogs</th>\n",
       "      <th>Wishlist</th>\n",
       "    </tr>\n",
       "  </thead>\n",
       "  <tbody>\n",
       "    <tr>\n",
       "      <th>count</th>\n",
       "      <td>1499.000000</td>\n",
       "      <td>1512.000000</td>\n",
       "      <td>1512.000000</td>\n",
       "      <td>1512.000000</td>\n",
       "      <td>1512.000000</td>\n",
       "      <td>1512.000000</td>\n",
       "      <td>1512.000000</td>\n",
       "    </tr>\n",
       "    <tr>\n",
       "      <th>mean</th>\n",
       "      <td>3.719346</td>\n",
       "      <td>4352.792989</td>\n",
       "      <td>4352.792989</td>\n",
       "      <td>30211.316799</td>\n",
       "      <td>1035.236772</td>\n",
       "      <td>11244.839286</td>\n",
       "      <td>4866.254630</td>\n",
       "    </tr>\n",
       "    <tr>\n",
       "      <th>std</th>\n",
       "      <td>0.532608</td>\n",
       "      <td>7833.427462</td>\n",
       "      <td>7833.427462</td>\n",
       "      <td>26297.043441</td>\n",
       "      <td>3976.652291</td>\n",
       "      <td>14364.926482</td>\n",
       "      <td>8789.051912</td>\n",
       "    </tr>\n",
       "    <tr>\n",
       "      <th>min</th>\n",
       "      <td>0.700000</td>\n",
       "      <td>0.000000</td>\n",
       "      <td>0.000000</td>\n",
       "      <td>0.000000</td>\n",
       "      <td>0.000000</td>\n",
       "      <td>1.000000</td>\n",
       "      <td>2.000000</td>\n",
       "    </tr>\n",
       "    <tr>\n",
       "      <th>25%</th>\n",
       "      <td>3.400000</td>\n",
       "      <td>284.000000</td>\n",
       "      <td>284.000000</td>\n",
       "      <td>12000.000000</td>\n",
       "      <td>43.000000</td>\n",
       "      <td>461.750000</td>\n",
       "      <td>212.000000</td>\n",
       "    </tr>\n",
       "    <tr>\n",
       "      <th>50%</th>\n",
       "      <td>3.800000</td>\n",
       "      <td>551.000000</td>\n",
       "      <td>551.000000</td>\n",
       "      <td>21000.000000</td>\n",
       "      <td>112.500000</td>\n",
       "      <td>1000.000000</td>\n",
       "      <td>496.000000</td>\n",
       "    </tr>\n",
       "    <tr>\n",
       "      <th>75%</th>\n",
       "      <td>4.100000</td>\n",
       "      <td>1000.000000</td>\n",
       "      <td>1000.000000</td>\n",
       "      <td>45000.000000</td>\n",
       "      <td>298.000000</td>\n",
       "      <td>19000.000000</td>\n",
       "      <td>2000.000000</td>\n",
       "    </tr>\n",
       "    <tr>\n",
       "      <th>max</th>\n",
       "      <td>4.800000</td>\n",
       "      <td>43000.000000</td>\n",
       "      <td>43000.000000</td>\n",
       "      <td>99000.000000</td>\n",
       "      <td>38000.000000</td>\n",
       "      <td>83000.000000</td>\n",
       "      <td>54000.000000</td>\n",
       "    </tr>\n",
       "  </tbody>\n",
       "</table>\n",
       "</div>"
      ],
      "text/plain": [
       "            Rating  Times Listed  Number of Reviews         Plays  \\\n",
       "count  1499.000000   1512.000000        1512.000000   1512.000000   \n",
       "mean      3.719346   4352.792989        4352.792989  30211.316799   \n",
       "std       0.532608   7833.427462        7833.427462  26297.043441   \n",
       "min       0.700000      0.000000           0.000000      0.000000   \n",
       "25%       3.400000    284.000000         284.000000  12000.000000   \n",
       "50%       3.800000    551.000000         551.000000  21000.000000   \n",
       "75%       4.100000   1000.000000        1000.000000  45000.000000   \n",
       "max       4.800000  43000.000000       43000.000000  99000.000000   \n",
       "\n",
       "            Playing      Backlogs      Wishlist  \n",
       "count   1512.000000   1512.000000   1512.000000  \n",
       "mean    1035.236772  11244.839286   4866.254630  \n",
       "std     3976.652291  14364.926482   8789.051912  \n",
       "min        0.000000      1.000000      2.000000  \n",
       "25%       43.000000    461.750000    212.000000  \n",
       "50%      112.500000   1000.000000    496.000000  \n",
       "75%      298.000000  19000.000000   2000.000000  \n",
       "max    38000.000000  83000.000000  54000.000000  "
      ]
     },
     "execution_count": 7,
     "metadata": {},
     "output_type": "execute_result"
    }
   ],
   "source": [
    "games.describe()"
   ]
  },
  {
   "attachments": {},
   "cell_type": "markdown",
   "metadata": {},
   "source": [
    "    - El set tiene 1512 filas.\n",
    "    - Tiene 1 valor nulo en las columnas Team y Summary y 13 valores nulos en la columna Rating.\n",
    "    - Tenemos 382 filas duplicadas.\n",
    "    - En el dataframe tenemos datos numéricos de tipo int y float, y también datos de tipo object (string).\n",
    "    - Tenemos dos columnas, Times Listed y Number of Reviews, que son idénticas, y que podríamos considerar un duplicado. Con el método .describe comprobamos que tienen los mismos valores. Merecería la pena considerar la eliminación de una de las dos columnas.\n",
    "\n"
   ]
  },
  {
   "attachments": {},
   "cell_type": "markdown",
   "metadata": {},
   "source": [
    "2. Plantead una serie de preguntas como las que fuimos contestando en la clase invertida.\n"
   ]
  },
  {
   "attachments": {},
   "cell_type": "markdown",
   "metadata": {},
   "source": [
    " - ¿Cual es el juego mejor valorado? ¿Y el peor?\n",
    " - ¿Cual es la valoración que más se repite?\n",
    " - ¿Cual es la valoración media de los juegos? ¿Y la mediana? ¿Son muy diferentes?\n",
    " - ¿Qué correlaciones interesantes podemos destacar?\n",
    " - ¿Existen sesgos en la cantidad de valoraciones? ¿De qué tipo?"
   ]
  },
  {
   "cell_type": "markdown",
   "metadata": {},
   "source": [
    "3. Contestad a las preguntas planteadas usando los principales estadísticos que hemos aprendido y gráficas que mejor se ajusten."
   ]
  },
  {
   "attachments": {},
   "cell_type": "markdown",
   "metadata": {},
   "source": [
    " - ¿Cual es el juego mejor valorado? ¿Y el peor?"
   ]
  },
  {
   "cell_type": "code",
   "execution_count": 18,
   "metadata": {},
   "outputs": [
    {
     "data": {
      "text/html": [
       "<div>\n",
       "<style scoped>\n",
       "    .dataframe tbody tr th:only-of-type {\n",
       "        vertical-align: middle;\n",
       "    }\n",
       "\n",
       "    .dataframe tbody tr th {\n",
       "        vertical-align: top;\n",
       "    }\n",
       "\n",
       "    .dataframe thead th {\n",
       "        text-align: right;\n",
       "    }\n",
       "</style>\n",
       "<table border=\"1\" class=\"dataframe\">\n",
       "  <thead>\n",
       "    <tr style=\"text-align: right;\">\n",
       "      <th></th>\n",
       "      <th>index</th>\n",
       "      <th>Title</th>\n",
       "      <th>Release Date</th>\n",
       "      <th>Team</th>\n",
       "      <th>Rating</th>\n",
       "      <th>Times Listed</th>\n",
       "      <th>Number of Reviews</th>\n",
       "      <th>Genres</th>\n",
       "      <th>Summary</th>\n",
       "      <th>Reviews</th>\n",
       "      <th>Plays</th>\n",
       "      <th>Playing</th>\n",
       "      <th>Backlogs</th>\n",
       "      <th>Wishlist</th>\n",
       "    </tr>\n",
       "  </thead>\n",
       "  <tbody>\n",
       "    <tr>\n",
       "      <th>0</th>\n",
       "      <td>1252</td>\n",
       "      <td>Elden Ring: Shadow of the Erdtree</td>\n",
       "      <td>releases on TBD</td>\n",
       "      <td>['FromSoftware', 'Bandai Namco Entertainment']</td>\n",
       "      <td>4.8</td>\n",
       "      <td>18</td>\n",
       "      <td>18</td>\n",
       "      <td>['Adventure', 'RPG']</td>\n",
       "      <td>An expansion to Elden Ring setting players on ...</td>\n",
       "      <td>['I really loved that they integrated Family G...</td>\n",
       "      <td>1</td>\n",
       "      <td>0</td>\n",
       "      <td>39</td>\n",
       "      <td>146</td>\n",
       "    </tr>\n",
       "  </tbody>\n",
       "</table>\n",
       "</div>"
      ],
      "text/plain": [
       "   index                              Title     Release Date  \\\n",
       "0   1252  Elden Ring: Shadow of the Erdtree  releases on TBD   \n",
       "\n",
       "                                             Team  Rating  Times Listed  \\\n",
       "0  ['FromSoftware', 'Bandai Namco Entertainment']     4.8            18   \n",
       "\n",
       "   Number of Reviews                Genres  \\\n",
       "0                 18  ['Adventure', 'RPG']   \n",
       "\n",
       "                                             Summary  \\\n",
       "0  An expansion to Elden Ring setting players on ...   \n",
       "\n",
       "                                             Reviews  Plays  Playing  \\\n",
       "0  ['I really loved that they integrated Family G...      1        0   \n",
       "\n",
       "   Backlogs  Wishlist  \n",
       "0        39       146  "
      ]
     },
     "execution_count": 18,
     "metadata": {},
     "output_type": "execute_result"
    }
   ],
   "source": [
    "#Este es el juego mejor valorado.\n",
    "mejor_valorados = games.sort_values(by = \"Rating\", ascending = False).reset_index()\n",
    "mejor_valorados.head(1)"
   ]
  },
  {
   "cell_type": "code",
   "execution_count": 19,
   "metadata": {},
   "outputs": [
    {
     "data": {
      "text/html": [
       "<div>\n",
       "<style scoped>\n",
       "    .dataframe tbody tr th:only-of-type {\n",
       "        vertical-align: middle;\n",
       "    }\n",
       "\n",
       "    .dataframe tbody tr th {\n",
       "        vertical-align: top;\n",
       "    }\n",
       "\n",
       "    .dataframe thead th {\n",
       "        text-align: right;\n",
       "    }\n",
       "</style>\n",
       "<table border=\"1\" class=\"dataframe\">\n",
       "  <thead>\n",
       "    <tr style=\"text-align: right;\">\n",
       "      <th></th>\n",
       "      <th>index</th>\n",
       "      <th>Title</th>\n",
       "      <th>Release Date</th>\n",
       "      <th>Team</th>\n",
       "      <th>Rating</th>\n",
       "      <th>Times Listed</th>\n",
       "      <th>Number of Reviews</th>\n",
       "      <th>Genres</th>\n",
       "      <th>Summary</th>\n",
       "      <th>Reviews</th>\n",
       "      <th>Plays</th>\n",
       "      <th>Playing</th>\n",
       "      <th>Backlogs</th>\n",
       "      <th>Wishlist</th>\n",
       "    </tr>\n",
       "  </thead>\n",
       "  <tbody>\n",
       "    <tr>\n",
       "      <th>1511</th>\n",
       "      <td>1349</td>\n",
       "      <td>Pokémon Añil</td>\n",
       "      <td>Mar 23, 2023</td>\n",
       "      <td>['Eric Lost']</td>\n",
       "      <td>NaN</td>\n",
       "      <td>2</td>\n",
       "      <td>2</td>\n",
       "      <td>['RPG']</td>\n",
       "      <td>Pokémon Añil is the fourth video game created ...</td>\n",
       "      <td>['pokemon HWHAT', 'Finally, after all these ye...</td>\n",
       "      <td>1</td>\n",
       "      <td>0</td>\n",
       "      <td>1</td>\n",
       "      <td>7</td>\n",
       "    </tr>\n",
       "  </tbody>\n",
       "</table>\n",
       "</div>"
      ],
      "text/plain": [
       "      index         Title  Release Date           Team  Rating  Times Listed  \\\n",
       "1511   1349  Pokémon Añil  Mar 23, 2023  ['Eric Lost']     NaN             2   \n",
       "\n",
       "      Number of Reviews   Genres  \\\n",
       "1511                  2  ['RPG']   \n",
       "\n",
       "                                                Summary  \\\n",
       "1511  Pokémon Añil is the fourth video game created ...   \n",
       "\n",
       "                                                Reviews  Plays  Playing  \\\n",
       "1511  ['pokemon HWHAT', 'Finally, after all these ye...      1        0   \n",
       "\n",
       "      Backlogs  Wishlist  \n",
       "1511         1         7  "
      ]
     },
     "execution_count": 19,
     "metadata": {},
     "output_type": "execute_result"
    }
   ],
   "source": [
    "#Y este es el juego peor valorado\n",
    "mejor_valorados = games.sort_values(by = \"Rating\", ascending = False).reset_index()\n",
    "mejor_valorados.tail(1)"
   ]
  },
  {
   "cell_type": "code",
   "execution_count": 21,
   "metadata": {},
   "outputs": [],
   "source": [
    "#Como el método anterior nos devuelve un nulo, y analizando la cantidad de nulos que tenemos\n",
    "# y su relevancia, decidimos eliminar los 13 (como máximo 15) registros con valores nulos.\n",
    "\n",
    "games = games.dropna()"
   ]
  },
  {
   "cell_type": "code",
   "execution_count": 23,
   "metadata": {},
   "outputs": [
    {
     "data": {
      "text/html": [
       "<div>\n",
       "<style scoped>\n",
       "    .dataframe tbody tr th:only-of-type {\n",
       "        vertical-align: middle;\n",
       "    }\n",
       "\n",
       "    .dataframe tbody tr th {\n",
       "        vertical-align: top;\n",
       "    }\n",
       "\n",
       "    .dataframe thead th {\n",
       "        text-align: right;\n",
       "    }\n",
       "</style>\n",
       "<table border=\"1\" class=\"dataframe\">\n",
       "  <thead>\n",
       "    <tr style=\"text-align: right;\">\n",
       "      <th></th>\n",
       "      <th>index</th>\n",
       "      <th>Title</th>\n",
       "      <th>Release Date</th>\n",
       "      <th>Team</th>\n",
       "      <th>Rating</th>\n",
       "      <th>Times Listed</th>\n",
       "      <th>Number of Reviews</th>\n",
       "      <th>Genres</th>\n",
       "      <th>Summary</th>\n",
       "      <th>Reviews</th>\n",
       "      <th>Plays</th>\n",
       "      <th>Playing</th>\n",
       "      <th>Backlogs</th>\n",
       "      <th>Wishlist</th>\n",
       "    </tr>\n",
       "  </thead>\n",
       "  <tbody>\n",
       "    <tr>\n",
       "      <th>1497</th>\n",
       "      <td>1458</td>\n",
       "      <td>Superman: The New Superman Adventures</td>\n",
       "      <td>May 31, 1999</td>\n",
       "      <td>['Titus Software', 'WB Games']</td>\n",
       "      <td>0.7</td>\n",
       "      <td>69</td>\n",
       "      <td>69</td>\n",
       "      <td>['Adventure', 'Shooter']</td>\n",
       "      <td>Superman: The New Adventures, often referred t...</td>\n",
       "      <td>[\"Did you know there's a multi-player mode?  N...</td>\n",
       "      <td>859</td>\n",
       "      <td>2</td>\n",
       "      <td>76</td>\n",
       "      <td>55</td>\n",
       "    </tr>\n",
       "  </tbody>\n",
       "</table>\n",
       "</div>"
      ],
      "text/plain": [
       "      index                                  Title  Release Date  \\\n",
       "1497   1458  Superman: The New Superman Adventures  May 31, 1999   \n",
       "\n",
       "                                Team  Rating  Times Listed  Number of Reviews  \\\n",
       "1497  ['Titus Software', 'WB Games']     0.7            69                 69   \n",
       "\n",
       "                        Genres  \\\n",
       "1497  ['Adventure', 'Shooter']   \n",
       "\n",
       "                                                Summary  \\\n",
       "1497  Superman: The New Adventures, often referred t...   \n",
       "\n",
       "                                                Reviews  Plays  Playing  \\\n",
       "1497  [\"Did you know there's a multi-player mode?  N...    859        2   \n",
       "\n",
       "      Backlogs  Wishlist  \n",
       "1497        76        55  "
      ]
     },
     "execution_count": 23,
     "metadata": {},
     "output_type": "execute_result"
    }
   ],
   "source": [
    "#Volvemos a ejecutar el código anterior.\n",
    "mejor_valorados = games.sort_values(by = \"Rating\", ascending = False).reset_index()\n",
    "mejor_valorados.tail(1)"
   ]
  },
  {
   "attachments": {},
   "cell_type": "markdown",
   "metadata": {},
   "source": [
    " - ¿Cual es la valoración que más se repite?"
   ]
  },
  {
   "cell_type": "code",
   "execution_count": 24,
   "metadata": {},
   "outputs": [
    {
     "data": {
      "text/plain": [
       "0    4.1\n",
       "Name: Rating, dtype: float64"
      ]
     },
     "execution_count": 24,
     "metadata": {},
     "output_type": "execute_result"
    }
   ],
   "source": [
    "games[\"Rating\"].mode()"
   ]
  },
  {
   "attachments": {},
   "cell_type": "markdown",
   "metadata": {},
   "source": [
    " - ¿Cual es la valoración media de los juegos? ¿Y la mediana? ¿Son muy diferentes?"
   ]
  },
  {
   "cell_type": "code",
   "execution_count": 25,
   "metadata": {},
   "outputs": [
    {
     "data": {
      "text/plain": [
       "3.7200267022696933"
      ]
     },
     "execution_count": 25,
     "metadata": {},
     "output_type": "execute_result"
    }
   ],
   "source": [
    "games[\"Rating\"].mean()"
   ]
  },
  {
   "cell_type": "code",
   "execution_count": 26,
   "metadata": {},
   "outputs": [
    {
     "data": {
      "text/plain": [
       "3.8"
      ]
     },
     "execution_count": 26,
     "metadata": {},
     "output_type": "execute_result"
    }
   ],
   "source": [
    "games[\"Rating\"].median()"
   ]
  },
  {
   "attachments": {},
   "cell_type": "markdown",
   "metadata": {},
   "source": [
    "    La media y la mediana son muy similares, lo que nos indica que no hay mucha dispersión en nuestros datos."
   ]
  },
  {
   "attachments": {},
   "cell_type": "markdown",
   "metadata": {},
   "source": [
    " - ¿Qué correlaciones interesantes podemos destacar?"
   ]
  },
  {
   "cell_type": "code",
   "execution_count": 27,
   "metadata": {},
   "outputs": [
    {
     "name": "stderr",
     "output_type": "stream",
     "text": [
      "/tmp/ipykernel_1239/1444526017.py:1: FutureWarning: The default value of numeric_only in DataFrame.corr is deprecated. In a future version, it will default to False. Select only valid columns or specify the value of numeric_only to silence this warning.\n",
      "  games.corr()\n"
     ]
    },
    {
     "data": {
      "text/html": [
       "<div>\n",
       "<style scoped>\n",
       "    .dataframe tbody tr th:only-of-type {\n",
       "        vertical-align: middle;\n",
       "    }\n",
       "\n",
       "    .dataframe tbody tr th {\n",
       "        vertical-align: top;\n",
       "    }\n",
       "\n",
       "    .dataframe thead th {\n",
       "        text-align: right;\n",
       "    }\n",
       "</style>\n",
       "<table border=\"1\" class=\"dataframe\">\n",
       "  <thead>\n",
       "    <tr style=\"text-align: right;\">\n",
       "      <th></th>\n",
       "      <th>Rating</th>\n",
       "      <th>Times Listed</th>\n",
       "      <th>Number of Reviews</th>\n",
       "      <th>Plays</th>\n",
       "      <th>Playing</th>\n",
       "      <th>Backlogs</th>\n",
       "      <th>Wishlist</th>\n",
       "    </tr>\n",
       "  </thead>\n",
       "  <tbody>\n",
       "    <tr>\n",
       "      <th>Rating</th>\n",
       "      <td>1.000000</td>\n",
       "      <td>0.392334</td>\n",
       "      <td>0.392334</td>\n",
       "      <td>-0.028368</td>\n",
       "      <td>0.150869</td>\n",
       "      <td>0.393240</td>\n",
       "      <td>0.375148</td>\n",
       "    </tr>\n",
       "    <tr>\n",
       "      <th>Times Listed</th>\n",
       "      <td>0.392334</td>\n",
       "      <td>1.000000</td>\n",
       "      <td>1.000000</td>\n",
       "      <td>0.060284</td>\n",
       "      <td>0.477238</td>\n",
       "      <td>0.648160</td>\n",
       "      <td>0.595855</td>\n",
       "    </tr>\n",
       "    <tr>\n",
       "      <th>Number of Reviews</th>\n",
       "      <td>0.392334</td>\n",
       "      <td>1.000000</td>\n",
       "      <td>1.000000</td>\n",
       "      <td>0.060284</td>\n",
       "      <td>0.477238</td>\n",
       "      <td>0.648160</td>\n",
       "      <td>0.595855</td>\n",
       "    </tr>\n",
       "    <tr>\n",
       "      <th>Plays</th>\n",
       "      <td>-0.028368</td>\n",
       "      <td>0.060284</td>\n",
       "      <td>0.060284</td>\n",
       "      <td>1.000000</td>\n",
       "      <td>-0.033665</td>\n",
       "      <td>0.180434</td>\n",
       "      <td>0.132859</td>\n",
       "    </tr>\n",
       "    <tr>\n",
       "      <th>Playing</th>\n",
       "      <td>0.150869</td>\n",
       "      <td>0.477238</td>\n",
       "      <td>0.477238</td>\n",
       "      <td>-0.033665</td>\n",
       "      <td>1.000000</td>\n",
       "      <td>0.428955</td>\n",
       "      <td>0.404397</td>\n",
       "    </tr>\n",
       "    <tr>\n",
       "      <th>Backlogs</th>\n",
       "      <td>0.393240</td>\n",
       "      <td>0.648160</td>\n",
       "      <td>0.648160</td>\n",
       "      <td>0.180434</td>\n",
       "      <td>0.428955</td>\n",
       "      <td>1.000000</td>\n",
       "      <td>0.634397</td>\n",
       "    </tr>\n",
       "    <tr>\n",
       "      <th>Wishlist</th>\n",
       "      <td>0.375148</td>\n",
       "      <td>0.595855</td>\n",
       "      <td>0.595855</td>\n",
       "      <td>0.132859</td>\n",
       "      <td>0.404397</td>\n",
       "      <td>0.634397</td>\n",
       "      <td>1.000000</td>\n",
       "    </tr>\n",
       "  </tbody>\n",
       "</table>\n",
       "</div>"
      ],
      "text/plain": [
       "                     Rating  Times Listed  Number of Reviews     Plays  \\\n",
       "Rating             1.000000      0.392334           0.392334 -0.028368   \n",
       "Times Listed       0.392334      1.000000           1.000000  0.060284   \n",
       "Number of Reviews  0.392334      1.000000           1.000000  0.060284   \n",
       "Plays             -0.028368      0.060284           0.060284  1.000000   \n",
       "Playing            0.150869      0.477238           0.477238 -0.033665   \n",
       "Backlogs           0.393240      0.648160           0.648160  0.180434   \n",
       "Wishlist           0.375148      0.595855           0.595855  0.132859   \n",
       "\n",
       "                    Playing  Backlogs  Wishlist  \n",
       "Rating             0.150869  0.393240  0.375148  \n",
       "Times Listed       0.477238  0.648160  0.595855  \n",
       "Number of Reviews  0.477238  0.648160  0.595855  \n",
       "Plays             -0.033665  0.180434  0.132859  \n",
       "Playing            1.000000  0.428955  0.404397  \n",
       "Backlogs           0.428955  1.000000  0.634397  \n",
       "Wishlist           0.404397  0.634397  1.000000  "
      ]
     },
     "execution_count": 27,
     "metadata": {},
     "output_type": "execute_result"
    }
   ],
   "source": [
    "games.corr()"
   ]
  },
  {
   "attachments": {},
   "cell_type": "markdown",
   "metadata": {},
   "source": [
    "    No vemos correlaciones particularmente interesantes. Las únicas excepciones, quizás, serían las correlaciones moderadas de carácter positivo entre las columnas Backlogs y Wishlist, y las columnas Backlogs y Number of Reviews. Sin embargo, los índices no nos permiten saber a ciencia cierta si hay una tendencia interesante que destacar al respecto o si estos valores se deben al azar. Haría falta un estudio con mayor profundidad para determinarlo."
   ]
  },
  {
   "attachments": {},
   "cell_type": "markdown",
   "metadata": {},
   "source": [
    " - ¿Existen sesgos en la cantidad de jugadores actuales? ¿De qué tipo?"
   ]
  },
  {
   "cell_type": "code",
   "execution_count": 33,
   "metadata": {},
   "outputs": [
    {
     "data": {
      "text/plain": [
       "-1.0066005085340315"
      ]
     },
     "execution_count": 33,
     "metadata": {},
     "output_type": "execute_result"
    }
   ],
   "source": [
    "sesgo_reviews = skew(games[\"Rating\"])\n",
    "sesgo_reviews"
   ]
  },
  {
   "cell_type": "code",
   "execution_count": 34,
   "metadata": {},
   "outputs": [
    {
     "name": "stderr",
     "output_type": "stream",
     "text": [
      "/tmp/ipykernel_1239/4025058001.py:1: UserWarning: \n",
      "\n",
      "`distplot` is a deprecated function and will be removed in seaborn v0.14.0.\n",
      "\n",
      "Please adapt your code to use either `displot` (a figure-level function with\n",
      "similar flexibility) or `histplot` (an axes-level function for histograms).\n",
      "\n",
      "For a guide to updating your code to use the new functions, please see\n",
      "https://gist.github.com/mwaskom/de44147ed2974457ad6372750bbe5751\n",
      "\n",
      "  sns.distplot(games[\"Rating\"])\n"
     ]
    },
    {
     "data": {
      "text/plain": [
       "<AxesSubplot:xlabel='Rating', ylabel='Density'>"
      ]
     },
     "execution_count": 34,
     "metadata": {},
     "output_type": "execute_result"
    },
    {
     "data": {
      "image/png": "[encoded data removed]",
      "text/plain": [
       "<Figure size 640x480 with 1 Axes>"
      ]
     },
     "metadata": {},
     "output_type": "display_data"
    }
   ],
   "source": [
    "sns.distplot(games[\"Rating\"])"
   ]
  },
  {
   "attachments": {},
   "cell_type": "markdown",
   "metadata": {},
   "source": [
    "    La cola izquierda es más larga que la derecha. Esto nos indica que hay un sesgo que"
   ]
  }
 ],
 "metadata": {
  "kernelspec": {
   "display_name": "adalabenv",
   "language": "python",
   "name": "python3"
  },
  "language_info": {
   "codemirror_mode": {
    "name": "ipython",
    "version": 3
   },
   "file_extension": ".py",
   "mimetype": "text/x-python",
   "name": "python",
   "nbconvert_exporter": "python",
   "pygments_lexer": "ipython3",
   "version": "3.10.9"
  },
  "orig_nbformat": 4
 },
 "nbformat": 4,
 "nbformat_minor": 2
}
