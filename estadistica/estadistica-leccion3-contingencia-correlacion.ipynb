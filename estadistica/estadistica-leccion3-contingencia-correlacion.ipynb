{
 "cells": [
  {
   "attachments": {},
   "cell_type": "markdown",
   "metadata": {},
   "source": [
    "# **Ejercicios de pair programming Módulo 2 Sprint 1**\n",
    "## **Estadística: Lección 3**\n",
    "### **Tablas de contingencia, correlación, sesgos e intervalos de confianza**"
   ]
  },
  {
   "cell_type": "code",
   "execution_count": 31,
   "metadata": {},
   "outputs": [],
   "source": [
    "import numpy as np\n",
    "import pandas as pd\n",
    "import seaborn as sns\n",
    "from scipy.stats import skew\n",
    "import scipy.stats as st"
   ]
  },
  {
   "cell_type": "code",
   "execution_count": 10,
   "metadata": {},
   "outputs": [],
   "source": [
    "games = pd.read_csv(\"data/games.csv\", index_col = 0)"
   ]
  },
  {
   "cell_type": "code",
   "execution_count": 11,
   "metadata": {},
   "outputs": [
    {
     "data": {
      "text/html": [
       "<div>\n",
       "<style scoped>\n",
       "    .dataframe tbody tr th:only-of-type {\n",
       "        vertical-align: middle;\n",
       "    }\n",
       "\n",
       "    .dataframe tbody tr th {\n",
       "        vertical-align: top;\n",
       "    }\n",
       "\n",
       "    .dataframe thead th {\n",
       "        text-align: right;\n",
       "    }\n",
       "</style>\n",
       "<table border=\"1\" class=\"dataframe\">\n",
       "  <thead>\n",
       "    <tr style=\"text-align: right;\">\n",
       "      <th></th>\n",
       "      <th>Title</th>\n",
       "      <th>Release Date</th>\n",
       "      <th>Team</th>\n",
       "      <th>Rating</th>\n",
       "      <th>Times Listed</th>\n",
       "      <th>Number of Reviews</th>\n",
       "      <th>Genres</th>\n",
       "      <th>Summary</th>\n",
       "      <th>Reviews</th>\n",
       "      <th>Plays</th>\n",
       "      <th>Playing</th>\n",
       "      <th>Backlogs</th>\n",
       "      <th>Wishlist</th>\n",
       "    </tr>\n",
       "  </thead>\n",
       "  <tbody>\n",
       "    <tr>\n",
       "      <th>0</th>\n",
       "      <td>Elden Ring</td>\n",
       "      <td>Feb 25, 2022</td>\n",
       "      <td>['Bandai Namco Entertainment', 'FromSoftware']</td>\n",
       "      <td>4.5</td>\n",
       "      <td>39000</td>\n",
       "      <td>39000</td>\n",
       "      <td>['Adventure', 'RPG']</td>\n",
       "      <td>Elden Ring is a fantasy, action and open world...</td>\n",
       "      <td>[\"The first playthrough of elden ring is one o...</td>\n",
       "      <td>17000</td>\n",
       "      <td>38000</td>\n",
       "      <td>46000</td>\n",
       "      <td>48000</td>\n",
       "    </tr>\n",
       "  </tbody>\n",
       "</table>\n",
       "</div>"
      ],
      "text/plain": [
       "        Title  Release Date                                            Team  \\\n",
       "0  Elden Ring  Feb 25, 2022  ['Bandai Namco Entertainment', 'FromSoftware']   \n",
       "\n",
       "   Rating  Times Listed  Number of Reviews                Genres  \\\n",
       "0     4.5         39000              39000  ['Adventure', 'RPG']   \n",
       "\n",
       "                                             Summary  \\\n",
       "0  Elden Ring is a fantasy, action and open world...   \n",
       "\n",
       "                                             Reviews  Plays  Playing  \\\n",
       "0  [\"The first playthrough of elden ring is one o...  17000    38000   \n",
       "\n",
       "   Backlogs  Wishlist  \n",
       "0     46000     48000  "
      ]
     },
     "execution_count": 11,
     "metadata": {},
     "output_type": "execute_result"
    }
   ],
   "source": [
    "games.head(1)"
   ]
  },
  {
   "attachments": {},
   "cell_type": "markdown",
   "metadata": {},
   "source": [
    "Información del contenido de las columnas\n",
    "\n",
    "Title - Title of the Game.\n",
    "\n",
    "Release Date - Date of release of the game's first version\n",
    "\n",
    "Team - Game developer team\n",
    "\n",
    "Rating - Average rating\n",
    "\n",
    "Times Listed - Number of users who listed this game\n",
    "\n",
    "Number of Reviews - Number of reviews received from the users\n",
    "\n",
    "Genres - All genres pertaining to a specified game\n",
    "\n",
    "Summary - Summary provided by the team\n",
    "\n",
    "Reviews - User reviews\n",
    "\n",
    "Plays - Number of users that have played the game before\n",
    "\n",
    "Playing - Number of current users who are playing the game\n",
    "\n",
    "Backlogs - Number of users who have access but haven't started with the game yet\n",
    "\n",
    "Wishlist- Number of users who wish to play the game"
   ]
  },
  {
   "attachments": {},
   "cell_type": "markdown",
   "metadata": {},
   "source": [
    "1. Extraer los siguentes estadísticos del conjunto de datos para varias de las varibles disponibles:\n",
    "- Tabla de contingencia\n"
   ]
  },
  {
   "cell_type": "code",
   "execution_count": 12,
   "metadata": {},
   "outputs": [],
   "source": [
    "# No tenemos \"buenas\" variables categóricas para buscar correlaciones por lo que vamos a categorizar dos variables númericas, \"rating\" y \"number of reviews\" que apriori pensamos que pueden tener relación."
   ]
  },
  {
   "cell_type": "code",
   "execution_count": 13,
   "metadata": {},
   "outputs": [],
   "source": [
    "def cambiar_rating(col):\n",
    "    if col < 2.50:\n",
    "        return \"suspenso\"\n",
    "    elif col < 3.50:\n",
    "        return \"aprobado\"\n",
    "    elif col <= 4.50:\n",
    "        return \"notable\"\n",
    "    else:\n",
    "        return \"sobresaliente\""
   ]
  },
  {
   "cell_type": "code",
   "execution_count": 14,
   "metadata": {},
   "outputs": [],
   "source": [
    "games[\"notas_rating\"] = games[\"Rating\"].apply(cambiar_rating)"
   ]
  },
  {
   "cell_type": "code",
   "execution_count": 15,
   "metadata": {},
   "outputs": [],
   "source": [
    "def cambiar_reviews(col):\n",
    "    if col < 100:\n",
    "        return \"muy poco popular\"\n",
    "    elif col < 500:\n",
    "        return \"poco popular\"\n",
    "    elif col <= 1000:\n",
    "        return \"bastante popular\"\n",
    "    else:\n",
    "        return \"muy popular\""
   ]
  },
  {
   "cell_type": "code",
   "execution_count": 16,
   "metadata": {},
   "outputs": [],
   "source": [
    "games[\"popularidad\"] = games[\"Number of Reviews\"].apply(cambiar_reviews)"
   ]
  },
  {
   "cell_type": "code",
   "execution_count": 17,
   "metadata": {},
   "outputs": [
    {
     "data": {
      "text/html": [
       "<div>\n",
       "<style scoped>\n",
       "    .dataframe tbody tr th:only-of-type {\n",
       "        vertical-align: middle;\n",
       "    }\n",
       "\n",
       "    .dataframe tbody tr th {\n",
       "        vertical-align: top;\n",
       "    }\n",
       "\n",
       "    .dataframe thead th {\n",
       "        text-align: right;\n",
       "    }\n",
       "</style>\n",
       "<table border=\"1\" class=\"dataframe\">\n",
       "  <thead>\n",
       "    <tr style=\"text-align: right;\">\n",
       "      <th>popularidad</th>\n",
       "      <th>bastante popular</th>\n",
       "      <th>muy poco popular</th>\n",
       "      <th>muy popular</th>\n",
       "      <th>poco popular</th>\n",
       "    </tr>\n",
       "    <tr>\n",
       "      <th>notas_rating</th>\n",
       "      <th></th>\n",
       "      <th></th>\n",
       "      <th></th>\n",
       "      <th></th>\n",
       "    </tr>\n",
       "  </thead>\n",
       "  <tbody>\n",
       "    <tr>\n",
       "      <th>aprobado</th>\n",
       "      <td>88</td>\n",
       "      <td>32</td>\n",
       "      <td>15</td>\n",
       "      <td>214</td>\n",
       "    </tr>\n",
       "    <tr>\n",
       "      <th>notable</th>\n",
       "      <td>378</td>\n",
       "      <td>34</td>\n",
       "      <td>334</td>\n",
       "      <td>344</td>\n",
       "    </tr>\n",
       "    <tr>\n",
       "      <th>sobresaliente</th>\n",
       "      <td>3</td>\n",
       "      <td>9</td>\n",
       "      <td>9</td>\n",
       "      <td>17</td>\n",
       "    </tr>\n",
       "    <tr>\n",
       "      <th>suspenso</th>\n",
       "      <td>6</td>\n",
       "      <td>8</td>\n",
       "      <td>0</td>\n",
       "      <td>21</td>\n",
       "    </tr>\n",
       "  </tbody>\n",
       "</table>\n",
       "</div>"
      ],
      "text/plain": [
       "popularidad    bastante popular  muy poco popular  muy popular  poco popular\n",
       "notas_rating                                                                \n",
       "aprobado                     88                32           15           214\n",
       "notable                     378                34          334           344\n",
       "sobresaliente                 3                 9            9            17\n",
       "suspenso                      6                 8            0            21"
      ]
     },
     "execution_count": 17,
     "metadata": {},
     "output_type": "execute_result"
    }
   ],
   "source": [
    "games_crosstab = pd.crosstab(games[\"notas_rating\"], games[\"popularidad\"])\n",
    "games_crosstab"
   ]
  },
  {
   "cell_type": "code",
   "execution_count": 18,
   "metadata": {},
   "outputs": [
    {
     "data": {
      "text/plain": [
       "poco popular        596\n",
       "bastante popular    475\n",
       "muy popular         358\n",
       "muy poco popular     83\n",
       "Name: popularidad, dtype: int64"
      ]
     },
     "execution_count": 18,
     "metadata": {},
     "output_type": "execute_result"
    }
   ],
   "source": [
    "games[\"popularidad\"].value_counts()"
   ]
  },
  {
   "attachments": {},
   "cell_type": "markdown",
   "metadata": {},
   "source": [
    "- Coeficiente de correlación de las variables numéricas del dataset.\n"
   ]
  },
  {
   "cell_type": "code",
   "execution_count": 19,
   "metadata": {},
   "outputs": [
    {
     "data": {
      "text/html": [
       "<div>\n",
       "<style scoped>\n",
       "    .dataframe tbody tr th:only-of-type {\n",
       "        vertical-align: middle;\n",
       "    }\n",
       "\n",
       "    .dataframe tbody tr th {\n",
       "        vertical-align: top;\n",
       "    }\n",
       "\n",
       "    .dataframe thead th {\n",
       "        text-align: right;\n",
       "    }\n",
       "</style>\n",
       "<table border=\"1\" class=\"dataframe\">\n",
       "  <thead>\n",
       "    <tr style=\"text-align: right;\">\n",
       "      <th></th>\n",
       "      <th>Rating</th>\n",
       "      <th>Times Listed</th>\n",
       "      <th>Number of Reviews</th>\n",
       "      <th>Plays</th>\n",
       "      <th>Playing</th>\n",
       "      <th>Backlogs</th>\n",
       "      <th>Wishlist</th>\n",
       "    </tr>\n",
       "  </thead>\n",
       "  <tbody>\n",
       "    <tr>\n",
       "      <th>Rating</th>\n",
       "      <td>1.000000</td>\n",
       "      <td>0.392524</td>\n",
       "      <td>0.392524</td>\n",
       "      <td>-0.026843</td>\n",
       "      <td>0.151015</td>\n",
       "      <td>0.393681</td>\n",
       "      <td>0.375355</td>\n",
       "    </tr>\n",
       "    <tr>\n",
       "      <th>Times Listed</th>\n",
       "      <td>0.392524</td>\n",
       "      <td>1.000000</td>\n",
       "      <td>1.000000</td>\n",
       "      <td>0.065578</td>\n",
       "      <td>0.477747</td>\n",
       "      <td>0.649100</td>\n",
       "      <td>0.585801</td>\n",
       "    </tr>\n",
       "    <tr>\n",
       "      <th>Number of Reviews</th>\n",
       "      <td>0.392524</td>\n",
       "      <td>1.000000</td>\n",
       "      <td>1.000000</td>\n",
       "      <td>0.065578</td>\n",
       "      <td>0.477747</td>\n",
       "      <td>0.649100</td>\n",
       "      <td>0.585801</td>\n",
       "    </tr>\n",
       "    <tr>\n",
       "      <th>Plays</th>\n",
       "      <td>-0.026843</td>\n",
       "      <td>0.065578</td>\n",
       "      <td>0.065578</td>\n",
       "      <td>1.000000</td>\n",
       "      <td>-0.030658</td>\n",
       "      <td>0.186266</td>\n",
       "      <td>0.126875</td>\n",
       "    </tr>\n",
       "    <tr>\n",
       "      <th>Playing</th>\n",
       "      <td>0.151015</td>\n",
       "      <td>0.477747</td>\n",
       "      <td>0.477747</td>\n",
       "      <td>-0.030658</td>\n",
       "      <td>1.000000</td>\n",
       "      <td>0.429380</td>\n",
       "      <td>0.398100</td>\n",
       "    </tr>\n",
       "    <tr>\n",
       "      <th>Backlogs</th>\n",
       "      <td>0.393681</td>\n",
       "      <td>0.649100</td>\n",
       "      <td>0.649100</td>\n",
       "      <td>0.186266</td>\n",
       "      <td>0.429380</td>\n",
       "      <td>1.000000</td>\n",
       "      <td>0.626160</td>\n",
       "    </tr>\n",
       "    <tr>\n",
       "      <th>Wishlist</th>\n",
       "      <td>0.375355</td>\n",
       "      <td>0.585801</td>\n",
       "      <td>0.585801</td>\n",
       "      <td>0.126875</td>\n",
       "      <td>0.398100</td>\n",
       "      <td>0.626160</td>\n",
       "      <td>1.000000</td>\n",
       "    </tr>\n",
       "  </tbody>\n",
       "</table>\n",
       "</div>"
      ],
      "text/plain": [
       "                     Rating  Times Listed  Number of Reviews     Plays  \\\n",
       "Rating             1.000000      0.392524           0.392524 -0.026843   \n",
       "Times Listed       0.392524      1.000000           1.000000  0.065578   \n",
       "Number of Reviews  0.392524      1.000000           1.000000  0.065578   \n",
       "Plays             -0.026843      0.065578           0.065578  1.000000   \n",
       "Playing            0.151015      0.477747           0.477747 -0.030658   \n",
       "Backlogs           0.393681      0.649100           0.649100  0.186266   \n",
       "Wishlist           0.375355      0.585801           0.585801  0.126875   \n",
       "\n",
       "                    Playing  Backlogs  Wishlist  \n",
       "Rating             0.151015  0.393681  0.375355  \n",
       "Times Listed       0.477747  0.649100  0.585801  \n",
       "Number of Reviews  0.477747  0.649100  0.585801  \n",
       "Plays             -0.030658  0.186266  0.126875  \n",
       "Playing            1.000000  0.429380  0.398100  \n",
       "Backlogs           0.429380  1.000000  0.626160  \n",
       "Wishlist           0.398100  0.626160  1.000000  "
      ]
     },
     "execution_count": 19,
     "metadata": {},
     "output_type": "execute_result"
    }
   ],
   "source": [
    "games_corr = games.corr(numeric_only = True)\n",
    "games_corr"
   ]
  },
  {
   "attachments": {},
   "cell_type": "markdown",
   "metadata": {},
   "source": [
    "- Sesgos de alguna de las variables numéricas del dataset.\n"
   ]
  },
  {
   "cell_type": "code",
   "execution_count": 20,
   "metadata": {},
   "outputs": [
    {
     "data": {
      "text/plain": [
       "2.006265605802721"
      ]
     },
     "execution_count": 20,
     "metadata": {},
     "output_type": "execute_result"
    }
   ],
   "source": [
    "games_sesgo_nr = skew(games[\"Number of Reviews\"])\n",
    "games_sesgo_nr"
   ]
  },
  {
   "cell_type": "code",
   "execution_count": 21,
   "metadata": {},
   "outputs": [
    {
     "data": {
      "text/plain": [
       "<seaborn.axisgrid.FacetGrid at 0x7fd2e8ff81f0>"
      ]
     },
     "execution_count": 21,
     "metadata": {},
     "output_type": "execute_result"
    },
    {
     "data": {
      "image/png": "[encoded data removed]",
      "text/plain": [
       "<Figure size 360x360 with 1 Axes>"
      ]
     },
     "metadata": {
      "needs_background": "light"
     },
     "output_type": "display_data"
    }
   ],
   "source": [
    "sns.displot(games[\"Number of Reviews\"], color = \"b\", kde = True)"
   ]
  },
  {
   "cell_type": "code",
   "execution_count": 22,
   "metadata": {},
   "outputs": [
    {
     "data": {
      "text/plain": [
       "0.9827053959218762"
      ]
     },
     "execution_count": 22,
     "metadata": {},
     "output_type": "execute_result"
    }
   ],
   "source": [
    "games_sesgo_pl = skew(games[\"Plays\"])\n",
    "games_sesgo_pl"
   ]
  },
  {
   "cell_type": "code",
   "execution_count": 25,
   "metadata": {},
   "outputs": [
    {
     "data": {
      "text/plain": [
       "<seaborn.axisgrid.FacetGrid at 0x7fd2d915f370>"
      ]
     },
     "execution_count": 25,
     "metadata": {},
     "output_type": "execute_result"
    },
    {
     "data": {
      "image/png": "[encoded data removed]",
      "text/plain": [
       "<Figure size 360x360 with 1 Axes>"
      ]
     },
     "metadata": {
      "needs_background": "light"
     },
     "output_type": "display_data"
    }
   ],
   "source": [
    "sns.displot(games[\"Plays\"], color = \"b\", kde = True)"
   ]
  },
  {
   "cell_type": "code",
   "execution_count": 23,
   "metadata": {},
   "outputs": [
    {
     "data": {
      "text/plain": [
       "1.9988946192526016"
      ]
     },
     "execution_count": 23,
     "metadata": {},
     "output_type": "execute_result"
    }
   ],
   "source": [
    "games_sesgo_wl = skew(games[\"Wishlist\"])\n",
    "games_sesgo_wl"
   ]
  },
  {
   "cell_type": "code",
   "execution_count": 27,
   "metadata": {},
   "outputs": [
    {
     "data": {
      "text/plain": [
       "<seaborn.axisgrid.FacetGrid at 0x7fd2e8ef43a0>"
      ]
     },
     "execution_count": 27,
     "metadata": {},
     "output_type": "execute_result"
    },
    {
     "data": {
      "image/png": "[encoded data removed]",
      "text/plain": [
       "<Figure size 360x360 with 1 Axes>"
      ]
     },
     "metadata": {
      "needs_background": "light"
     },
     "output_type": "display_data"
    }
   ],
   "source": [
    "sns.displot(games[\"Wishlist\"], color = \"lime\", kde = True)"
   ]
  },
  {
   "attachments": {},
   "cell_type": "markdown",
   "metadata": {},
   "source": [
    "- Intervalo de confianza de algunas de las variables numéricas del dataset\n"
   ]
  },
  {
   "cell_type": "code",
   "execution_count": 36,
   "metadata": {},
   "outputs": [
    {
     "data": {
      "text/plain": [
       "(3957.6340498788836, 4747.951928957096)"
      ]
     },
     "execution_count": 36,
     "metadata": {},
     "output_type": "execute_result"
    }
   ],
   "source": [
    "# El tamaño de la muestra es 1512. Establecemos un nivel de confianza de 95%. \n",
    "\n",
    "\n",
    "intervalo_confianza_nr = st.t.interval(alpha=0.95, df=len(games[\"Number of Reviews\"]), loc = np.mean(games[\"Number of Reviews\"]), scale = st.sem(games[\"Number of Reviews\"]))\n",
    "intervalo_confianza_nr"
   ]
  },
  {
   "cell_type": "code",
   "execution_count": 37,
   "metadata": {},
   "outputs": [
    {
     "data": {
      "text/plain": [
       "(28884.756765030234, 31537.876832853366)"
      ]
     },
     "execution_count": 37,
     "metadata": {},
     "output_type": "execute_result"
    }
   ],
   "source": [
    "intervalo_confianza_pl = st.t.interval(alpha=0.95, df=len(games[\"Plays\"]), loc = np.mean(games[\"Plays\"]), scale = st.sem(games[\"Plays\"]))\n",
    "intervalo_confianza_pl"
   ]
  },
  {
   "cell_type": "code",
   "execution_count": 38,
   "metadata": {},
   "outputs": [
    {
     "data": {
      "text/plain": [
       "(4422.889008366184, 5309.6202508930755)"
      ]
     },
     "execution_count": 38,
     "metadata": {},
     "output_type": "execute_result"
    }
   ],
   "source": [
    "intervalo_confianza_wl = st.t.interval(alpha=0.95, df=len(games[\"Wishlist\"]), loc = np.mean(games[\"Wishlist\"]), scale = st.sem(games[\"Wishlist\"]))\n",
    "intervalo_confianza_wl"
   ]
  },
  {
   "cell_type": "markdown",
   "metadata": {},
   "source": [
    "2. Interpretación de los resultados.\n",
    "- Ahora interpreta los resultados obtenidos de los diferentes estadísticos estudiados haciendo hincapié en aspectos interesantes de tus datos y explica lo mejor posible la naturaleza de los mismos."
   ]
  },
  {
   "cell_type": "code",
   "execution_count": 39,
   "metadata": {},
   "outputs": [
    {
     "data": {
      "text/html": [
       "<div>\n",
       "<style scoped>\n",
       "    .dataframe tbody tr th:only-of-type {\n",
       "        vertical-align: middle;\n",
       "    }\n",
       "\n",
       "    .dataframe tbody tr th {\n",
       "        vertical-align: top;\n",
       "    }\n",
       "\n",
       "    .dataframe thead th {\n",
       "        text-align: right;\n",
       "    }\n",
       "</style>\n",
       "<table border=\"1\" class=\"dataframe\">\n",
       "  <thead>\n",
       "    <tr style=\"text-align: right;\">\n",
       "      <th>popularidad</th>\n",
       "      <th>bastante popular</th>\n",
       "      <th>muy poco popular</th>\n",
       "      <th>muy popular</th>\n",
       "      <th>poco popular</th>\n",
       "    </tr>\n",
       "    <tr>\n",
       "      <th>notas_rating</th>\n",
       "      <th></th>\n",
       "      <th></th>\n",
       "      <th></th>\n",
       "      <th></th>\n",
       "    </tr>\n",
       "  </thead>\n",
       "  <tbody>\n",
       "    <tr>\n",
       "      <th>aprobado</th>\n",
       "      <td>88</td>\n",
       "      <td>32</td>\n",
       "      <td>15</td>\n",
       "      <td>214</td>\n",
       "    </tr>\n",
       "    <tr>\n",
       "      <th>notable</th>\n",
       "      <td>378</td>\n",
       "      <td>34</td>\n",
       "      <td>334</td>\n",
       "      <td>344</td>\n",
       "    </tr>\n",
       "    <tr>\n",
       "      <th>sobresaliente</th>\n",
       "      <td>3</td>\n",
       "      <td>9</td>\n",
       "      <td>9</td>\n",
       "      <td>17</td>\n",
       "    </tr>\n",
       "    <tr>\n",
       "      <th>suspenso</th>\n",
       "      <td>6</td>\n",
       "      <td>8</td>\n",
       "      <td>0</td>\n",
       "      <td>21</td>\n",
       "    </tr>\n",
       "  </tbody>\n",
       "</table>\n",
       "</div>"
      ],
      "text/plain": [
       "popularidad    bastante popular  muy poco popular  muy popular  poco popular\n",
       "notas_rating                                                                \n",
       "aprobado                     88                32           15           214\n",
       "notable                     378                34          334           344\n",
       "sobresaliente                 3                 9            9            17\n",
       "suspenso                      6                 8            0            21"
      ]
     },
     "execution_count": 39,
     "metadata": {},
     "output_type": "execute_result"
    }
   ],
   "source": [
    "games_crosstab"
   ]
  },
  {
   "attachments": {},
   "cell_type": "markdown",
   "metadata": {},
   "source": [
    "Algunas conclusiones sobre estos ejercicios:\n",
    "\n",
    "- Tras categorizar dos de las variables hemos conseguido obtener una tabla de contingencia con datos que nos parecen interesantes y sobre todo interpretables. En la categoría de juegos más populares, donde consideramos se sitúan muchos de los outliers, los registros categorizados se agrupan principalmente en torno al notable. La popularidad no garantiza el sobresaliente. También entre los pocos populares el rating alcanza el notable, lo que nos hace pensar en la tendencia a puntuar relativamente alto y a que los datos se corresponden con lo que arroja la media del rating (3,71) y la moda (4.1). \n",
    "\n",
    "- Los intervalos de confianza, en la línea de lo comentado en los ejercicios de los días anteriores en el caso de los datos de las columnas Wishlist y Number of Reviews, no podemos considerarlos de validez, al estar basado en estadísticos poco robustos. Como ya hemos comentado los outliers de estas distribuciones distorsionan los datos. Esto es menos acusado en la columna Plays donde podemos considerar que el intervalo tiene algo de sentido. \n",
    "\n",
    "- Visto los resultados del trabajo de los últimos días llegamos a la conclusión de que habría que dividir el conjunto de datos en dos subconjuntos bastante diferenciados, que serían los juegos muy populares (outliers en la columna \"Numbers of Reviews) y juegos menos populares o más de nicho. "
   ]
  }
 ],
 "metadata": {
  "kernelspec": {
   "display_name": "adalabenv",
   "language": "python",
   "name": "python3"
  },
  "language_info": {
   "codemirror_mode": {
    "name": "ipython",
    "version": 3
   },
   "file_extension": ".py",
   "mimetype": "text/x-python",
   "name": "python",
   "nbconvert_exporter": "python",
   "pygments_lexer": "ipython3",
   "version": "3.9.7"
  },
  "orig_nbformat": 4
 },
 "nbformat": 4,
 "nbformat_minor": 2
}
