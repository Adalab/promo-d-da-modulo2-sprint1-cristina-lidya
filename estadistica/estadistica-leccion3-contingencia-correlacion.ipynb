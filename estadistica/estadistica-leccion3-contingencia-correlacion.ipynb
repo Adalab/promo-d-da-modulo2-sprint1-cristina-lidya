{
 "cells": [
  {
   "attachments": {},
   "cell_type": "markdown",
   "metadata": {},
   "source": [
    "# **Ejercicios de pair programming Módulo 2 Sprint 1**\n",
    "## **Estadística: Lección 3**\n",
    "### **Tablas de contingencia, correlación, sesgos e intervalos de confianza**"
   ]
  },
  {
   "cell_type": "code",
   "execution_count": 34,
   "metadata": {},
   "outputs": [],
   "source": [
    "import numpy as np\n",
    "import pandas as pd\n",
    "import seaborn as sns\n",
    "from scipy.stats import skew"
   ]
  },
  {
   "cell_type": "code",
   "execution_count": 53,
   "metadata": {},
   "outputs": [],
   "source": [
    "games = pd.read_csv(\"data/games.csv\", index_col = 0)"
   ]
  },
  {
   "cell_type": "code",
   "execution_count": 54,
   "metadata": {},
   "outputs": [
    {
     "data": {
      "text/html": [
       "<div>\n",
       "<style scoped>\n",
       "    .dataframe tbody tr th:only-of-type {\n",
       "        vertical-align: middle;\n",
       "    }\n",
       "\n",
       "    .dataframe tbody tr th {\n",
       "        vertical-align: top;\n",
       "    }\n",
       "\n",
       "    .dataframe thead th {\n",
       "        text-align: right;\n",
       "    }\n",
       "</style>\n",
       "<table border=\"1\" class=\"dataframe\">\n",
       "  <thead>\n",
       "    <tr style=\"text-align: right;\">\n",
       "      <th></th>\n",
       "      <th>Title</th>\n",
       "      <th>Release Date</th>\n",
       "      <th>Team</th>\n",
       "      <th>Rating</th>\n",
       "      <th>Times Listed</th>\n",
       "      <th>Number of Reviews</th>\n",
       "      <th>Genres</th>\n",
       "      <th>Summary</th>\n",
       "      <th>Reviews</th>\n",
       "      <th>Plays</th>\n",
       "      <th>Playing</th>\n",
       "      <th>Backlogs</th>\n",
       "      <th>Wishlist</th>\n",
       "    </tr>\n",
       "  </thead>\n",
       "  <tbody>\n",
       "    <tr>\n",
       "      <th>0</th>\n",
       "      <td>Elden Ring</td>\n",
       "      <td>Feb 25, 2022</td>\n",
       "      <td>['Bandai Namco Entertainment', 'FromSoftware']</td>\n",
       "      <td>4.5</td>\n",
       "      <td>39000</td>\n",
       "      <td>39000</td>\n",
       "      <td>['Adventure', 'RPG']</td>\n",
       "      <td>Elden Ring is a fantasy, action and open world game with RPG elements such as stats, w...</td>\n",
       "      <td>[\"The first playthrough of elden ring is one of the best eperiences gaming can offer y...</td>\n",
       "      <td>17000</td>\n",
       "      <td>38000</td>\n",
       "      <td>46000</td>\n",
       "      <td>48000</td>\n",
       "    </tr>\n",
       "    <tr>\n",
       "      <th>1</th>\n",
       "      <td>Hades</td>\n",
       "      <td>Dec 10, 2019</td>\n",
       "      <td>['Supergiant Games']</td>\n",
       "      <td>4.3</td>\n",
       "      <td>29000</td>\n",
       "      <td>29000</td>\n",
       "      <td>['Adventure', 'Brawler', 'Indie', 'RPG']</td>\n",
       "      <td>A rogue-lite hack and slash dungeon crawler in which Zagreus, son of Hades the Greek g...</td>\n",
       "      <td>['convinced this is a roguelike for people who do not like the genre. The art is techn...</td>\n",
       "      <td>21000</td>\n",
       "      <td>32000</td>\n",
       "      <td>63000</td>\n",
       "      <td>36000</td>\n",
       "    </tr>\n",
       "    <tr>\n",
       "      <th>2</th>\n",
       "      <td>The Legend of Zelda: Breath of the Wild</td>\n",
       "      <td>Mar 03, 2017</td>\n",
       "      <td>['Nintendo', 'Nintendo EPD Production Group No. 3']</td>\n",
       "      <td>4.4</td>\n",
       "      <td>43000</td>\n",
       "      <td>43000</td>\n",
       "      <td>['Adventure', 'RPG']</td>\n",
       "      <td>The Legend of Zelda: Breath of the Wild is the first 3D open-world game in the Zelda s...</td>\n",
       "      <td>['This game is the game (that is not CS:GO) that I have played the most ever. I have p...</td>\n",
       "      <td>30000</td>\n",
       "      <td>25000</td>\n",
       "      <td>5000</td>\n",
       "      <td>26000</td>\n",
       "    </tr>\n",
       "    <tr>\n",
       "      <th>3</th>\n",
       "      <td>Undertale</td>\n",
       "      <td>Sep 15, 2015</td>\n",
       "      <td>['tobyfox', '8-4']</td>\n",
       "      <td>4.2</td>\n",
       "      <td>35000</td>\n",
       "      <td>35000</td>\n",
       "      <td>['Adventure', 'Indie', 'RPG', 'Turn Based Strategy']</td>\n",
       "      <td>A small child falls into the Underground, where monsters have long been banished by hu...</td>\n",
       "      <td>['soundtrack is tied for #1 with nier automata.  a super charming story and characters...</td>\n",
       "      <td>28000</td>\n",
       "      <td>679</td>\n",
       "      <td>49000</td>\n",
       "      <td>18000</td>\n",
       "    </tr>\n",
       "    <tr>\n",
       "      <th>4</th>\n",
       "      <td>Hollow Knight</td>\n",
       "      <td>Feb 24, 2017</td>\n",
       "      <td>['Team Cherry']</td>\n",
       "      <td>4.4</td>\n",
       "      <td>3000</td>\n",
       "      <td>3000</td>\n",
       "      <td>['Adventure', 'Indie', 'Platform']</td>\n",
       "      <td>A 2D metroidvania with an emphasis on close combat and exploration in which the player...</td>\n",
       "      <td>[\"this games worldbuilding is incredible, with its amazing soundtrack and gorgeous art...</td>\n",
       "      <td>21000</td>\n",
       "      <td>24000</td>\n",
       "      <td>83000</td>\n",
       "      <td>23000</td>\n",
       "    </tr>\n",
       "  </tbody>\n",
       "</table>\n",
       "</div>"
      ],
      "text/plain": [
       "                                     Title  Release Date  \\\n",
       "0                               Elden Ring  Feb 25, 2022   \n",
       "1                                    Hades  Dec 10, 2019   \n",
       "2  The Legend of Zelda: Breath of the Wild  Mar 03, 2017   \n",
       "3                                Undertale  Sep 15, 2015   \n",
       "4                            Hollow Knight  Feb 24, 2017   \n",
       "\n",
       "                                                  Team  Rating  Times Listed  \\\n",
       "0       ['Bandai Namco Entertainment', 'FromSoftware']     4.5         39000   \n",
       "1                                 ['Supergiant Games']     4.3         29000   \n",
       "2  ['Nintendo', 'Nintendo EPD Production Group No. 3']     4.4         43000   \n",
       "3                                   ['tobyfox', '8-4']     4.2         35000   \n",
       "4                                      ['Team Cherry']     4.4          3000   \n",
       "\n",
       "   Number of Reviews                                                Genres  \\\n",
       "0              39000                                  ['Adventure', 'RPG']   \n",
       "1              29000              ['Adventure', 'Brawler', 'Indie', 'RPG']   \n",
       "2              43000                                  ['Adventure', 'RPG']   \n",
       "3              35000  ['Adventure', 'Indie', 'RPG', 'Turn Based Strategy']   \n",
       "4               3000                    ['Adventure', 'Indie', 'Platform']   \n",
       "\n",
       "                                                                                     Summary  \\\n",
       "0  Elden Ring is a fantasy, action and open world game with RPG elements such as stats, w...   \n",
       "1  A rogue-lite hack and slash dungeon crawler in which Zagreus, son of Hades the Greek g...   \n",
       "2  The Legend of Zelda: Breath of the Wild is the first 3D open-world game in the Zelda s...   \n",
       "3  A small child falls into the Underground, where monsters have long been banished by hu...   \n",
       "4  A 2D metroidvania with an emphasis on close combat and exploration in which the player...   \n",
       "\n",
       "                                                                                     Reviews  \\\n",
       "0  [\"The first playthrough of elden ring is one of the best eperiences gaming can offer y...   \n",
       "1  ['convinced this is a roguelike for people who do not like the genre. The art is techn...   \n",
       "2  ['This game is the game (that is not CS:GO) that I have played the most ever. I have p...   \n",
       "3  ['soundtrack is tied for #1 with nier automata.  a super charming story and characters...   \n",
       "4  [\"this games worldbuilding is incredible, with its amazing soundtrack and gorgeous art...   \n",
       "\n",
       "   Plays  Playing  Backlogs  Wishlist  \n",
       "0  17000    38000     46000     48000  \n",
       "1  21000    32000     63000     36000  \n",
       "2  30000    25000      5000     26000  \n",
       "3  28000      679     49000     18000  \n",
       "4  21000    24000     83000     23000  "
      ]
     },
     "execution_count": 54,
     "metadata": {},
     "output_type": "execute_result"
    }
   ],
   "source": [
    "games.head()"
   ]
  },
  {
   "attachments": {},
   "cell_type": "markdown",
   "metadata": {},
   "source": [
    "1. Extraer los siguentes estadísiticos del conjunto de datos para varias de las varibles disponibles:\n",
    "- Tabla de contingencia\n"
   ]
  },
  {
   "cell_type": "code",
   "execution_count": 38,
   "metadata": {},
   "outputs": [],
   "source": [
    "# No tenemos \"buenas\" variables categóricas para buscar correlaciones por lo que vamos a categorizar dos variables númericas, \"rating\" y \"number of reviews\" que apriori pensamos que pueden tener relación."
   ]
  },
  {
   "cell_type": "code",
   "execution_count": 56,
   "metadata": {},
   "outputs": [],
   "source": [
    "def cambiar_rating(col):\n",
    "    if col < 2.50:\n",
    "        return \"suspenso\"\n",
    "    elif col < 3.50:\n",
    "        return \"aprobado\"\n",
    "    elif col <= 4.50:\n",
    "        return \"notable\"\n",
    "    else:\n",
    "        return \"sobresaliente\""
   ]
  },
  {
   "cell_type": "code",
   "execution_count": 57,
   "metadata": {},
   "outputs": [],
   "source": [
    "games[\"notas_rating\"] = games[\"Rating\"].apply(cambiar_rating)"
   ]
  },
  {
   "cell_type": "code",
   "execution_count": 58,
   "metadata": {},
   "outputs": [],
   "source": [
    "def cambiar_reviews(col):\n",
    "    if col < 100:\n",
    "        return \"muy poco popular\"\n",
    "    elif col < 500:\n",
    "        return \"poco popular\"\n",
    "    elif col <= 1000:\n",
    "        return \"bastante popular\"\n",
    "    else:\n",
    "        return \"muy popular\""
   ]
  },
  {
   "cell_type": "code",
   "execution_count": 59,
   "metadata": {},
   "outputs": [],
   "source": [
    "games[\"popularidad\"] = games[\"Number of Reviews\"].apply(cambiar_reviews)"
   ]
  },
  {
   "cell_type": "code",
   "execution_count": 48,
   "metadata": {},
   "outputs": [
    {
     "data": {
      "text/html": [
       "<div>\n",
       "<style scoped>\n",
       "    .dataframe tbody tr th:only-of-type {\n",
       "        vertical-align: middle;\n",
       "    }\n",
       "\n",
       "    .dataframe tbody tr th {\n",
       "        vertical-align: top;\n",
       "    }\n",
       "\n",
       "    .dataframe thead th {\n",
       "        text-align: right;\n",
       "    }\n",
       "</style>\n",
       "<table border=\"1\" class=\"dataframe\">\n",
       "  <thead>\n",
       "    <tr style=\"text-align: right;\">\n",
       "      <th>popularidad</th>\n",
       "      <th>bastante popular</th>\n",
       "      <th>muy poco popular</th>\n",
       "      <th>muy popular</th>\n",
       "      <th>poco popular</th>\n",
       "    </tr>\n",
       "    <tr>\n",
       "      <th>notas_rating</th>\n",
       "      <th></th>\n",
       "      <th></th>\n",
       "      <th></th>\n",
       "      <th></th>\n",
       "    </tr>\n",
       "  </thead>\n",
       "  <tbody>\n",
       "    <tr>\n",
       "      <th>aprobado</th>\n",
       "      <td>88</td>\n",
       "      <td>32</td>\n",
       "      <td>15</td>\n",
       "      <td>214</td>\n",
       "    </tr>\n",
       "    <tr>\n",
       "      <th>notable</th>\n",
       "      <td>378</td>\n",
       "      <td>34</td>\n",
       "      <td>334</td>\n",
       "      <td>344</td>\n",
       "    </tr>\n",
       "    <tr>\n",
       "      <th>sobresaliente</th>\n",
       "      <td>3</td>\n",
       "      <td>9</td>\n",
       "      <td>9</td>\n",
       "      <td>17</td>\n",
       "    </tr>\n",
       "    <tr>\n",
       "      <th>suspenso</th>\n",
       "      <td>6</td>\n",
       "      <td>8</td>\n",
       "      <td>0</td>\n",
       "      <td>21</td>\n",
       "    </tr>\n",
       "  </tbody>\n",
       "</table>\n",
       "</div>"
      ],
      "text/plain": [
       "popularidad    bastante popular  muy poco popular  muy popular  poco popular\n",
       "notas_rating                                                                \n",
       "aprobado                     88                32           15           214\n",
       "notable                     378                34          334           344\n",
       "sobresaliente                 3                 9            9            17\n",
       "suspenso                      6                 8            0            21"
      ]
     },
     "execution_count": 48,
     "metadata": {},
     "output_type": "execute_result"
    }
   ],
   "source": [
    "games_crosstab = pd.crosstab(games[\"notas_rating\"], games[\"popularidad\"])\n",
    "games_crosstab"
   ]
  },
  {
   "cell_type": "code",
   "execution_count": 61,
   "metadata": {},
   "outputs": [
    {
     "data": {
      "text/plain": [
       "poco popular        596\n",
       "bastante popular    475\n",
       "muy popular         358\n",
       "muy poco popular     83\n",
       "Name: popularidad, dtype: int64"
      ]
     },
     "execution_count": 61,
     "metadata": {},
     "output_type": "execute_result"
    }
   ],
   "source": [
    "games[\"popularidad\"].value_counts()"
   ]
  },
  {
   "attachments": {},
   "cell_type": "markdown",
   "metadata": {},
   "source": [
    "- Coeficiente de correlación de las variables numéricas del dataset.\n"
   ]
  },
  {
   "cell_type": "code",
   "execution_count": 62,
   "metadata": {},
   "outputs": [
    {
     "data": {
      "text/html": [
       "<div>\n",
       "<style scoped>\n",
       "    .dataframe tbody tr th:only-of-type {\n",
       "        vertical-align: middle;\n",
       "    }\n",
       "\n",
       "    .dataframe tbody tr th {\n",
       "        vertical-align: top;\n",
       "    }\n",
       "\n",
       "    .dataframe thead th {\n",
       "        text-align: right;\n",
       "    }\n",
       "</style>\n",
       "<table border=\"1\" class=\"dataframe\">\n",
       "  <thead>\n",
       "    <tr style=\"text-align: right;\">\n",
       "      <th></th>\n",
       "      <th>Rating</th>\n",
       "      <th>Times Listed</th>\n",
       "      <th>Number of Reviews</th>\n",
       "      <th>Plays</th>\n",
       "      <th>Playing</th>\n",
       "      <th>Backlogs</th>\n",
       "      <th>Wishlist</th>\n",
       "    </tr>\n",
       "  </thead>\n",
       "  <tbody>\n",
       "    <tr>\n",
       "      <th>Rating</th>\n",
       "      <td>1.000000</td>\n",
       "      <td>0.392524</td>\n",
       "      <td>0.392524</td>\n",
       "      <td>-0.026843</td>\n",
       "      <td>0.151015</td>\n",
       "      <td>0.393681</td>\n",
       "      <td>0.375355</td>\n",
       "    </tr>\n",
       "    <tr>\n",
       "      <th>Times Listed</th>\n",
       "      <td>0.392524</td>\n",
       "      <td>1.000000</td>\n",
       "      <td>1.000000</td>\n",
       "      <td>0.065578</td>\n",
       "      <td>0.477747</td>\n",
       "      <td>0.649100</td>\n",
       "      <td>0.585801</td>\n",
       "    </tr>\n",
       "    <tr>\n",
       "      <th>Number of Reviews</th>\n",
       "      <td>0.392524</td>\n",
       "      <td>1.000000</td>\n",
       "      <td>1.000000</td>\n",
       "      <td>0.065578</td>\n",
       "      <td>0.477747</td>\n",
       "      <td>0.649100</td>\n",
       "      <td>0.585801</td>\n",
       "    </tr>\n",
       "    <tr>\n",
       "      <th>Plays</th>\n",
       "      <td>-0.026843</td>\n",
       "      <td>0.065578</td>\n",
       "      <td>0.065578</td>\n",
       "      <td>1.000000</td>\n",
       "      <td>-0.030658</td>\n",
       "      <td>0.186266</td>\n",
       "      <td>0.126875</td>\n",
       "    </tr>\n",
       "    <tr>\n",
       "      <th>Playing</th>\n",
       "      <td>0.151015</td>\n",
       "      <td>0.477747</td>\n",
       "      <td>0.477747</td>\n",
       "      <td>-0.030658</td>\n",
       "      <td>1.000000</td>\n",
       "      <td>0.429380</td>\n",
       "      <td>0.398100</td>\n",
       "    </tr>\n",
       "    <tr>\n",
       "      <th>Backlogs</th>\n",
       "      <td>0.393681</td>\n",
       "      <td>0.649100</td>\n",
       "      <td>0.649100</td>\n",
       "      <td>0.186266</td>\n",
       "      <td>0.429380</td>\n",
       "      <td>1.000000</td>\n",
       "      <td>0.626160</td>\n",
       "    </tr>\n",
       "    <tr>\n",
       "      <th>Wishlist</th>\n",
       "      <td>0.375355</td>\n",
       "      <td>0.585801</td>\n",
       "      <td>0.585801</td>\n",
       "      <td>0.126875</td>\n",
       "      <td>0.398100</td>\n",
       "      <td>0.626160</td>\n",
       "      <td>1.000000</td>\n",
       "    </tr>\n",
       "  </tbody>\n",
       "</table>\n",
       "</div>"
      ],
      "text/plain": [
       "                     Rating  Times Listed  Number of Reviews     Plays  \\\n",
       "Rating             1.000000      0.392524           0.392524 -0.026843   \n",
       "Times Listed       0.392524      1.000000           1.000000  0.065578   \n",
       "Number of Reviews  0.392524      1.000000           1.000000  0.065578   \n",
       "Plays             -0.026843      0.065578           0.065578  1.000000   \n",
       "Playing            0.151015      0.477747           0.477747 -0.030658   \n",
       "Backlogs           0.393681      0.649100           0.649100  0.186266   \n",
       "Wishlist           0.375355      0.585801           0.585801  0.126875   \n",
       "\n",
       "                    Playing  Backlogs  Wishlist  \n",
       "Rating             0.151015  0.393681  0.375355  \n",
       "Times Listed       0.477747  0.649100  0.585801  \n",
       "Number of Reviews  0.477747  0.649100  0.585801  \n",
       "Plays             -0.030658  0.186266  0.126875  \n",
       "Playing            1.000000  0.429380  0.398100  \n",
       "Backlogs           0.429380  1.000000  0.626160  \n",
       "Wishlist           0.398100  0.626160  1.000000  "
      ]
     },
     "execution_count": 62,
     "metadata": {},
     "output_type": "execute_result"
    }
   ],
   "source": [
    "games_corr = games.corr(numeric_only = True)\n",
    "games_corr"
   ]
  },
  {
   "attachments": {},
   "cell_type": "markdown",
   "metadata": {},
   "source": [
    "- Sesgos de alguna de las variables numéricas del dataset.\n"
   ]
  },
  {
   "cell_type": "code",
   "execution_count": 64,
   "metadata": {},
   "outputs": [
    {
     "data": {
      "text/plain": [
       "2.006265605802721"
      ]
     },
     "execution_count": 64,
     "metadata": {},
     "output_type": "execute_result"
    }
   ],
   "source": [
    "games_sesgo = skew(games[\"Number of Reviews\"])\n",
    "games_sesgo"
   ]
  },
  {
   "cell_type": "code",
   "execution_count": 65,
   "metadata": {},
   "outputs": [
    {
     "data": {
      "text/plain": [
       "<seaborn.axisgrid.FacetGrid at 0x7f67c88ff8e0>"
      ]
     },
     "execution_count": 65,
     "metadata": {},
     "output_type": "execute_result"
    },
    {
     "data": {
      "image/png": "[encoded data removed]",
      "text/plain": [
       "<Figure size 360x360 with 1 Axes>"
      ]
     },
     "metadata": {
      "needs_background": "light"
     },
     "output_type": "display_data"
    }
   ],
   "source": [
    "sns.displot(games[\"Number of Reviews\"], color = \"b\", kde = True)"
   ]
  },
  {
   "attachments": {},
   "cell_type": "markdown",
   "metadata": {},
   "source": [
    "- Intervalo de confianza de algunas de las variables numéricas del dataset\n"
   ]
  },
  {
   "cell_type": "code",
   "execution_count": null,
   "metadata": {},
   "outputs": [],
   "source": []
  },
  {
   "cell_type": "markdown",
   "metadata": {},
   "source": [
    "2. Interpretación de los resultados.\n",
    "- Ahora interpreta los resultados obtenidos de los diferentes estadísticos estudiados haciendo hincapié en aspectos interesantes de tus datos y explica lo mejor posible la naturaleza de los mismos."
   ]
  },
  {
   "cell_type": "code",
   "execution_count": null,
   "metadata": {},
   "outputs": [],
   "source": []
  }
 ],
 "metadata": {
  "kernelspec": {
   "display_name": "adalabenv",
   "language": "python",
   "name": "python3"
  },
  "language_info": {
   "codemirror_mode": {
    "name": "ipython",
    "version": 3
   },
   "file_extension": ".py",
   "mimetype": "text/x-python",
   "name": "python",
   "nbconvert_exporter": "python",
   "pygments_lexer": "ipython3",
   "version": "3.9.7"
  },
  "orig_nbformat": 4
 },
 "nbformat": 4,
 "nbformat_minor": 2
}
