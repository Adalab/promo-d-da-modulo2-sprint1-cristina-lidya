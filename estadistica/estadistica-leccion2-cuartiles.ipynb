{
 "cells": [
  {
   "attachments": {},
   "cell_type": "markdown",
   "metadata": {},
   "source": [
    "# **Ejercicios de pair programming Módulo 2 Sprint 1**\n",
    "## **Estadística: Lección 2**\n",
    "### **Cuartiles, estadística con pandas y tabla de frecuencia**"
   ]
  },
  {
   "attachments": {},
   "cell_type": "markdown",
   "metadata": {},
   "source": [
    "Vamos ahora a tomar de nuevo el conjunto de datos con el que estuvimos trabajando ayer y vamos a continuar con el análisis de las estadísitcas de los contenidos del conjunto de datos.\n",
    "\n",
    "Para todas los ejercicios de pair programming de Estadística I, II y III usaremos el dataframe que se tome para el desarrollo de este ejercicio de pair programming.\n",
    "\n",
    "Se ruega a la hora de realizar la entrega que incluyáis el conjunto de datos que hayáis decidido emplear para estos ejercicios."
   ]
  },
  {
   "cell_type": "code",
   "execution_count": 102,
   "metadata": {},
   "outputs": [],
   "source": [
    "import pandas as pd\n",
    "import numpy as np\n",
    "import seaborn as sns"
   ]
  },
  {
   "cell_type": "code",
   "execution_count": 103,
   "metadata": {},
   "outputs": [
    {
     "data": {
      "text/html": [
       "<div>\n",
       "<style scoped>\n",
       "    .dataframe tbody tr th:only-of-type {\n",
       "        vertical-align: middle;\n",
       "    }\n",
       "\n",
       "    .dataframe tbody tr th {\n",
       "        vertical-align: top;\n",
       "    }\n",
       "\n",
       "    .dataframe thead th {\n",
       "        text-align: right;\n",
       "    }\n",
       "</style>\n",
       "<table border=\"1\" class=\"dataframe\">\n",
       "  <thead>\n",
       "    <tr style=\"text-align: right;\">\n",
       "      <th></th>\n",
       "      <th>Title</th>\n",
       "      <th>Release Date</th>\n",
       "      <th>Team</th>\n",
       "      <th>Rating</th>\n",
       "      <th>Times Listed</th>\n",
       "      <th>Number of Reviews</th>\n",
       "      <th>Genres</th>\n",
       "      <th>Summary</th>\n",
       "      <th>Reviews</th>\n",
       "      <th>Plays</th>\n",
       "      <th>Playing</th>\n",
       "      <th>Backlogs</th>\n",
       "      <th>Wishlist</th>\n",
       "    </tr>\n",
       "  </thead>\n",
       "  <tbody>\n",
       "    <tr>\n",
       "      <th>0</th>\n",
       "      <td>Elden Ring</td>\n",
       "      <td>Feb 25, 2022</td>\n",
       "      <td>['Bandai Namco Entertainment', 'FromSoftware']</td>\n",
       "      <td>4.5</td>\n",
       "      <td>39000</td>\n",
       "      <td>39000</td>\n",
       "      <td>['Adventure', 'RPG']</td>\n",
       "      <td>Elden Ring is a fantasy, action and open world...</td>\n",
       "      <td>[\"The first playthrough of elden ring is one o...</td>\n",
       "      <td>17000</td>\n",
       "      <td>38000</td>\n",
       "      <td>46000</td>\n",
       "      <td>48000</td>\n",
       "    </tr>\n",
       "    <tr>\n",
       "      <th>1</th>\n",
       "      <td>Hades</td>\n",
       "      <td>Dec 10, 2019</td>\n",
       "      <td>['Supergiant Games']</td>\n",
       "      <td>4.3</td>\n",
       "      <td>29000</td>\n",
       "      <td>29000</td>\n",
       "      <td>['Adventure', 'Brawler', 'Indie', 'RPG']</td>\n",
       "      <td>A rogue-lite hack and slash dungeon crawler in...</td>\n",
       "      <td>['convinced this is a roguelike for people who...</td>\n",
       "      <td>21000</td>\n",
       "      <td>32000</td>\n",
       "      <td>63000</td>\n",
       "      <td>36000</td>\n",
       "    </tr>\n",
       "  </tbody>\n",
       "</table>\n",
       "</div>"
      ],
      "text/plain": [
       "        Title  Release Date                                            Team  \\\n",
       "0  Elden Ring  Feb 25, 2022  ['Bandai Namco Entertainment', 'FromSoftware']   \n",
       "1       Hades  Dec 10, 2019                            ['Supergiant Games']   \n",
       "\n",
       "   Rating  Times Listed  Number of Reviews  \\\n",
       "0     4.5         39000              39000   \n",
       "1     4.3         29000              29000   \n",
       "\n",
       "                                     Genres  \\\n",
       "0                      ['Adventure', 'RPG']   \n",
       "1  ['Adventure', 'Brawler', 'Indie', 'RPG']   \n",
       "\n",
       "                                             Summary  \\\n",
       "0  Elden Ring is a fantasy, action and open world...   \n",
       "1  A rogue-lite hack and slash dungeon crawler in...   \n",
       "\n",
       "                                             Reviews  Plays  Playing  \\\n",
       "0  [\"The first playthrough of elden ring is one o...  17000    38000   \n",
       "1  ['convinced this is a roguelike for people who...  21000    32000   \n",
       "\n",
       "   Backlogs  Wishlist  \n",
       "0     46000     48000  \n",
       "1     63000     36000  "
      ]
     },
     "execution_count": 103,
     "metadata": {},
     "output_type": "execute_result"
    }
   ],
   "source": [
    "games = pd.read_csv(\"data/games.csv\", index_col = 0)\n",
    "games.head(2)"
   ]
  },
  {
   "attachments": {},
   "cell_type": "markdown",
   "metadata": {},
   "source": [
    "Información del contenido de las columnas\n",
    "\n",
    "Title - Title of the Game.\n",
    "\n",
    "Release Date - Date of release of the game's first version\n",
    "\n",
    "Team - Game developer team\n",
    "\n",
    "Rating - Average rating\n",
    "\n",
    "Times Listed - Number of users who listed this game\n",
    "\n",
    "Number of Reviews - Number of reviews received from the users\n",
    "\n",
    "Genres - All genres pertaining to a specified game\n",
    "\n",
    "Summary - Summary provided by the team\n",
    "\n",
    "Reviews - User reviews\n",
    "\n",
    "Plays - Number of users that have played the game before\n",
    "\n",
    "Playing - Number of current users who are playing the game\n",
    "\n",
    "Backlogs - Number of users who have access but haven't started with the game yet\n",
    "\n",
    "Wishlist- Number of users who wish to play the game"
   ]
  },
  {
   "cell_type": "code",
   "execution_count": 104,
   "metadata": {},
   "outputs": [
    {
     "name": "stdout",
     "output_type": "stream",
     "text": [
      "<class 'pandas.core.frame.DataFrame'>\n",
      "Int64Index: 1512 entries, 0 to 1511\n",
      "Data columns (total 13 columns):\n",
      " #   Column             Non-Null Count  Dtype  \n",
      "---  ------             --------------  -----  \n",
      " 0   Title              1512 non-null   object \n",
      " 1   Release Date       1512 non-null   object \n",
      " 2   Team               1511 non-null   object \n",
      " 3   Rating             1499 non-null   float64\n",
      " 4   Times Listed       1512 non-null   int64  \n",
      " 5   Number of Reviews  1512 non-null   int64  \n",
      " 6   Genres             1512 non-null   object \n",
      " 7   Summary            1511 non-null   object \n",
      " 8   Reviews            1512 non-null   object \n",
      " 9   Plays              1512 non-null   int64  \n",
      " 10  Playing            1512 non-null   int64  \n",
      " 11  Backlogs           1512 non-null   int64  \n",
      " 12  Wishlist           1512 non-null   int64  \n",
      "dtypes: float64(1), int64(6), object(6)\n",
      "memory usage: 165.4+ KB\n"
     ]
    }
   ],
   "source": [
    "games.info()"
   ]
  },
  {
   "attachments": {},
   "cell_type": "markdown",
   "metadata": {},
   "source": [
    "1. Extraer los siguentes estadísiticos del conjunto de datos para varias de las varibles disponibles:\n",
    "\n",
    "Utilizando métodos de pandas: media, mediana, moda, máximo y mínimo\n",
    "\n",
    "- Percentiles 25, 75\n"
   ]
  },
  {
   "cell_type": "code",
   "execution_count": 105,
   "metadata": {},
   "outputs": [
    {
     "name": "stdout",
     "output_type": "stream",
     "text": [
      "El percentil 25 es 284.0\n",
      "El percentil 75 es 1000.0\n"
     ]
    }
   ],
   "source": [
    "#Para la columna Number of Reviews\n",
    "\n",
    "Q1_nr, Q3_nr = np.percentile(games[\"Number of Reviews\"], (25, 75))\n",
    "print(f\"El percentil 25 es {Q1_nr}\")\n",
    "print(f\"El percentil 75 es {Q3_nr}\")"
   ]
  },
  {
   "cell_type": "code",
   "execution_count": 106,
   "metadata": {},
   "outputs": [
    {
     "name": "stdout",
     "output_type": "stream",
     "text": [
      "El percentil 25 es 12000.0\n",
      "El percentil 75 es 45000.0\n"
     ]
    }
   ],
   "source": [
    "#Para la columna Plays\n",
    "\n",
    "Q1_p, Q3_p = np.percentile(games[\"Plays\"], (25, 75))\n",
    "print(f\"El percentil 25 es {Q1_p}\")\n",
    "print(f\"El percentil 75 es {Q3_p}\")"
   ]
  },
  {
   "cell_type": "code",
   "execution_count": 107,
   "metadata": {},
   "outputs": [
    {
     "name": "stdout",
     "output_type": "stream",
     "text": [
      "El percentil 25 es 212.0\n",
      "El percentil 75 es 2000.0\n"
     ]
    }
   ],
   "source": [
    "#Para la columna Number of Wishlist\n",
    "\n",
    "Q1_w, Q3_w = np.percentile(games[\"Wishlist\"], (25, 75))\n",
    "print(f\"El percentil 25 es {Q1_w}\")\n",
    "print(f\"El percentil 75 es {Q3_w}\")"
   ]
  },
  {
   "attachments": {},
   "cell_type": "markdown",
   "metadata": {},
   "source": [
    "- Rango Intercuartílico\n"
   ]
  },
  {
   "cell_type": "code",
   "execution_count": 108,
   "metadata": {},
   "outputs": [
    {
     "data": {
      "text/plain": [
       "716.0"
      ]
     },
     "execution_count": 108,
     "metadata": {},
     "output_type": "execute_result"
    }
   ],
   "source": [
    "#Para la columna Number of Reviews\n",
    "\n",
    "ri_nr = Q3_nr - Q1_nr\n",
    "ri_nr\n"
   ]
  },
  {
   "cell_type": "code",
   "execution_count": 109,
   "metadata": {},
   "outputs": [
    {
     "data": {
      "text/plain": [
       "33000.0"
      ]
     },
     "execution_count": 109,
     "metadata": {},
     "output_type": "execute_result"
    }
   ],
   "source": [
    "#Para la columna Plays\n",
    "\n",
    "ri_p = Q3_p - Q1_p\n",
    "ri_p\n"
   ]
  },
  {
   "cell_type": "code",
   "execution_count": 110,
   "metadata": {},
   "outputs": [
    {
     "data": {
      "text/plain": [
       "1788.0"
      ]
     },
     "execution_count": 110,
     "metadata": {},
     "output_type": "execute_result"
    }
   ],
   "source": [
    "#Para la columna Wishlist\n",
    "\n",
    "ri_w = Q3_w - Q1_w\n",
    "ri_w\n"
   ]
  },
  {
   "attachments": {},
   "cell_type": "markdown",
   "metadata": {},
   "source": [
    "- Boxplot de algunas variables\n"
   ]
  },
  {
   "cell_type": "code",
   "execution_count": 111,
   "metadata": {},
   "outputs": [
    {
     "data": {
      "text/plain": [
       "<AxesSubplot:xlabel='Number of Reviews'>"
      ]
     },
     "execution_count": 111,
     "metadata": {},
     "output_type": "execute_result"
    },
    {
     "data": {
      "image/png": "[encoded data removed]",
      "text/plain": [
       "<Figure size 640x480 with 1 Axes>"
      ]
     },
     "metadata": {},
     "output_type": "display_data"
    }
   ],
   "source": [
    "#Para la columna Number of Reviews\n",
    "\n",
    "sns.boxplot(x = \"Number of Reviews\", data = games)\n"
   ]
  },
  {
   "cell_type": "code",
   "execution_count": 112,
   "metadata": {},
   "outputs": [
    {
     "data": {
      "text/plain": [
       "<AxesSubplot:xlabel='Plays'>"
      ]
     },
     "execution_count": 112,
     "metadata": {},
     "output_type": "execute_result"
    },
    {
     "data": {
      "image/png": "[encoded data removed]",
      "text/plain": [
       "<Figure size 640x480 with 1 Axes>"
      ]
     },
     "metadata": {},
     "output_type": "display_data"
    }
   ],
   "source": [
    "#Para la columna Plays\n",
    "\n",
    "sns.boxplot(x = \"Plays\", data = games)"
   ]
  },
  {
   "cell_type": "code",
   "execution_count": 113,
   "metadata": {},
   "outputs": [
    {
     "data": {
      "text/plain": [
       "<AxesSubplot:xlabel='Wishlist'>"
      ]
     },
     "execution_count": 113,
     "metadata": {},
     "output_type": "execute_result"
    },
    {
     "data": {
      "image/png": "[encoded data removed]",
      "text/plain": [
       "<Figure size 640x480 with 1 Axes>"
      ]
     },
     "metadata": {},
     "output_type": "display_data"
    }
   ],
   "source": [
    "#Para la columna Number of Wishlist\n",
    "\n",
    "sns.boxplot(x = \"Wishlist\", data = games)"
   ]
  },
  {
   "attachments": {},
   "cell_type": "markdown",
   "metadata": {},
   "source": [
    "- Tabla de frecuencias\n"
   ]
  },
  {
   "cell_type": "code",
   "execution_count": 114,
   "metadata": {},
   "outputs": [
    {
     "data": {
      "text/html": [
       "<div>\n",
       "<style scoped>\n",
       "    .dataframe tbody tr th:only-of-type {\n",
       "        vertical-align: middle;\n",
       "    }\n",
       "\n",
       "    .dataframe tbody tr th {\n",
       "        vertical-align: top;\n",
       "    }\n",
       "\n",
       "    .dataframe thead th {\n",
       "        text-align: right;\n",
       "    }\n",
       "</style>\n",
       "<table border=\"1\" class=\"dataframe\">\n",
       "  <thead>\n",
       "    <tr style=\"text-align: right;\">\n",
       "      <th></th>\n",
       "      <th>Number of Reviews</th>\n",
       "      <th>Title</th>\n",
       "      <th>Release Date</th>\n",
       "      <th>Team</th>\n",
       "      <th>Rating</th>\n",
       "      <th>Times Listed</th>\n",
       "      <th>Genres</th>\n",
       "      <th>Summary</th>\n",
       "      <th>Reviews</th>\n",
       "      <th>Plays</th>\n",
       "      <th>Playing</th>\n",
       "      <th>Backlogs</th>\n",
       "      <th>Wishlist</th>\n",
       "    </tr>\n",
       "  </thead>\n",
       "  <tbody>\n",
       "    <tr>\n",
       "      <th>605</th>\n",
       "      <td>43000</td>\n",
       "      <td>3</td>\n",
       "      <td>3</td>\n",
       "      <td>3</td>\n",
       "      <td>3</td>\n",
       "      <td>3</td>\n",
       "      <td>3</td>\n",
       "      <td>3</td>\n",
       "      <td>3</td>\n",
       "      <td>3</td>\n",
       "      <td>3</td>\n",
       "      <td>3</td>\n",
       "      <td>3</td>\n",
       "    </tr>\n",
       "    <tr>\n",
       "      <th>604</th>\n",
       "      <td>39000</td>\n",
       "      <td>3</td>\n",
       "      <td>3</td>\n",
       "      <td>3</td>\n",
       "      <td>3</td>\n",
       "      <td>3</td>\n",
       "      <td>3</td>\n",
       "      <td>3</td>\n",
       "      <td>3</td>\n",
       "      <td>3</td>\n",
       "      <td>3</td>\n",
       "      <td>3</td>\n",
       "      <td>3</td>\n",
       "    </tr>\n",
       "  </tbody>\n",
       "</table>\n",
       "</div>"
      ],
      "text/plain": [
       "     Number of Reviews  Title  Release Date  Team  Rating  Times Listed  \\\n",
       "605              43000      3             3     3       3             3   \n",
       "604              39000      3             3     3       3             3   \n",
       "\n",
       "     Genres  Summary  Reviews  Plays  Playing  Backlogs  Wishlist  \n",
       "605       3        3        3      3        3         3         3  \n",
       "604       3        3        3      3        3         3         3  "
      ]
     },
     "execution_count": 114,
     "metadata": {},
     "output_type": "execute_result"
    }
   ],
   "source": [
    "#Para la columna Number of Reviews\n",
    "\n",
    "tabfec_nr = games.groupby(\"Number of Reviews\").count().reset_index().sort_values(by = \"Number of Reviews\", ascending = False)\n",
    "tabfec_nr.head(2)\n"
   ]
  },
  {
   "cell_type": "code",
   "execution_count": 115,
   "metadata": {},
   "outputs": [
    {
     "data": {
      "text/html": [
       "<div>\n",
       "<style scoped>\n",
       "    .dataframe tbody tr th:only-of-type {\n",
       "        vertical-align: middle;\n",
       "    }\n",
       "\n",
       "    .dataframe tbody tr th {\n",
       "        vertical-align: top;\n",
       "    }\n",
       "\n",
       "    .dataframe thead th {\n",
       "        text-align: right;\n",
       "    }\n",
       "</style>\n",
       "<table border=\"1\" class=\"dataframe\">\n",
       "  <thead>\n",
       "    <tr style=\"text-align: right;\">\n",
       "      <th></th>\n",
       "      <th>Plays</th>\n",
       "      <th>Title</th>\n",
       "      <th>Release Date</th>\n",
       "      <th>Team</th>\n",
       "      <th>Rating</th>\n",
       "      <th>Times Listed</th>\n",
       "      <th>Number of Reviews</th>\n",
       "      <th>Genres</th>\n",
       "      <th>Summary</th>\n",
       "      <th>Reviews</th>\n",
       "      <th>Playing</th>\n",
       "      <th>Backlogs</th>\n",
       "      <th>Wishlist</th>\n",
       "    </tr>\n",
       "  </thead>\n",
       "  <tbody>\n",
       "    <tr>\n",
       "      <th>242</th>\n",
       "      <td>99000</td>\n",
       "      <td>7</td>\n",
       "      <td>7</td>\n",
       "      <td>7</td>\n",
       "      <td>7</td>\n",
       "      <td>7</td>\n",
       "      <td>7</td>\n",
       "      <td>7</td>\n",
       "      <td>7</td>\n",
       "      <td>7</td>\n",
       "      <td>7</td>\n",
       "      <td>7</td>\n",
       "      <td>7</td>\n",
       "    </tr>\n",
       "    <tr>\n",
       "      <th>241</th>\n",
       "      <td>98000</td>\n",
       "      <td>3</td>\n",
       "      <td>3</td>\n",
       "      <td>3</td>\n",
       "      <td>3</td>\n",
       "      <td>3</td>\n",
       "      <td>3</td>\n",
       "      <td>3</td>\n",
       "      <td>3</td>\n",
       "      <td>3</td>\n",
       "      <td>3</td>\n",
       "      <td>3</td>\n",
       "      <td>3</td>\n",
       "    </tr>\n",
       "    <tr>\n",
       "      <th>240</th>\n",
       "      <td>97000</td>\n",
       "      <td>6</td>\n",
       "      <td>6</td>\n",
       "      <td>6</td>\n",
       "      <td>6</td>\n",
       "      <td>6</td>\n",
       "      <td>6</td>\n",
       "      <td>6</td>\n",
       "      <td>6</td>\n",
       "      <td>6</td>\n",
       "      <td>6</td>\n",
       "      <td>6</td>\n",
       "      <td>6</td>\n",
       "    </tr>\n",
       "    <tr>\n",
       "      <th>239</th>\n",
       "      <td>96000</td>\n",
       "      <td>11</td>\n",
       "      <td>11</td>\n",
       "      <td>11</td>\n",
       "      <td>11</td>\n",
       "      <td>11</td>\n",
       "      <td>11</td>\n",
       "      <td>11</td>\n",
       "      <td>11</td>\n",
       "      <td>11</td>\n",
       "      <td>11</td>\n",
       "      <td>11</td>\n",
       "      <td>11</td>\n",
       "    </tr>\n",
       "    <tr>\n",
       "      <th>238</th>\n",
       "      <td>95000</td>\n",
       "      <td>4</td>\n",
       "      <td>4</td>\n",
       "      <td>4</td>\n",
       "      <td>4</td>\n",
       "      <td>4</td>\n",
       "      <td>4</td>\n",
       "      <td>4</td>\n",
       "      <td>4</td>\n",
       "      <td>4</td>\n",
       "      <td>4</td>\n",
       "      <td>4</td>\n",
       "      <td>4</td>\n",
       "    </tr>\n",
       "  </tbody>\n",
       "</table>\n",
       "</div>"
      ],
      "text/plain": [
       "     Plays  Title  Release Date  Team  Rating  Times Listed  \\\n",
       "242  99000      7             7     7       7             7   \n",
       "241  98000      3             3     3       3             3   \n",
       "240  97000      6             6     6       6             6   \n",
       "239  96000     11            11    11      11            11   \n",
       "238  95000      4             4     4       4             4   \n",
       "\n",
       "     Number of Reviews  Genres  Summary  Reviews  Playing  Backlogs  Wishlist  \n",
       "242                  7       7        7        7        7         7         7  \n",
       "241                  3       3        3        3        3         3         3  \n",
       "240                  6       6        6        6        6         6         6  \n",
       "239                 11      11       11       11       11        11        11  \n",
       "238                  4       4        4        4        4         4         4  "
      ]
     },
     "execution_count": 115,
     "metadata": {},
     "output_type": "execute_result"
    }
   ],
   "source": [
    "#Para la columna Number of Plays\n",
    "\n",
    "tabfec_nr = games.groupby(\"Plays\").count().reset_index().sort_values(by = \"Plays\", ascending = False)\n",
    "tabfec_nr.head(5)"
   ]
  },
  {
   "cell_type": "code",
   "execution_count": 116,
   "metadata": {},
   "outputs": [
    {
     "data": {
      "text/html": [
       "<div>\n",
       "<style scoped>\n",
       "    .dataframe tbody tr th:only-of-type {\n",
       "        vertical-align: middle;\n",
       "    }\n",
       "\n",
       "    .dataframe tbody tr th {\n",
       "        vertical-align: top;\n",
       "    }\n",
       "\n",
       "    .dataframe thead th {\n",
       "        text-align: right;\n",
       "    }\n",
       "</style>\n",
       "<table border=\"1\" class=\"dataframe\">\n",
       "  <thead>\n",
       "    <tr style=\"text-align: right;\">\n",
       "      <th></th>\n",
       "      <th>Wishlist</th>\n",
       "      <th>Title</th>\n",
       "      <th>Release Date</th>\n",
       "      <th>Team</th>\n",
       "      <th>Rating</th>\n",
       "      <th>Times Listed</th>\n",
       "      <th>Number of Reviews</th>\n",
       "      <th>Genres</th>\n",
       "      <th>Summary</th>\n",
       "      <th>Reviews</th>\n",
       "      <th>Plays</th>\n",
       "      <th>Playing</th>\n",
       "      <th>Backlogs</th>\n",
       "    </tr>\n",
       "  </thead>\n",
       "  <tbody>\n",
       "    <tr>\n",
       "      <th>572</th>\n",
       "      <td>54000</td>\n",
       "      <td>1</td>\n",
       "      <td>1</td>\n",
       "      <td>1</td>\n",
       "      <td>0</td>\n",
       "      <td>1</td>\n",
       "      <td>1</td>\n",
       "      <td>1</td>\n",
       "      <td>1</td>\n",
       "      <td>1</td>\n",
       "      <td>1</td>\n",
       "      <td>1</td>\n",
       "      <td>1</td>\n",
       "    </tr>\n",
       "    <tr>\n",
       "      <th>571</th>\n",
       "      <td>48000</td>\n",
       "      <td>3</td>\n",
       "      <td>3</td>\n",
       "      <td>3</td>\n",
       "      <td>3</td>\n",
       "      <td>3</td>\n",
       "      <td>3</td>\n",
       "      <td>3</td>\n",
       "      <td>3</td>\n",
       "      <td>3</td>\n",
       "      <td>3</td>\n",
       "      <td>3</td>\n",
       "      <td>3</td>\n",
       "    </tr>\n",
       "  </tbody>\n",
       "</table>\n",
       "</div>"
      ],
      "text/plain": [
       "     Wishlist  Title  Release Date  Team  Rating  Times Listed  \\\n",
       "572     54000      1             1     1       0             1   \n",
       "571     48000      3             3     3       3             3   \n",
       "\n",
       "     Number of Reviews  Genres  Summary  Reviews  Plays  Playing  Backlogs  \n",
       "572                  1       1        1        1      1        1         1  \n",
       "571                  3       3        3        3      3        3         3  "
      ]
     },
     "execution_count": 116,
     "metadata": {},
     "output_type": "execute_result"
    }
   ],
   "source": [
    "#Para la columna Number of Wishlist\n",
    "\n",
    "tabfec_nr = games.groupby(\"Wishlist\").count().reset_index().sort_values(by = \"Wishlist\", ascending = False)\n",
    "tabfec_nr.head(2)"
   ]
  },
  {
   "attachments": {},
   "cell_type": "markdown",
   "metadata": {},
   "source": [
    "- Variables cualitativas\n",
    "\n",
    "    Después de nuestro procesado, las variables cualitativas del dataframe son:\n",
    "     - 'Title'\n",
    "     - 'Release Date'\n",
    "     - 'Team'\n",
    "     - 'Genres'\n",
    "     - 'Summary'\n",
    "     - 'Reviews'"
   ]
  },
  {
   "attachments": {},
   "cell_type": "markdown",
   "metadata": {},
   "source": [
    "- Variables cuantitativas\n",
    "    \n",
    "    Después de nuestro procesado, las variables cualitativas del dataframe son:\n",
    "     - 'Rating'\n",
    "     - 'Times Listed'\n",
    "     - 'Number of Reviews'\n",
    "     - 'Plays'\n",
    "     - 'Playing'\n",
    "     - 'Backlogs'\n",
    "     - 'Wishlist'\n"
   ]
  },
  {
   "attachments": {},
   "cell_type": "markdown",
   "metadata": {},
   "source": [
    "- Frecuencia acumulada\n"
   ]
  },
  {
   "cell_type": "code",
   "execution_count": 117,
   "metadata": {},
   "outputs": [
    {
     "data": {
      "text/html": [
       "<div>\n",
       "<style scoped>\n",
       "    .dataframe tbody tr th:only-of-type {\n",
       "        vertical-align: middle;\n",
       "    }\n",
       "\n",
       "    .dataframe tbody tr th {\n",
       "        vertical-align: top;\n",
       "    }\n",
       "\n",
       "    .dataframe thead th {\n",
       "        text-align: right;\n",
       "    }\n",
       "</style>\n",
       "<table border=\"1\" class=\"dataframe\">\n",
       "  <thead>\n",
       "    <tr style=\"text-align: right;\">\n",
       "      <th></th>\n",
       "      <th>Number of Reviews</th>\n",
       "      <th>Title</th>\n",
       "      <th>Release Date</th>\n",
       "      <th>Team</th>\n",
       "      <th>Rating</th>\n",
       "      <th>Times Listed</th>\n",
       "      <th>Genres</th>\n",
       "      <th>Summary</th>\n",
       "      <th>Reviews</th>\n",
       "      <th>Plays</th>\n",
       "      <th>Playing</th>\n",
       "      <th>Backlogs</th>\n",
       "      <th>Wishlist</th>\n",
       "    </tr>\n",
       "  </thead>\n",
       "  <tbody>\n",
       "    <tr>\n",
       "      <th>605</th>\n",
       "      <td>43000</td>\n",
       "      <td>3</td>\n",
       "      <td>3</td>\n",
       "      <td>3</td>\n",
       "      <td>3</td>\n",
       "      <td>3</td>\n",
       "      <td>3</td>\n",
       "      <td>3</td>\n",
       "      <td>3</td>\n",
       "      <td>3</td>\n",
       "      <td>3</td>\n",
       "      <td>3</td>\n",
       "      <td>3</td>\n",
       "    </tr>\n",
       "    <tr>\n",
       "      <th>604</th>\n",
       "      <td>82000</td>\n",
       "      <td>6</td>\n",
       "      <td>6</td>\n",
       "      <td>6</td>\n",
       "      <td>6</td>\n",
       "      <td>6</td>\n",
       "      <td>6</td>\n",
       "      <td>6</td>\n",
       "      <td>6</td>\n",
       "      <td>6</td>\n",
       "      <td>6</td>\n",
       "      <td>6</td>\n",
       "      <td>6</td>\n",
       "    </tr>\n",
       "    <tr>\n",
       "      <th>603</th>\n",
       "      <td>117000</td>\n",
       "      <td>9</td>\n",
       "      <td>9</td>\n",
       "      <td>9</td>\n",
       "      <td>9</td>\n",
       "      <td>9</td>\n",
       "      <td>9</td>\n",
       "      <td>9</td>\n",
       "      <td>9</td>\n",
       "      <td>9</td>\n",
       "      <td>9</td>\n",
       "      <td>9</td>\n",
       "      <td>9</td>\n",
       "    </tr>\n",
       "    <tr>\n",
       "      <th>602</th>\n",
       "      <td>151000</td>\n",
       "      <td>12</td>\n",
       "      <td>12</td>\n",
       "      <td>12</td>\n",
       "      <td>12</td>\n",
       "      <td>12</td>\n",
       "      <td>12</td>\n",
       "      <td>12</td>\n",
       "      <td>12</td>\n",
       "      <td>12</td>\n",
       "      <td>12</td>\n",
       "      <td>12</td>\n",
       "      <td>12</td>\n",
       "    </tr>\n",
       "    <tr>\n",
       "      <th>601</th>\n",
       "      <td>180000</td>\n",
       "      <td>33</td>\n",
       "      <td>33</td>\n",
       "      <td>33</td>\n",
       "      <td>33</td>\n",
       "      <td>33</td>\n",
       "      <td>33</td>\n",
       "      <td>33</td>\n",
       "      <td>33</td>\n",
       "      <td>33</td>\n",
       "      <td>33</td>\n",
       "      <td>33</td>\n",
       "      <td>33</td>\n",
       "    </tr>\n",
       "    <tr>\n",
       "      <th>...</th>\n",
       "      <td>...</td>\n",
       "      <td>...</td>\n",
       "      <td>...</td>\n",
       "      <td>...</td>\n",
       "      <td>...</td>\n",
       "      <td>...</td>\n",
       "      <td>...</td>\n",
       "      <td>...</td>\n",
       "      <td>...</td>\n",
       "      <td>...</td>\n",
       "      <td>...</td>\n",
       "      <td>...</td>\n",
       "      <td>...</td>\n",
       "    </tr>\n",
       "    <tr>\n",
       "      <th>4</th>\n",
       "      <td>769870</td>\n",
       "      <td>1506</td>\n",
       "      <td>1506</td>\n",
       "      <td>1505</td>\n",
       "      <td>1495</td>\n",
       "      <td>1506</td>\n",
       "      <td>1506</td>\n",
       "      <td>1505</td>\n",
       "      <td>1506</td>\n",
       "      <td>1506</td>\n",
       "      <td>1506</td>\n",
       "      <td>1506</td>\n",
       "      <td>1506</td>\n",
       "    </tr>\n",
       "    <tr>\n",
       "      <th>3</th>\n",
       "      <td>769886</td>\n",
       "      <td>1509</td>\n",
       "      <td>1509</td>\n",
       "      <td>1508</td>\n",
       "      <td>1498</td>\n",
       "      <td>1509</td>\n",
       "      <td>1509</td>\n",
       "      <td>1508</td>\n",
       "      <td>1509</td>\n",
       "      <td>1509</td>\n",
       "      <td>1509</td>\n",
       "      <td>1509</td>\n",
       "      <td>1509</td>\n",
       "    </tr>\n",
       "    <tr>\n",
       "      <th>2</th>\n",
       "      <td>769894</td>\n",
       "      <td>1510</td>\n",
       "      <td>1510</td>\n",
       "      <td>1509</td>\n",
       "      <td>1499</td>\n",
       "      <td>1510</td>\n",
       "      <td>1510</td>\n",
       "      <td>1509</td>\n",
       "      <td>1510</td>\n",
       "      <td>1510</td>\n",
       "      <td>1510</td>\n",
       "      <td>1510</td>\n",
       "      <td>1510</td>\n",
       "    </tr>\n",
       "    <tr>\n",
       "      <th>1</th>\n",
       "      <td>769896</td>\n",
       "      <td>1511</td>\n",
       "      <td>1511</td>\n",
       "      <td>1510</td>\n",
       "      <td>1499</td>\n",
       "      <td>1511</td>\n",
       "      <td>1511</td>\n",
       "      <td>1510</td>\n",
       "      <td>1511</td>\n",
       "      <td>1511</td>\n",
       "      <td>1511</td>\n",
       "      <td>1511</td>\n",
       "      <td>1511</td>\n",
       "    </tr>\n",
       "    <tr>\n",
       "      <th>0</th>\n",
       "      <td>769896</td>\n",
       "      <td>1512</td>\n",
       "      <td>1512</td>\n",
       "      <td>1511</td>\n",
       "      <td>1499</td>\n",
       "      <td>1512</td>\n",
       "      <td>1512</td>\n",
       "      <td>1511</td>\n",
       "      <td>1512</td>\n",
       "      <td>1512</td>\n",
       "      <td>1512</td>\n",
       "      <td>1512</td>\n",
       "      <td>1512</td>\n",
       "    </tr>\n",
       "  </tbody>\n",
       "</table>\n",
       "<p>606 rows × 13 columns</p>\n",
       "</div>"
      ],
      "text/plain": [
       "     Number of Reviews  Title  Release Date  Team  Rating  Times Listed  \\\n",
       "605              43000      3             3     3       3             3   \n",
       "604              82000      6             6     6       6             6   \n",
       "603             117000      9             9     9       9             9   \n",
       "602             151000     12            12    12      12            12   \n",
       "601             180000     33            33    33      33            33   \n",
       "..                 ...    ...           ...   ...     ...           ...   \n",
       "4               769870   1506          1506  1505    1495          1506   \n",
       "3               769886   1509          1509  1508    1498          1509   \n",
       "2               769894   1510          1510  1509    1499          1510   \n",
       "1               769896   1511          1511  1510    1499          1511   \n",
       "0               769896   1512          1512  1511    1499          1512   \n",
       "\n",
       "     Genres  Summary  Reviews  Plays  Playing  Backlogs  Wishlist  \n",
       "605       3        3        3      3        3         3         3  \n",
       "604       6        6        6      6        6         6         6  \n",
       "603       9        9        9      9        9         9         9  \n",
       "602      12       12       12     12       12        12        12  \n",
       "601      33       33       33     33       33        33        33  \n",
       "..      ...      ...      ...    ...      ...       ...       ...  \n",
       "4      1506     1505     1506   1506     1506      1506      1506  \n",
       "3      1509     1508     1509   1509     1509      1509      1509  \n",
       "2      1510     1509     1510   1510     1510      1510      1510  \n",
       "1      1511     1510     1511   1511     1511      1511      1511  \n",
       "0      1512     1511     1512   1512     1512      1512      1512  \n",
       "\n",
       "[606 rows x 13 columns]"
      ]
     },
     "execution_count": 117,
     "metadata": {},
     "output_type": "execute_result"
    }
   ],
   "source": [
    "games.groupby(\"Number of Reviews\").count().reset_index().sort_values(by = \"Number of Reviews\", ascending = False).cumsum()"
   ]
  },
  {
   "cell_type": "code",
   "execution_count": 118,
   "metadata": {},
   "outputs": [],
   "source": [
    "games[\"Interval Reviews\"] = pd.cut(games[\"Number of Reviews\"], bins= (0, 100, 1000, 10000, 100000), labels = [\"Muy bajo\", \"Bajo\", \"Alto\", \"Muy alto\"])\n",
    "\n",
    "frecuencia = (games.groupby(\"Interval Reviews\").agg(frequency=(\"Number of Reviews\", \"count\")))\n"
   ]
  },
  {
   "cell_type": "code",
   "execution_count": 119,
   "metadata": {},
   "outputs": [
    {
     "data": {
      "text/html": [
       "<div>\n",
       "<style scoped>\n",
       "    .dataframe tbody tr th:only-of-type {\n",
       "        vertical-align: middle;\n",
       "    }\n",
       "\n",
       "    .dataframe tbody tr th {\n",
       "        vertical-align: top;\n",
       "    }\n",
       "\n",
       "    .dataframe thead th {\n",
       "        text-align: right;\n",
       "    }\n",
       "</style>\n",
       "<table border=\"1\" class=\"dataframe\">\n",
       "  <thead>\n",
       "    <tr style=\"text-align: right;\">\n",
       "      <th></th>\n",
       "      <th>frequency</th>\n",
       "      <th>cum_frequency</th>\n",
       "    </tr>\n",
       "    <tr>\n",
       "      <th>Interval Reviews</th>\n",
       "      <th></th>\n",
       "      <th></th>\n",
       "    </tr>\n",
       "  </thead>\n",
       "  <tbody>\n",
       "    <tr>\n",
       "      <th>Muy bajo</th>\n",
       "      <td>83</td>\n",
       "      <td>83</td>\n",
       "    </tr>\n",
       "    <tr>\n",
       "      <th>Bajo</th>\n",
       "      <td>1070</td>\n",
       "      <td>1153</td>\n",
       "    </tr>\n",
       "    <tr>\n",
       "      <th>Alto</th>\n",
       "      <td>16</td>\n",
       "      <td>1169</td>\n",
       "    </tr>\n",
       "    <tr>\n",
       "      <th>Muy alto</th>\n",
       "      <td>342</td>\n",
       "      <td>1511</td>\n",
       "    </tr>\n",
       "  </tbody>\n",
       "</table>\n",
       "</div>"
      ],
      "text/plain": [
       "                  frequency  cum_frequency\n",
       "Interval Reviews                          \n",
       "Muy bajo                 83             83\n",
       "Bajo                   1070           1153\n",
       "Alto                     16           1169\n",
       "Muy alto                342           1511"
      ]
     },
     "execution_count": 119,
     "metadata": {},
     "output_type": "execute_result"
    }
   ],
   "source": [
    "frecuencia_acumulada[\"cum_frequency\"] = frecuencia[\"frequency\"].cumsum()\n",
    "frecuencia_acumulada"
   ]
  },
  {
   "cell_type": "markdown",
   "metadata": {},
   "source": [
    "- Representación de al menos una tabla de frecuencias"
   ]
  },
  {
   "cell_type": "code",
   "execution_count": 120,
   "metadata": {},
   "outputs": [
    {
     "data": {
      "text/plain": [
       "<AxesSubplot:xlabel='Interval Reviews', ylabel='count'>"
      ]
     },
     "execution_count": 120,
     "metadata": {},
     "output_type": "execute_result"
    },
    {
     "data": {
      "image/png": "[encoded data removed]",
      "text/plain": [
       "<Figure size 640x480 with 1 Axes>"
      ]
     },
     "metadata": {},
     "output_type": "display_data"
    }
   ],
   "source": [
    "sns.countplot(x=\"Interval Reviews\", data = games)"
   ]
  },
  {
   "attachments": {},
   "cell_type": "markdown",
   "metadata": {},
   "source": [
    "2. Interpretación de los resultados.\n",
    "\n",
    "Ahora interpreta los resultados obtenidos de los diferentes estadísticos estudiados haciendo hincapié en aspectos interesantes de tus datos y explica lo mejor posible la naturaleza de los mismos."
   ]
  },
  {
   "attachments": {},
   "cell_type": "markdown",
   "metadata": {},
   "source": [
    "Estas son algunas de nuestras observaciones respecto a este dataset con los estadísticos explorados en este pair:\n",
    "\n",
    " - Como hemos realizado cada ejercicio para tres columnas específicas, Number of Reviews (que, recordemos, tiene los mismos datos que Times Listed), Plays y Wishlist, hemos podido comparar en detalle cada uno de estos tres subconjuntos de datos. De esta exploración deducimos que tanto la columna Number of Reviews como la columna Wishlist tienen estadísticos muy poco robustos ya que su dispersión y su heterogeneidad son muy amplias. Ambas tienen un pronunciado sesgo hacia la derecha que propicia que los outliers influyan extremadamente en los indicadores de todo el conjunto. No es así el caso para la columna Plays, que parece estar mucho más balanceada aunque también tiene una tendencia a presentar valores atípicos por la derecha. \n",
    "  - Teorizamos sobre si esta diferencia puede deberse a que las dos columnas con más outliers trabajan sobre datos de tipo comentario, más abierto y sujeto a cambios superficiales, dado que se trata de una lista de reseñas en internet en la que puede participar cualquiera, en el primer caso, y de una lista de deseos que cualquiera puede usar, en el segundo, mientras que la columna Plays trabaja sobre datos de tipo más realista, que exigen de la compra del juego (un umbral más difícil de cumplir), para afectar al dato.\n",
    "  "
   ]
  }
 ],
 "metadata": {
  "kernelspec": {
   "display_name": "adalabenv",
   "language": "python",
   "name": "python3"
  },
  "language_info": {
   "codemirror_mode": {
    "name": "ipython",
    "version": 3
   },
   "file_extension": ".py",
   "mimetype": "text/x-python",
   "name": "python",
   "nbconvert_exporter": "python",
   "pygments_lexer": "ipython3",
   "version": "3.10.9"
  },
  "orig_nbformat": 4
 },
 "nbformat": 4,
 "nbformat_minor": 2
}
