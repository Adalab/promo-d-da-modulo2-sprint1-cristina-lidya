{
 "cells": [
  {
   "attachments": {},
   "cell_type": "markdown",
   "metadata": {},
   "source": [
    "# **Ejercicios de pair programming Módulo 2 Sprint 1**\n",
    "## **Visualización: Lección 1**\n",
    "### **MatPlotLib I**"
   ]
  },
  {
   "attachments": {},
   "cell_type": "markdown",
   "metadata": {},
   "source": [
    "Es el momento de ponernos manos a la obra con la visualización de datos. En este primer ejercicio de pair programming trabajaremos con los csv que generamos en el ejercicio de pair programming de Pandas III, ese en el que habíamos eliminado algunas columnas de nuestro csv.\n",
    "\n",
    "Hoy realizaremos una serie de gráficas usando la librería de matplotlib para familiarizarnos un poco con los datos.\n",
    "\n",
    "📌 Para poder solucionar los ejercicios de hoy no solo tendremos que visualizar, también tendremos que usar métodos que hemos aprendido en lecciones anteriores de Pandas como por ejemplo value_counts(), isnull, describe, etc.\n"
   ]
  },
  {
   "cell_type": "code",
   "execution_count": 1,
   "metadata": {},
   "outputs": [],
   "source": [
    "import matplotlib.pyplot as plt\n",
    "import pandas as pd"
   ]
  },
  {
   "cell_type": "code",
   "execution_count": 4,
   "metadata": {},
   "outputs": [
    {
     "data": {
      "text/html": [
       "<div>\n",
       "<style scoped>\n",
       "    .dataframe tbody tr th:only-of-type {\n",
       "        vertical-align: middle;\n",
       "    }\n",
       "\n",
       "    .dataframe tbody tr th {\n",
       "        vertical-align: top;\n",
       "    }\n",
       "\n",
       "    .dataframe thead th {\n",
       "        text-align: right;\n",
       "    }\n",
       "</style>\n",
       "<table border=\"1\" class=\"dataframe\">\n",
       "  <thead>\n",
       "    <tr style=\"text-align: right;\">\n",
       "      <th></th>\n",
       "      <th>fecha</th>\n",
       "      <th>id_empleado</th>\n",
       "      <th>id_agente</th>\n",
       "      <th>categoría</th>\n",
       "      <th>tipo</th>\n",
       "      <th>severidad</th>\n",
       "      <th>prioridad</th>\n",
       "      <th>días_resolución</th>\n",
       "      <th>satisfacción</th>\n",
       "      <th>semestre</th>\n",
       "    </tr>\n",
       "    <tr>\n",
       "      <th>id_ticket</th>\n",
       "      <th></th>\n",
       "      <th></th>\n",
       "      <th></th>\n",
       "      <th></th>\n",
       "      <th></th>\n",
       "      <th></th>\n",
       "      <th></th>\n",
       "      <th></th>\n",
       "      <th></th>\n",
       "      <th></th>\n",
       "    </tr>\n",
       "  </thead>\n",
       "  <tbody>\n",
       "    <tr>\n",
       "      <th>GDDENR-5042564453</th>\n",
       "      <td>2016-07-13</td>\n",
       "      <td>1735.0</td>\n",
       "      <td>4.0</td>\n",
       "      <td>Acceso&amp;%Login</td>\n",
       "      <td>Problema</td>\n",
       "      <td>0 - Sin Clasificar</td>\n",
       "      <td>0 - Sin Asignar</td>\n",
       "      <td>0.0</td>\n",
       "      <td>5.0</td>\n",
       "      <td>2do semestre</td>\n",
       "    </tr>\n",
       "    <tr>\n",
       "      <th>GDDENR-8042508060</th>\n",
       "      <td>2016-05-18</td>\n",
       "      <td>1566.0</td>\n",
       "      <td>10.0</td>\n",
       "      <td>Acceso&amp;%Login</td>\n",
       "      <td>Problema</td>\n",
       "      <td>0 - Sin Clasificar</td>\n",
       "      <td>0 - Sin Asignar</td>\n",
       "      <td>0.0</td>\n",
       "      <td>5.0</td>\n",
       "      <td>1er semestre</td>\n",
       "    </tr>\n",
       "    <tr>\n",
       "      <th>GDDESR-1342539995</th>\n",
       "      <td>2016-06-18</td>\n",
       "      <td>569.0</td>\n",
       "      <td>29.0</td>\n",
       "      <td>Sistema</td>\n",
       "      <td>Problema</td>\n",
       "      <td>0 - Sin Clasificar</td>\n",
       "      <td>0 - Sin Asignar</td>\n",
       "      <td>3.0</td>\n",
       "      <td>5.0</td>\n",
       "      <td>1er semestre</td>\n",
       "    </tr>\n",
       "    <tr>\n",
       "      <th>GDDTSR-5942488006</th>\n",
       "      <td>2016-04-28</td>\n",
       "      <td>320.0</td>\n",
       "      <td>40.0</td>\n",
       "      <td>Sistema</td>\n",
       "      <td>Solicitud</td>\n",
       "      <td>0 - Sin Clasificar</td>\n",
       "      <td>0 - Sin Asignar</td>\n",
       "      <td>9.0</td>\n",
       "      <td>5.0</td>\n",
       "      <td>1er semestre</td>\n",
       "    </tr>\n",
       "    <tr>\n",
       "      <th>GDLEER-0042524120</th>\n",
       "      <td>2016-06-03</td>\n",
       "      <td>1842.0</td>\n",
       "      <td>31.0</td>\n",
       "      <td>Software</td>\n",
       "      <td>Problema</td>\n",
       "      <td>2 - Normal</td>\n",
       "      <td>0 - Sin Asignar</td>\n",
       "      <td>0.0</td>\n",
       "      <td>5.0</td>\n",
       "      <td>1er semestre</td>\n",
       "    </tr>\n",
       "  </tbody>\n",
       "</table>\n",
       "</div>"
      ],
      "text/plain": [
       "                        fecha  id_empleado  id_agente      categoría  \\\n",
       "id_ticket                                                              \n",
       "GDDENR-5042564453  2016-07-13       1735.0        4.0  Acceso&%Login   \n",
       "GDDENR-8042508060  2016-05-18       1566.0       10.0  Acceso&%Login   \n",
       "GDDESR-1342539995  2016-06-18        569.0       29.0        Sistema   \n",
       "GDDTSR-5942488006  2016-04-28        320.0       40.0        Sistema   \n",
       "GDLEER-0042524120  2016-06-03       1842.0       31.0       Software   \n",
       "\n",
       "                        tipo           severidad        prioridad  \\\n",
       "id_ticket                                                           \n",
       "GDDENR-5042564453   Problema  0 - Sin Clasificar  0 - Sin Asignar   \n",
       "GDDENR-8042508060   Problema  0 - Sin Clasificar  0 - Sin Asignar   \n",
       "GDDESR-1342539995   Problema  0 - Sin Clasificar  0 - Sin Asignar   \n",
       "GDDTSR-5942488006  Solicitud  0 - Sin Clasificar  0 - Sin Asignar   \n",
       "GDLEER-0042524120   Problema          2 - Normal  0 - Sin Asignar   \n",
       "\n",
       "                   días_resolución  satisfacción      semestre  \n",
       "id_ticket                                                       \n",
       "GDDENR-5042564453              0.0           5.0  2do semestre  \n",
       "GDDENR-8042508060              0.0           5.0  1er semestre  \n",
       "GDDESR-1342539995              3.0           5.0  1er semestre  \n",
       "GDDTSR-5942488006              9.0           5.0  1er semestre  \n",
       "GDLEER-0042524120              0.0           5.0  1er semestre  "
      ]
     },
     "execution_count": 4,
     "metadata": {},
     "output_type": "execute_result"
    }
   ],
   "source": [
    "tabla_2016 = pd.read_csv(\"../pandas/data/datos_guardados/2016_procesado2.csv\", index_col = 0)\n",
    "tabla_2016.head()"
   ]
  },
  {
   "cell_type": "markdown",
   "metadata": {},
   "source": [
    "\n",
    "Tendréis que realizar gráficas para contestar a las siguientes preguntas:\n",
    "\n",
    "1. ¿Cuántos tickets tenemos de cada tipo?\n"
   ]
  },
  {
   "cell_type": "code",
   "execution_count": 5,
   "metadata": {},
   "outputs": [],
   "source": [
    "numero_tickets = pd.DataFrame(tabla_2016[\"tipo\"].value_counts())"
   ]
  },
  {
   "cell_type": "code",
   "execution_count": 6,
   "metadata": {},
   "outputs": [
    {
     "data": {
      "text/html": [
       "<div>\n",
       "<style scoped>\n",
       "    .dataframe tbody tr th:only-of-type {\n",
       "        vertical-align: middle;\n",
       "    }\n",
       "\n",
       "    .dataframe tbody tr th {\n",
       "        vertical-align: top;\n",
       "    }\n",
       "\n",
       "    .dataframe thead th {\n",
       "        text-align: right;\n",
       "    }\n",
       "</style>\n",
       "<table border=\"1\" class=\"dataframe\">\n",
       "  <thead>\n",
       "    <tr style=\"text-align: right;\">\n",
       "      <th></th>\n",
       "      <th>tipo</th>\n",
       "    </tr>\n",
       "  </thead>\n",
       "  <tbody>\n",
       "    <tr>\n",
       "      <th>Solicitud</th>\n",
       "      <td>9675</td>\n",
       "    </tr>\n",
       "    <tr>\n",
       "      <th>Problema</th>\n",
       "      <td>3264</td>\n",
       "    </tr>\n",
       "  </tbody>\n",
       "</table>\n",
       "</div>"
      ],
      "text/plain": [
       "           tipo\n",
       "Solicitud  9675\n",
       "Problema   3264"
      ]
     },
     "execution_count": 6,
     "metadata": {},
     "output_type": "execute_result"
    }
   ],
   "source": [
    "numero_tickets"
   ]
  },
  {
   "cell_type": "code",
   "execution_count": 7,
   "metadata": {},
   "outputs": [
    {
     "data": {
      "image/png": "[encoded data removed]",
      "text/plain": [
       "<Figure size 640x480 with 1 Axes>"
      ]
     },
     "metadata": {},
     "output_type": "display_data"
    }
   ],
   "source": [
    "plt.figure()\n",
    "plt.pie(numero_tickets[\"tipo\"], labels = numero_tickets[\"tipo\"])\n",
    "plt.legend(labels = [\"Solicitud\", \"Problema\"])\n",
    "plt.show()"
   ]
  },
  {
   "attachments": {},
   "cell_type": "markdown",
   "metadata": {},
   "source": [
    "2. Filtrad los datos para quedarnos solo con los datos de la categoría \"Software\".\n"
   ]
  },
  {
   "cell_type": "code",
   "execution_count": 19,
   "metadata": {},
   "outputs": [
    {
     "data": {
      "text/html": [
       "<div>\n",
       "<style scoped>\n",
       "    .dataframe tbody tr th:only-of-type {\n",
       "        vertical-align: middle;\n",
       "    }\n",
       "\n",
       "    .dataframe tbody tr th {\n",
       "        vertical-align: top;\n",
       "    }\n",
       "\n",
       "    .dataframe thead th {\n",
       "        text-align: right;\n",
       "    }\n",
       "</style>\n",
       "<table border=\"1\" class=\"dataframe\">\n",
       "  <thead>\n",
       "    <tr style=\"text-align: right;\">\n",
       "      <th></th>\n",
       "      <th>fecha</th>\n",
       "      <th>id_empleado</th>\n",
       "      <th>id_agente</th>\n",
       "      <th>categoría</th>\n",
       "      <th>tipo</th>\n",
       "      <th>severidad</th>\n",
       "      <th>prioridad</th>\n",
       "      <th>días_resolución</th>\n",
       "      <th>satisfacción</th>\n",
       "      <th>semestre</th>\n",
       "    </tr>\n",
       "    <tr>\n",
       "      <th>id_ticket</th>\n",
       "      <th></th>\n",
       "      <th></th>\n",
       "      <th></th>\n",
       "      <th></th>\n",
       "      <th></th>\n",
       "      <th></th>\n",
       "      <th></th>\n",
       "      <th></th>\n",
       "      <th></th>\n",
       "      <th></th>\n",
       "    </tr>\n",
       "  </thead>\n",
       "  <tbody>\n",
       "    <tr>\n",
       "      <th>GDLEER-0042524120</th>\n",
       "      <td>2016-06-03</td>\n",
       "      <td>1842.0</td>\n",
       "      <td>31.0</td>\n",
       "      <td>Software</td>\n",
       "      <td>Problema</td>\n",
       "      <td>2 - Normal</td>\n",
       "      <td>0 - Sin Asignar</td>\n",
       "      <td>0.0</td>\n",
       "      <td>5.0</td>\n",
       "      <td>1er semestre</td>\n",
       "    </tr>\n",
       "    <tr>\n",
       "      <th>GDLEER-0142608095</th>\n",
       "      <td>2016-08-26</td>\n",
       "      <td>59.0</td>\n",
       "      <td>20.0</td>\n",
       "      <td>Software</td>\n",
       "      <td>Problema</td>\n",
       "      <td>2 - Normal</td>\n",
       "      <td>0 - Sin Asignar</td>\n",
       "      <td>1.0</td>\n",
       "      <td>1.0</td>\n",
       "      <td>2do semestre</td>\n",
       "    </tr>\n",
       "    <tr>\n",
       "      <th>GDLEER-0242564650</th>\n",
       "      <td>2016-07-13</td>\n",
       "      <td>1175.0</td>\n",
       "      <td>36.0</td>\n",
       "      <td>Software</td>\n",
       "      <td>Problema</td>\n",
       "      <td>2 - Normal</td>\n",
       "      <td>0 - Sin Asignar</td>\n",
       "      <td>2.0</td>\n",
       "      <td>1.0</td>\n",
       "      <td>2do semestre</td>\n",
       "    </tr>\n",
       "    <tr>\n",
       "      <th>GDLEER-0542574815</th>\n",
       "      <td>2016-07-23</td>\n",
       "      <td>561.0</td>\n",
       "      <td>18.0</td>\n",
       "      <td>Software</td>\n",
       "      <td>Problema</td>\n",
       "      <td>2 - Normal</td>\n",
       "      <td>0 - Sin Asignar</td>\n",
       "      <td>5.0</td>\n",
       "      <td>5.0</td>\n",
       "      <td>2do semestre</td>\n",
       "    </tr>\n",
       "    <tr>\n",
       "      <th>GDLEER-0842457219</th>\n",
       "      <td>2016-03-28</td>\n",
       "      <td>71.0</td>\n",
       "      <td>12.0</td>\n",
       "      <td>Software</td>\n",
       "      <td>Problema</td>\n",
       "      <td>2 - Normal</td>\n",
       "      <td>0 - Sin Asignar</td>\n",
       "      <td>8.0</td>\n",
       "      <td>5.0</td>\n",
       "      <td>1er semestre</td>\n",
       "    </tr>\n",
       "    <tr>\n",
       "      <th>...</th>\n",
       "      <td>...</td>\n",
       "      <td>...</td>\n",
       "      <td>...</td>\n",
       "      <td>...</td>\n",
       "      <td>...</td>\n",
       "      <td>...</td>\n",
       "      <td>...</td>\n",
       "      <td>...</td>\n",
       "      <td>...</td>\n",
       "      <td>...</td>\n",
       "    </tr>\n",
       "    <tr>\n",
       "      <th>TWREER-3542682716</th>\n",
       "      <td>2016-11-08</td>\n",
       "      <td>411.0</td>\n",
       "      <td>37.0</td>\n",
       "      <td>Software</td>\n",
       "      <td>Problema</td>\n",
       "      <td>1 - Menor</td>\n",
       "      <td>1 - Baja</td>\n",
       "      <td>5.0</td>\n",
       "      <td>5.0</td>\n",
       "      <td>2do semestre</td>\n",
       "    </tr>\n",
       "    <tr>\n",
       "      <th>TWREER-4142552705</th>\n",
       "      <td>2016-07-01</td>\n",
       "      <td>1680.0</td>\n",
       "      <td>27.0</td>\n",
       "      <td>Software</td>\n",
       "      <td>Problema</td>\n",
       "      <td>3 - Mayor</td>\n",
       "      <td>1 - Baja</td>\n",
       "      <td>1.0</td>\n",
       "      <td>5.0</td>\n",
       "      <td>2do semestre</td>\n",
       "    </tr>\n",
       "    <tr>\n",
       "      <th>TWRTER-2042528927</th>\n",
       "      <td>2016-06-07</td>\n",
       "      <td>462.0</td>\n",
       "      <td>19.0</td>\n",
       "      <td>Software</td>\n",
       "      <td>Solicitud</td>\n",
       "      <td>1 - Menor</td>\n",
       "      <td>1 - Baja</td>\n",
       "      <td>10.0</td>\n",
       "      <td>4.0</td>\n",
       "      <td>1er semestre</td>\n",
       "    </tr>\n",
       "    <tr>\n",
       "      <th>TWRTER-8742418826</th>\n",
       "      <td>2016-02-18</td>\n",
       "      <td>942.0</td>\n",
       "      <td>28.0</td>\n",
       "      <td>Software</td>\n",
       "      <td>Solicitud</td>\n",
       "      <td>1 - Menor</td>\n",
       "      <td>1 - Baja</td>\n",
       "      <td>7.0</td>\n",
       "      <td>5.0</td>\n",
       "      <td>1er semestre</td>\n",
       "    </tr>\n",
       "    <tr>\n",
       "      <th>TWRTER-9542402645</th>\n",
       "      <td>2016-02-02</td>\n",
       "      <td>334.0</td>\n",
       "      <td>26.0</td>\n",
       "      <td>Software</td>\n",
       "      <td>Solicitud</td>\n",
       "      <td>1 - Menor</td>\n",
       "      <td>1 - Baja</td>\n",
       "      <td>5.0</td>\n",
       "      <td>5.0</td>\n",
       "      <td>1er semestre</td>\n",
       "    </tr>\n",
       "  </tbody>\n",
       "</table>\n",
       "<p>2590 rows × 10 columns</p>\n",
       "</div>"
      ],
      "text/plain": [
       "                        fecha  id_empleado  id_agente categoría       tipo  \\\n",
       "id_ticket                                                                    \n",
       "GDLEER-0042524120  2016-06-03       1842.0       31.0  Software   Problema   \n",
       "GDLEER-0142608095  2016-08-26         59.0       20.0  Software   Problema   \n",
       "GDLEER-0242564650  2016-07-13       1175.0       36.0  Software   Problema   \n",
       "GDLEER-0542574815  2016-07-23        561.0       18.0  Software   Problema   \n",
       "GDLEER-0842457219  2016-03-28         71.0       12.0  Software   Problema   \n",
       "...                       ...          ...        ...       ...        ...   \n",
       "TWREER-3542682716  2016-11-08        411.0       37.0  Software   Problema   \n",
       "TWREER-4142552705  2016-07-01       1680.0       27.0  Software   Problema   \n",
       "TWRTER-2042528927  2016-06-07        462.0       19.0  Software  Solicitud   \n",
       "TWRTER-8742418826  2016-02-18        942.0       28.0  Software  Solicitud   \n",
       "TWRTER-9542402645  2016-02-02        334.0       26.0  Software  Solicitud   \n",
       "\n",
       "                    severidad        prioridad  días_resolución  satisfacción  \\\n",
       "id_ticket                                                                       \n",
       "GDLEER-0042524120  2 - Normal  0 - Sin Asignar              0.0           5.0   \n",
       "GDLEER-0142608095  2 - Normal  0 - Sin Asignar              1.0           1.0   \n",
       "GDLEER-0242564650  2 - Normal  0 - Sin Asignar              2.0           1.0   \n",
       "GDLEER-0542574815  2 - Normal  0 - Sin Asignar              5.0           5.0   \n",
       "GDLEER-0842457219  2 - Normal  0 - Sin Asignar              8.0           5.0   \n",
       "...                       ...              ...              ...           ...   \n",
       "TWREER-3542682716   1 - Menor         1 - Baja              5.0           5.0   \n",
       "TWREER-4142552705   3 - Mayor         1 - Baja              1.0           5.0   \n",
       "TWRTER-2042528927   1 - Menor         1 - Baja             10.0           4.0   \n",
       "TWRTER-8742418826   1 - Menor         1 - Baja              7.0           5.0   \n",
       "TWRTER-9542402645   1 - Menor         1 - Baja              5.0           5.0   \n",
       "\n",
       "                       semestre  \n",
       "id_ticket                        \n",
       "GDLEER-0042524120  1er semestre  \n",
       "GDLEER-0142608095  2do semestre  \n",
       "GDLEER-0242564650  2do semestre  \n",
       "GDLEER-0542574815  2do semestre  \n",
       "GDLEER-0842457219  1er semestre  \n",
       "...                         ...  \n",
       "TWREER-3542682716  2do semestre  \n",
       "TWREER-4142552705  2do semestre  \n",
       "TWRTER-2042528927  1er semestre  \n",
       "TWRTER-8742418826  1er semestre  \n",
       "TWRTER-9542402645  1er semestre  \n",
       "\n",
       "[2590 rows x 10 columns]"
      ]
     },
     "execution_count": 19,
     "metadata": {},
     "output_type": "execute_result"
    }
   ],
   "source": [
    "software = tabla_2016[tabla_2016[\"categoría\"] == \"Software\"]\n",
    "software"
   ]
  },
  {
   "attachments": {},
   "cell_type": "markdown",
   "metadata": {},
   "source": [
    "- Dentro del conjunto de datos filtrado que acabamos de generar, realiza la mejor visualización para mostrar cuantos tickets tenemos de cada tipo que tenemos (Problema o Solicitud).\n"
   ]
  },
  {
   "cell_type": "code",
   "execution_count": 20,
   "metadata": {},
   "outputs": [
    {
     "data": {
      "text/html": [
       "<div>\n",
       "<style scoped>\n",
       "    .dataframe tbody tr th:only-of-type {\n",
       "        vertical-align: middle;\n",
       "    }\n",
       "\n",
       "    .dataframe tbody tr th {\n",
       "        vertical-align: top;\n",
       "    }\n",
       "\n",
       "    .dataframe thead th {\n",
       "        text-align: right;\n",
       "    }\n",
       "</style>\n",
       "<table border=\"1\" class=\"dataframe\">\n",
       "  <thead>\n",
       "    <tr style=\"text-align: right;\">\n",
       "      <th></th>\n",
       "      <th>tipo</th>\n",
       "    </tr>\n",
       "  </thead>\n",
       "  <tbody>\n",
       "    <tr>\n",
       "      <th>Solicitud</th>\n",
       "      <td>1932</td>\n",
       "    </tr>\n",
       "    <tr>\n",
       "      <th>Problema</th>\n",
       "      <td>658</td>\n",
       "    </tr>\n",
       "  </tbody>\n",
       "</table>\n",
       "</div>"
      ],
      "text/plain": [
       "           tipo\n",
       "Solicitud  1932\n",
       "Problema    658"
      ]
     },
     "execution_count": 20,
     "metadata": {},
     "output_type": "execute_result"
    }
   ],
   "source": [
    "software2 = pd.DataFrame(software[\"tipo\"].value_counts())\n",
    "software2"
   ]
  },
  {
   "cell_type": "code",
   "execution_count": 21,
   "metadata": {},
   "outputs": [
    {
     "data": {
      "image/png": "[encoded data removed]",
      "text/plain": [
       "<Figure size 640x480 with 1 Axes>"
      ]
     },
     "metadata": {},
     "output_type": "display_data"
    }
   ],
   "source": [
    "plt.figure()\n",
    "plt.pie(software2[\"tipo\"], labels = software2[\"tipo\"])\n",
    "plt.legend(labels = [\"Solicitud\", \"Problema\"])\n",
    "plt.show()"
   ]
  },
  {
   "attachments": {},
   "cell_type": "markdown",
   "metadata": {},
   "source": [
    "- Usando el mismo conjunto de datos filtrado, ¿existe alguna relación entre la satisfacción y los días de resolución?. Poned los nombres de los ejes, siendo el eje x los \"días de resolución\" y el eje y la \"satisfacción\".\n"
   ]
  },
  {
   "cell_type": "code",
   "execution_count": 47,
   "metadata": {},
   "outputs": [],
   "source": [
    "satisfaccion = pd.DataFrame(software[\"satisfacción\"].value_counts(), software[\"días_resolución\"])\n",
    "satisfaccion = satisfaccion.reset_index()"
   ]
  },
  {
   "cell_type": "code",
   "execution_count": 48,
   "metadata": {},
   "outputs": [
    {
     "data": {
      "text/html": [
       "<div>\n",
       "<style scoped>\n",
       "    .dataframe tbody tr th:only-of-type {\n",
       "        vertical-align: middle;\n",
       "    }\n",
       "\n",
       "    .dataframe tbody tr th {\n",
       "        vertical-align: top;\n",
       "    }\n",
       "\n",
       "    .dataframe thead th {\n",
       "        text-align: right;\n",
       "    }\n",
       "</style>\n",
       "<table border=\"1\" class=\"dataframe\">\n",
       "  <thead>\n",
       "    <tr style=\"text-align: right;\">\n",
       "      <th></th>\n",
       "      <th>días_resolución</th>\n",
       "      <th>satisfacción</th>\n",
       "    </tr>\n",
       "  </thead>\n",
       "  <tbody>\n",
       "    <tr>\n",
       "      <th>0</th>\n",
       "      <td>0.0</td>\n",
       "      <td>NaN</td>\n",
       "    </tr>\n",
       "    <tr>\n",
       "      <th>1</th>\n",
       "      <td>1.0</td>\n",
       "      <td>305.0</td>\n",
       "    </tr>\n",
       "    <tr>\n",
       "      <th>2</th>\n",
       "      <td>2.0</td>\n",
       "      <td>51.0</td>\n",
       "    </tr>\n",
       "    <tr>\n",
       "      <th>3</th>\n",
       "      <td>5.0</td>\n",
       "      <td>1263.0</td>\n",
       "    </tr>\n",
       "    <tr>\n",
       "      <th>4</th>\n",
       "      <td>8.0</td>\n",
       "      <td>NaN</td>\n",
       "    </tr>\n",
       "    <tr>\n",
       "      <th>...</th>\n",
       "      <td>...</td>\n",
       "      <td>...</td>\n",
       "    </tr>\n",
       "    <tr>\n",
       "      <th>2585</th>\n",
       "      <td>5.0</td>\n",
       "      <td>1263.0</td>\n",
       "    </tr>\n",
       "    <tr>\n",
       "      <th>2586</th>\n",
       "      <td>1.0</td>\n",
       "      <td>305.0</td>\n",
       "    </tr>\n",
       "    <tr>\n",
       "      <th>2587</th>\n",
       "      <td>10.0</td>\n",
       "      <td>NaN</td>\n",
       "    </tr>\n",
       "    <tr>\n",
       "      <th>2588</th>\n",
       "      <td>7.0</td>\n",
       "      <td>NaN</td>\n",
       "    </tr>\n",
       "    <tr>\n",
       "      <th>2589</th>\n",
       "      <td>5.0</td>\n",
       "      <td>1263.0</td>\n",
       "    </tr>\n",
       "  </tbody>\n",
       "</table>\n",
       "<p>2590 rows × 2 columns</p>\n",
       "</div>"
      ],
      "text/plain": [
       "      días_resolución  satisfacción\n",
       "0                 0.0           NaN\n",
       "1                 1.0         305.0\n",
       "2                 2.0          51.0\n",
       "3                 5.0        1263.0\n",
       "4                 8.0           NaN\n",
       "...               ...           ...\n",
       "2585              5.0        1263.0\n",
       "2586              1.0         305.0\n",
       "2587             10.0           NaN\n",
       "2588              7.0           NaN\n",
       "2589              5.0        1263.0\n",
       "\n",
       "[2590 rows x 2 columns]"
      ]
     },
     "execution_count": 48,
     "metadata": {},
     "output_type": "execute_result"
    }
   ],
   "source": [
    "satisfaccion"
   ]
  },
  {
   "cell_type": "code",
   "execution_count": 49,
   "metadata": {},
   "outputs": [
    {
     "data": {
      "image/png": "[encoded data removed]",
      "text/plain": [
       "<Figure size 640x480 with 1 Axes>"
      ]
     },
     "metadata": {},
     "output_type": "display_data"
    }
   ],
   "source": [
    "plt.figure()\n",
    "plt.bar(satisfaccion[\"días_resolución\"], satisfaccion[\"satisfacción\"])\n",
    "plt.xlabel(\"días de resolución\")\n",
    "plt.ylabel(\"satisfacción\")\n",
    "plt.show()"
   ]
  },
  {
   "attachments": {},
   "cell_type": "markdown",
   "metadata": {},
   "source": [
    "- Usando el mismo conjunto de datos filtrado, ¿cuál es la frecuencia de cada una de las satisfacciones que tenemos en el conjunto de datos?\n"
   ]
  },
  {
   "cell_type": "code",
   "execution_count": 54,
   "metadata": {},
   "outputs": [
    {
     "data": {
      "text/plain": [
       "5.0    1263\n",
       "4.0     761\n",
       "1.0     305\n",
       "3.0     210\n",
       "2.0      51\n",
       "Name: satisfacción, dtype: int64"
      ]
     },
     "execution_count": 54,
     "metadata": {},
     "output_type": "execute_result"
    }
   ],
   "source": [
    "frecuencia_satisfaccion = software[\"satisfacción\"].value_counts()\n",
    "frecuencia_satisfaccion"
   ]
  },
  {
   "cell_type": "code",
   "execution_count": 56,
   "metadata": {},
   "outputs": [
    {
     "data": {
      "image/png": "[encoded data removed]",
      "text/plain": [
       "<Figure size 640x480 with 1 Axes>"
      ]
     },
     "metadata": {},
     "output_type": "display_data"
    }
   ],
   "source": [
    "plt.figure()\n",
    "plt.boxplot(x = frecuencia_satisfaccion)\n",
    "plt.show()\n"
   ]
  },
  {
   "attachments": {},
   "cell_type": "markdown",
   "metadata": {},
   "source": [
    "3. En el ejercicio anterior hemos filtrado por \"Software\", realizar los mismos ejercicios que en el ejercicio 2, solo que en este caso filtrar por \"Hardware\"\n"
   ]
  },
  {
   "cell_type": "code",
   "execution_count": null,
   "metadata": {},
   "outputs": [],
   "source": []
  },
  {
   "attachments": {},
   "cell_type": "markdown",
   "metadata": {},
   "source": [
    "Como ya hemos dicho en algunas ocasiones, somo analistas de datos y no debemos conformarnos solo con escribir el código y que nos devuelva una gráfica. Una vez que hayáis terminado de hacer las gráficas, interpretad los resultados obtenidos de las gráficas creadas en el ejercicio 2 y 3. El objetivo, hacer una comparación entre la categoría \"Software\" y \"Hardware\", por ejemplo, ¿están los clientes que tienen problemas de la categoría \"Software\" más satisfechos que los clientes de la categoría \"Hardware\"."
   ]
  }
 ],
 "metadata": {
  "kernelspec": {
   "display_name": "adalabenv",
   "language": "python",
   "name": "python3"
  },
  "language_info": {
   "codemirror_mode": {
    "name": "ipython",
    "version": 3
   },
   "file_extension": ".py",
   "mimetype": "text/x-python",
   "name": "python",
   "nbconvert_exporter": "python",
   "pygments_lexer": "ipython3",
   "version": "3.10.9"
  },
  "orig_nbformat": 4
 },
 "nbformat": 4,
 "nbformat_minor": 2
}
