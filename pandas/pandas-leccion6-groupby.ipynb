{
 "cells": [
  {
   "attachments": {},
   "cell_type": "markdown",
   "metadata": {},
   "source": [
    "# **Ejercicios de pair programming Módulo 2 Sprint 1**\n",
    "## **Pandas: Lección 6**\n",
    "### **Groupby**"
   ]
  },
  {
   "attachments": {},
   "cell_type": "markdown",
   "metadata": {},
   "source": [
    "Antes de empezar deberemos cargar los 2 creados en el pair programming anterior de Pandas (el de histórico de tikects que habíamos creado y el de la unión de empleados y puestos). "
   ]
  },
  {
   "cell_type": "code",
   "execution_count": null,
   "metadata": {},
   "outputs": [],
   "source": [
    "import pandas as pd"
   ]
  },
  {
   "cell_type": "code",
   "execution_count": null,
   "metadata": {},
   "outputs": [],
   "source": [
    "años_2016_2020 = read_csv(\"data/datos_guardados/años_2016_2020.csv\", index_col = 0)\n",
    "años_2016_2020"
   ]
  },
  {
   "cell_type": "code",
   "execution_count": null,
   "metadata": {},
   "outputs": [],
   "source": [
    "empleados_puestos = read_csv(\"data/datos_guardados/empleados_puestos.csv\", index_col = 0)\n",
    "empleados_puestos"
   ]
  },
  {
   "cell_type": "markdown",
   "metadata": {},
   "source": [
    "El objetivo de este ejercicio es agrupar los datos para contestar las siguientes preguntas:\n",
    "\n",
    "1. En pairs anteriores hemos ido pudiendo sacar algunas conclusiones y contestando las preguntas que nos hacían las jefas. Desde la dirección se están planteando cambiar el sistema de asiganción de las solicitudes que llegan. En concreto, necesitan saber que categoría es la que recibe más tickets para poder asignar más empleados a esa categoría. Por esto nos piden que averiguemos qué categoría es la que tiene más tickets. Además nos piden que devolvamos esta consulta en un DataFrame.\n",
    "\n",
    "    📌 NOTA Ordena los resultados de mayor a menor. Esto todavía no lo hemos visto, pero un DataFrame lo podemos ordenar con .sort_values(). Aquí tenéis una explicación de cómo hacerlo.\n"
   ]
  },
  {
   "cell_type": "code",
   "execution_count": null,
   "metadata": {},
   "outputs": [],
   "source": []
  },
  {
   "attachments": {},
   "cell_type": "markdown",
   "metadata": {},
   "source": [
    "2. Desde la dirección quieren seguir evaluando la situación planteada en el ejercicio anterior. Pero ahora quieres saber cual es la media de la satisfacción por categoría. En concreto quieren saber si independientemente de la categoría los clientes salgan satisfechos, para que en caso de que no sea así poder identificar un posible problema subyacente. Por lo tanto, nos piden que calculemos la media de satisfacción por cada una de las categorías que tenemos en el dataframe.\n"
   ]
  },
  {
   "cell_type": "code",
   "execution_count": null,
   "metadata": {},
   "outputs": [],
   "source": []
  },
  {
   "attachments": {},
   "cell_type": "markdown",
   "metadata": {},
   "source": [
    "3. Quieren mejorar la consulta anterior y ahora nos piden que además de la media les devolvamos la desviación estándar de la satisfacción.\n"
   ]
  },
  {
   "cell_type": "code",
   "execution_count": null,
   "metadata": {},
   "outputs": [],
   "source": []
  },
  {
   "attachments": {},
   "cell_type": "markdown",
   "metadata": {},
   "source": [
    "4. En nuestros datos, además hemos visto que no solo tenemos categorías, y que las diferencias entre ellas no son especialmente significativas. Revisando los datos de nuevo, desde dirección saben que hay dos tipos de tickets (Problema y Solicitud), basándonos en esto, ¿hay diferencias en la satisfacción basándonos en la categoría y el tipo de tickets?\n"
   ]
  },
  {
   "cell_type": "code",
   "execution_count": null,
   "metadata": {},
   "outputs": [],
   "source": []
  },
  {
   "attachments": {},
   "cell_type": "markdown",
   "metadata": {},
   "source": [
    "5. A pesar de que sabemos que tenemos muchos empleados y varios departamentos, nuestras jefas no saben cuántas personas hay en cada uno de estos departamentos. Por esto, nos piden que calculemos el número de empleados que tenemos por departamento. Devolved estos resultados en un dataframe. Ordenadad los resultados de mayor a menor basándonos en la cantidad de empleados que tenemos.\n"
   ]
  },
  {
   "cell_type": "code",
   "execution_count": null,
   "metadata": {},
   "outputs": [],
   "source": []
  },
  {
   "attachments": {},
   "cell_type": "markdown",
   "metadata": {},
   "source": [
    "6. BONUS Quieren saber que departamentos son los que tienen de media un indice de satisfacción. 💡Pista Para responder a esta pregunta tendremos que unir los dataframes con métodos aprendidos en lecciones anteriores de Pandas.\n"
   ]
  },
  {
   "cell_type": "code",
   "execution_count": null,
   "metadata": {},
   "outputs": [],
   "source": []
  },
  {
   "attachments": {},
   "cell_type": "markdown",
   "metadata": {},
   "source": [
    "7. BONUS Por último, quieres conocer los 5 empleados que tienen mayor valor en la satisfacción y los 5 empleados que tienen un menor valor de satisfacción. Todo esto respecto a la media. En este caso, conseguiremos una dataframe, donde tengamos el el id del empleado y su satisfacción, pero no sabemos su nombre y appelidos. ¿Se os ocurre como conseguir la información del nombre del empleado?"
   ]
  },
  {
   "cell_type": "code",
   "execution_count": null,
   "metadata": {},
   "outputs": [],
   "source": []
  }
 ],
 "metadata": {
  "kernelspec": {
   "display_name": "adalabenv",
   "language": "python",
   "name": "python3"
  },
  "language_info": {
   "codemirror_mode": {
    "name": "ipython",
    "version": 3
   },
   "file_extension": ".py",
   "mimetype": "text/x-python",
   "name": "python",
   "nbconvert_exporter": "python",
   "pygments_lexer": "ipython3",
   "version": "3.10.9"
  },
  "orig_nbformat": 4
 },
 "nbformat": 4,
 "nbformat_minor": 2
}
