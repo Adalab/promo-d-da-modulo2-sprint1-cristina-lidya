{
 "cells": [
  {
   "attachments": {},
   "cell_type": "markdown",
   "metadata": {},
   "source": [
    "# **Ejercicios de pair programming Módulo 2 Sprint 1**\n",
    "## **Pandas: Lección 4**\n",
    "### **Filtrado de datos**"
   ]
  },
  {
   "cell_type": "code",
   "execution_count": null,
   "metadata": {},
   "outputs": [],
   "source": [
    "import pandas as pd"
   ]
  },
  {
   "attachments": {},
   "cell_type": "markdown",
   "metadata": {},
   "source": [
    "1. Cargad el csv que guardasteis ayer.\n",
    "\n",
    "    Antes de seguir con las preguntas, para evitar posibles errores con los nulos vamos a eliminar todos los nulos del DataFrame, esto lo haremos sobre el archivo de 2016.xlsx. Para ello vamos a utilizar el método .dropna() de Pandas. Tendréis que ejecutar la siguiente línea de código para eliminar los nulos del DataFrame y poder seguir haciendo el resto de los ejercicios.\n",
    "\n",
    "    ```python\n",
    "       df.dropna(inplace = True)\n",
    "    ```\n",
    "    \n",
    "   ¿Cuántas filas se han eliminado con esta línea de código?\n"
   ]
  },
  {
   "cell_type": "code",
   "execution_count": null,
   "metadata": {},
   "outputs": [],
   "source": [
    "df.dropna(inplace = True)"
   ]
  },
  {
   "attachments": {},
   "cell_type": "markdown",
   "metadata": {},
   "source": [
    "2. ¿Cuál es el número de incidencias que se han dado de tipo \"Sistema\", lo encontraréis en la columna de categoría?\n"
   ]
  },
  {
   "cell_type": "code",
   "execution_count": null,
   "metadata": {},
   "outputs": [],
   "source": []
  },
  {
   "attachments": {},
   "cell_type": "markdown",
   "metadata": {},
   "source": [
    "3. ¿Y para la categorías de \"Hardware\" y \"Software\"? Cread un dataframe nuevo con los resultados de este filtrado de datos.\n",
    "     \n",
    "     📌 Nota Este ejercicio se puede resolver usando dos condiciones de filtrado o usando el método isin(). Hacedlo con ambas herramientas.\n",
    "     \n"
   ]
  },
  {
   "cell_type": "code",
   "execution_count": null,
   "metadata": {},
   "outputs": [],
   "source": []
  },
  {
   "attachments": {},
   "cell_type": "markdown",
   "metadata": {},
   "source": [
    "- 3.1 De los datos filtrados en el punto 3. ¿Cuántas de ellas son de tipo \"Solicitud\" y cuántas de tipo \"Problema\"?\n"
   ]
  },
  {
   "cell_type": "code",
   "execution_count": null,
   "metadata": {},
   "outputs": [],
   "source": []
  },
  {
   "attachments": {},
   "cell_type": "markdown",
   "metadata": {},
   "source": [
    "- 3.2 ¿Cuántas solicitudes tienen una satisfacción de más de 3?\n"
   ]
  },
  {
   "cell_type": "code",
   "execution_count": null,
   "metadata": {},
   "outputs": [],
   "source": []
  },
  {
   "attachments": {},
   "cell_type": "markdown",
   "metadata": {},
   "source": [
    "- 3.3 ¿Y cuántas tienen una satisfacción mayor o igual que 4 y han tardado menos de 3 días de resolución?\n"
   ]
  },
  {
   "cell_type": "code",
   "execution_count": null,
   "metadata": {},
   "outputs": [],
   "source": []
  },
  {
   "attachments": {},
   "cell_type": "markdown",
   "metadata": {},
   "source": [
    "4. Ahora nuestro jefe quiere saber que cantidad de tickets ha habido en la segunda quincena de Enero. Cread un DataFrame nuevo con los tickets correspondientes a la segunda quincena de Enero.\n"
   ]
  },
  {
   "cell_type": "code",
   "execution_count": null,
   "metadata": {},
   "outputs": [],
   "source": []
  },
  {
   "attachments": {},
   "cell_type": "markdown",
   "metadata": {},
   "source": [
    "- 4.1 ¿Ha habido algun ticket en esta quincena que corresponda a la categoría de Solicitud?\n"
   ]
  },
  {
   "cell_type": "code",
   "execution_count": null,
   "metadata": {},
   "outputs": [],
   "source": []
  },
  {
   "attachments": {},
   "cell_type": "markdown",
   "metadata": {},
   "source": [
    "- 4.2 Revisando los datos, nuestro jefe se ha dado cuenta que hay muchos tickets no tienen ninguna prioridad asignada. Esto no debería seguir repitiéndose ya que cada ticket debe tener una prioridad para saber que urgencia debemos darle a cada ticket. Usando el str.contains extraed los tickets que no tengan una prioridad asignada o que tengan una prioridad baja.\n"
   ]
  },
  {
   "cell_type": "code",
   "execution_count": null,
   "metadata": {},
   "outputs": [],
   "source": []
  },
  {
   "attachments": {},
   "cell_type": "markdown",
   "metadata": {},
   "source": [
    "5. Nuestro jefe quiere seguir buscando patrones y quiere saber si existe una relación entre el número de días que tarde en cerrarse un ticket y la satisfacción de los clientes. Para eso nos pide que:\n",
    "- 5.1 Extraigamos los tickets en lo que pasaron 5 o más días en ser solucionados.\n"
   ]
  },
  {
   "cell_type": "code",
   "execution_count": null,
   "metadata": {},
   "outputs": [],
   "source": []
  },
  {
   "attachments": {},
   "cell_type": "markdown",
   "metadata": {},
   "source": [
    "- 5.2 Extraigamos los tickets en los que pasaron menos de 5 días en ser solucionados.\n"
   ]
  },
  {
   "cell_type": "code",
   "execution_count": null,
   "metadata": {},
   "outputs": [],
   "source": []
  },
  {
   "attachments": {},
   "cell_type": "markdown",
   "metadata": {},
   "source": [
    "- 5.3 Usando como referencia los dos conjuntos de datos creados en los dos pasos anteriores:\n",
    "    - ¿Qué valores tenemos de satisfacción en cada uno de ellos?\n",
    "    - ¿En cuál de ellos hay más puntuaciones de 5 en relación a la satisfacción?\n"
   ]
  },
  {
   "cell_type": "code",
   "execution_count": null,
   "metadata": {},
   "outputs": [],
   "source": []
  },
  {
   "attachments": {},
   "cell_type": "markdown",
   "metadata": {},
   "source": [
    "6. Revisando los dataframes generados en el ejercicio anterior, nos hemos dado cuenta que hay una serie de empleados que tardan demasiado en resolver los problemas planteados por los clientes. Nuestro jefe quiere extraer los datos de estos empleados en concreto para saber que esta pasando. En concreto estos empleados son aquellos que tienen los siguientes id's: 1118.0, 730.0, 97.0, 1745.0. Crea un dataframe donde solo tengamos la información de estos empleados. Usad el método isin(), para resolver este ejercicio.\n"
   ]
  },
  {
   "cell_type": "code",
   "execution_count": null,
   "metadata": {},
   "outputs": [],
   "source": []
  },
  {
   "attachments": {},
   "cell_type": "markdown",
   "metadata": {},
   "source": [
    "7. Utilizando la columna de fecha cread una nueva columna llamada semestre que contenga 1er semestre o 2º semestre. Aquellos tickets que pertenezcan a los seis primeros meses tendran el valor de \"1er trismestre\" y los tickets de julio en adelante tendrán el valor de \"2º semestre\".\n"
   ]
  },
  {
   "cell_type": "code",
   "execution_count": null,
   "metadata": {},
   "outputs": [],
   "source": []
  },
  {
   "cell_type": "markdown",
   "metadata": {},
   "source": [
    "8. Guardad como un archivo csv nuevo. Lo usaremos en el pair programming de mañana."
   ]
  },
  {
   "cell_type": "code",
   "execution_count": null,
   "metadata": {},
   "outputs": [],
   "source": []
  }
 ],
 "metadata": {
  "kernelspec": {
   "display_name": "adalabenv",
   "language": "python",
   "name": "python3"
  },
  "language_info": {
   "name": "python",
   "version": "3.10.9"
  },
  "orig_nbformat": 4
 },
 "nbformat": 4,
 "nbformat_minor": 2
}
