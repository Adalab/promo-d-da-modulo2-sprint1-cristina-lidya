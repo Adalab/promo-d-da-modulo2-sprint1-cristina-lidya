{
 "cells": [
  {
   "attachments": {},
   "cell_type": "markdown",
   "metadata": {},
   "source": [
    "# **Ejercicios de pair programming Módulo 2 Sprint 1**\n",
    "## **NumPy: Lección 3**\n",
    "### **Operaciones estadísticas y matemáticas**"
   ]
  },
  {
   "cell_type": "code",
   "execution_count": 1,
   "metadata": {},
   "outputs": [],
   "source": [
    "import numpy as np"
   ]
  },
  {
   "attachments": {},
   "cell_type": "markdown",
   "metadata": {},
   "source": [
    "1. Cread un array de tres dimensiones de 2 matrices, 3 filas y 5 columnas cuyos valores solo tengan 1 decimales. Sobre el array creado anteriormente, extraed:\n"
   ]
  },
  {
   "cell_type": "code",
   "execution_count": 2,
   "metadata": {},
   "outputs": [
    {
     "data": {
      "text/plain": [
       "array([[[0.3, 0.6, 0.2, 0.2, 0.3],\n",
       "        [0.6, 0. , 0.8, 0.9, 0.6],\n",
       "        [0.6, 0.4, 0.8, 0.6, 0.1]],\n",
       "\n",
       "       [[0.8, 0.5, 0.1, 0.8, 0.6],\n",
       "        [0.7, 0.4, 0.6, 0.3, 0.8],\n",
       "        [0.9, 0.5, 0.4, 0.7, 0.5]]])"
      ]
     },
     "execution_count": 2,
     "metadata": {},
     "output_type": "execute_result"
    }
   ],
   "source": [
    "array = np.random.random_sample((2,3,5)).round(1)\n",
    "array"
   ]
  },
  {
   "attachments": {},
   "cell_type": "markdown",
   "metadata": {},
   "source": [
    "2. Calculad la media del array y almacenarlos en una variable. Redondead a un decimal.\n"
   ]
  },
  {
   "cell_type": "code",
   "execution_count": 3,
   "metadata": {},
   "outputs": [
    {
     "data": {
      "text/plain": [
       "0.5"
      ]
     },
     "execution_count": 3,
     "metadata": {},
     "output_type": "execute_result"
    }
   ],
   "source": [
    "array_mean = np.mean(array).round(1)\n",
    "array_mean"
   ]
  },
  {
   "attachments": {},
   "cell_type": "markdown",
   "metadata": {},
   "source": [
    "3. Calculad el valor máximo del array y almacenarlos en una variable. Redondead a un decimal.\n"
   ]
  },
  {
   "cell_type": "code",
   "execution_count": 4,
   "metadata": {},
   "outputs": [
    {
     "data": {
      "text/plain": [
       "0.9"
      ]
     },
     "execution_count": 4,
     "metadata": {},
     "output_type": "execute_result"
    }
   ],
   "source": [
    "array_max = np.max(array).round(1)\n",
    "array_max"
   ]
  },
  {
   "attachments": {},
   "cell_type": "markdown",
   "metadata": {},
   "source": [
    "4. Calculad el valor mínimo del array y almacenarlos en una variable. Redondead a un decimal.\n"
   ]
  },
  {
   "cell_type": "code",
   "execution_count": 5,
   "metadata": {},
   "outputs": [
    {
     "data": {
      "text/plain": [
       "0.0"
      ]
     },
     "execution_count": 5,
     "metadata": {},
     "output_type": "execute_result"
    }
   ],
   "source": [
    "array_min = np.min(array).round(1)\n",
    "array_min"
   ]
  },
  {
   "attachments": {},
   "cell_type": "markdown",
   "metadata": {},
   "source": [
    "5. Cread un array vacío con la misma forma y dimensiones que el array creado anteriormente.\n"
   ]
  },
  {
   "cell_type": "code",
   "execution_count": 6,
   "metadata": {},
   "outputs": [
    {
     "data": {
      "text/plain": [
       "array([[['', '', '', '', ''],\n",
       "        ['', '', '', '', ''],\n",
       "        ['', '', '', '', '']],\n",
       "\n",
       "       [['', '', '', '', ''],\n",
       "        ['', '', '', '', ''],\n",
       "        ['', '', '', '', '']]], dtype='<U1')"
      ]
     },
     "execution_count": 6,
     "metadata": {},
     "output_type": "execute_result"
    }
   ],
   "source": [
    "array2 = np.empty((2,3,5), dtype=str)\n",
    "array2"
   ]
  },
  {
   "attachments": {},
   "cell_type": "markdown",
   "metadata": {},
   "source": [
    "Vamos a reemplazar los valores de la matriz vacía que nos acabamos de crear pero basándonos en los valores del primer array bajo las siguientes condiciones:\n",
    "- Si el valor del array es igual que la media, se reemplaza por \"A\".\n",
    "- Si el valor del array es mayor que la media, se reemplaza por \"B\".\n",
    "- Si el valor del array es menor que la media, se reemplaza por \"C\".\n",
    "- Si el valor es igual que el máximo, se reemplaza por \"D\".\n",
    "- Si el valor es igual que el mínimo, se reemplaza por \"E\"."
   ]
  },
  {
   "cell_type": "code",
   "execution_count": 7,
   "metadata": {},
   "outputs": [],
   "source": [
    "#Las condiciones max y min tienen que ir al principio de la iteración porque si no, al cumplir el \n",
    "# valor una de las condiciones no continuaría chequeando las demás. \n",
    "\n",
    "for matriz in range(array.shape[0]):\n",
    "    for fila in range(array.shape[1]):\n",
    "        for elem in range(array.shape[2]):\n",
    "            if array[matriz, fila, elem] == array_max:\n",
    "                array2[matriz, fila, elem] = \"D\"\n",
    "            elif array[matriz, fila, elem] == array_min:\n",
    "                array2[matriz, fila, elem] = \"E\"\n",
    "            elif array[matriz, fila, elem] == array_mean:\n",
    "                array2[matriz, fila, elem] = \"A\"\n",
    "            elif array[matriz, fila, elem] > array_mean:\n",
    "                array2[matriz, fila, elem]= \"B\" \n",
    "            elif array[matriz, fila, elem] < array_mean:\n",
    "                array2[matriz, fila, elem] = \"C\""
   ]
  },
  {
   "cell_type": "code",
   "execution_count": 8,
   "metadata": {},
   "outputs": [
    {
     "data": {
      "text/plain": [
       "array([[['C', 'B', 'C', 'C', 'C'],\n",
       "        ['B', 'E', 'B', 'D', 'B'],\n",
       "        ['B', 'C', 'B', 'B', 'C']],\n",
       "\n",
       "       [['B', 'A', 'C', 'B', 'B'],\n",
       "        ['B', 'C', 'B', 'C', 'B'],\n",
       "        ['D', 'A', 'C', 'B', 'A']]], dtype='<U1')"
      ]
     },
     "execution_count": 8,
     "metadata": {},
     "output_type": "execute_result"
    }
   ],
   "source": [
    "array2"
   ]
  },
  {
   "attachments": {},
   "cell_type": "markdown",
   "metadata": {},
   "source": [
    "\n",
    "```python\n",
    "# a modo de ejemplo. Si tenemos el siguiente array\n",
    "[[[0.4, 0.7, 0.2, 0.9, 0.2],\n",
    "    [0.1, 0.9, 0.6, 0.1, 0.2],\n",
    "    [1. , 0.2, 0.1, 0.8, 0.3]],\n",
    "\n",
    "   [[0. , 0.3, 0.4, 0.5, 0.1],\n",
    "    [0.5, 0.7, 0.9, 0. , 0.8],\n",
    "    [0.5, 0.3, 0.5, 0.8, 0.1]]])\n",
    "\n",
    "# sabiendo que la media es 0.4 y el máximo es 1.0 y el mínimo es 0.0\n",
    "\n",
    "# nuestro array vacío debería quedar como este: \n",
    "[[[\"A\", \"B\", \"C\", \"B\", \"C\"],\n",
    "    [\"C\", \"B\", \"B\", \"C\", \"C\"],\n",
    "    [\"D\" , \"C\", \"C\", \"B\", \"C\"]],\n",
    "\n",
    "   [[\"E\" , \"C\", \"A\", \"B\", \"C\"],\n",
    "    [\"B\", \"B\",\"B\", \"E\" , \"B\"],\n",
    "    [\"B\", \"C\", \"B\", \"B\", \"C\"]]])\n",
    "```\n",
    "💡 Pista 💡 Tendréis que iterar por el array y cambiar los valores de la matriz vacía. Para eso tendremos que usar distintos condicionales.\n"
   ]
  },
  {
   "attachments": {},
   "cell_type": "markdown",
   "metadata": {},
   "source": [
    "6. Estupendo, tenemos un array con strings. Ahora realizaremos un ejercicio similar al anterior, pero en este caso nos crearemos un array vacío unidimensional de 30 elementos. Al final de este ejercicio acabaremos teniendo un array de tres dimensiones con la misma forma que el primero que nos creamos.\n"
   ]
  },
  {
   "cell_type": "code",
   "execution_count": 9,
   "metadata": {},
   "outputs": [
    {
     "data": {
      "text/plain": [
       "array([4599075939470750515, 4603579539098121011, 4596373779694328218,\n",
       "       4596373779694328218, 4599075939470750515, 4603579539098121011,\n",
       "                         0, 4605380978949069210, 4606281698874543309,\n",
       "       4603579539098121011, 4603579539098121011, 4600877379321698714,\n",
       "       4605380978949069210, 4603579539098121011, 4591870180066957722,\n",
       "       4605380978949069210, 4602678819172646912, 4591870180066957722,\n",
       "       4605380978949069210, 4603579539098121011, 4604480259023595110,\n",
       "       4600877379321698714, 4603579539098121011, 4599075939470750515,\n",
       "       4605380978949069210, 4606281698874543309, 4602678819172646912,\n",
       "       4600877379321698714, 4604480259023595110, 4602678819172646912])"
      ]
     },
     "execution_count": 9,
     "metadata": {},
     "output_type": "execute_result"
    }
   ],
   "source": [
    "array3 = np.empty(30, dtype=int)\n",
    "array3"
   ]
  },
  {
   "cell_type": "markdown",
   "metadata": {},
   "source": [
    "En este caso:\n",
    "- Si el valor del array creado en el ejercicio anterior es \"A\" o \"B\" lo reemplazaremos por 1\n",
    "- Si el valor del array creado en el ejercicio anterior es \"C\" o \"D\" lo reemplazaremos por 2\n",
    "- Si el valor del array creado en el ejercicio anterior es \"E\" lo reemplazaremos por 3.\n",
    "Una vez que hayas reemplazado todos los valores cambiad la forma del array para que sea de tres dimensiones, con 2 matrices, 3 filas y 5 columnas."
   ]
  },
  {
   "cell_type": "code",
   "execution_count": 16,
   "metadata": {},
   "outputs": [],
   "source": [
    "contador = 0\n",
    "for matriz in array2:\n",
    "    for fila in matriz:\n",
    "        for elem in fila:\n",
    "            if elem == \"A\" or elem == \"B\":\n",
    "                 array3[contador]= 1\n",
    "            elif elem == \"C\" or elem == \"D\":\n",
    "                array3[contador] = 2\n",
    "            else: \n",
    "                array3[contador] = 3\n",
    "            contador += 1\n"
   ]
  },
  {
   "cell_type": "code",
   "execution_count": 17,
   "metadata": {},
   "outputs": [
    {
     "data": {
      "text/plain": [
       "array([2, 1, 2, 2, 2, 1, 3, 1, 2, 1, 1, 2, 1, 1, 2, 1, 1, 2, 1, 1, 1, 2,\n",
       "       1, 2, 1, 2, 1, 2, 1, 1])"
      ]
     },
     "execution_count": 17,
     "metadata": {},
     "output_type": "execute_result"
    }
   ],
   "source": [
    "array3"
   ]
  },
  {
   "cell_type": "code",
   "execution_count": 18,
   "metadata": {},
   "outputs": [
    {
     "data": {
      "text/plain": [
       "array([[[2, 1, 2, 2, 2],\n",
       "        [1, 3, 1, 2, 1],\n",
       "        [1, 2, 1, 1, 2]],\n",
       "\n",
       "       [[1, 1, 2, 1, 1],\n",
       "        [1, 2, 1, 2, 1],\n",
       "        [2, 1, 2, 1, 1]]])"
      ]
     },
     "execution_count": 18,
     "metadata": {},
     "output_type": "execute_result"
    }
   ],
   "source": [
    "array3.reshape(2,3,5)"
   ]
  }
 ],
 "metadata": {
  "kernelspec": {
   "display_name": "adalabenv",
   "language": "python",
   "name": "python3"
  },
  "language_info": {
   "codemirror_mode": {
    "name": "ipython",
    "version": 3
   },
   "file_extension": ".py",
   "mimetype": "text/x-python",
   "name": "python",
   "nbconvert_exporter": "python",
   "pygments_lexer": "ipython3",
   "version": "3.9.7"
  },
  "orig_nbformat": 4
 },
 "nbformat": 4,
 "nbformat_minor": 2
}
