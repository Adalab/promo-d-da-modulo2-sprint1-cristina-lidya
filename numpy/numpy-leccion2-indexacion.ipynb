{
 "cells": [
  {
   "attachments": {},
   "cell_type": "markdown",
   "metadata": {},
   "source": [
    "# **Ejercicios de pair programming Módulo 2 Sprint 1**\n",
    "## **NumPy: Lección 2**\n",
    "### **Indexación**"
   ]
  },
  {
   "cell_type": "code",
   "execution_count": 2,
   "metadata": {},
   "outputs": [],
   "source": [
    "import numpy as np"
   ]
  },
  {
   "attachments": {},
   "cell_type": "markdown",
   "metadata": {},
   "source": [
    "1. Cread un array de dos dimensiones de 5 filas y 3 columnas. Sobre el array creado anteriormente, extraed:\n",
    "\n",
    "    - El valor de la primera fila y la segunda columna.\n",
    "    - Los valores de la segunda fila y las dos primeras columnas.\n",
    "    - Extraed las filas pares (incluyendo la 0) y todas las columnas.\n",
    "    - Extraed los valores que sean mayores que 0.5.\n",
    "    - Extraed los valores menores que 0.2 o mayores que 0.5"
   ]
  },
  {
   "cell_type": "code",
   "execution_count": 7,
   "metadata": {},
   "outputs": [
    {
     "data": {
      "text/plain": [
       "array([[0.51, 0.16, 0.08],\n",
       "       [0.27, 0.23, 0.54],\n",
       "       [0.06, 0.72, 0.91],\n",
       "       [0.63, 0.37, 0.96],\n",
       "       [0.66, 0.7 , 0.49]])"
      ]
     },
     "execution_count": 7,
     "metadata": {},
     "output_type": "execute_result"
    }
   ],
   "source": [
    "array = np.random.rand(5,3).round(2)\n",
    "array"
   ]
  },
  {
   "cell_type": "code",
   "execution_count": 8,
   "metadata": {},
   "outputs": [
    {
     "name": "stdout",
     "output_type": "stream",
     "text": [
      "0.16\n",
      "---\n",
      "[0.27 0.23]\n",
      "---\n",
      "[[0.51 0.16 0.08]\n",
      " [0.06 0.72 0.91]\n",
      " [0.66 0.7  0.49]]\n",
      "---\n",
      "[0.51 0.54 0.72 0.91 0.63 0.96 0.66 0.7 ]\n",
      "---\n",
      "[0.51 0.16 0.08 0.54 0.06 0.72 0.91 0.63 0.96 0.66 0.7 ]\n"
     ]
    }
   ],
   "source": [
    "print(array[0, 1])\n",
    "print(\"---\")\n",
    "print(array[1, :2])\n",
    "print(\"---\")\n",
    "print(array[::2, :])\n",
    "print(\"---\")\n",
    "print(array[array > 0.5])\n",
    "print(\"---\")\n",
    "print(array[(array < 0.2) | (array > 0.5)])"
   ]
  },
  {
   "attachments": {},
   "cell_type": "markdown",
   "metadata": {},
   "source": [
    "2. Cread dos array de tres dimensiones:\n",
    "\n",
    "    - El primero de 2 matrices, 5 filas y 3 columnas.\n",
    "    - El segundo de 3 matrices, 2 filas y 5 columnas.\n"
   ]
  },
  {
   "cell_type": "code",
   "execution_count": 11,
   "metadata": {},
   "outputs": [
    {
     "data": {
      "text/plain": [
       "array([[[12, 16, 36],\n",
       "        [ 2,  0,  5],\n",
       "        [47, 32, 35],\n",
       "        [10, 36, 37],\n",
       "        [18, 19,  1]],\n",
       "\n",
       "       [[ 2, 43, 31],\n",
       "        [ 3,  7, 37],\n",
       "        [ 8, 22, 19],\n",
       "        [39, 43, 37],\n",
       "        [21, 29,  9]]])"
      ]
     },
     "execution_count": 11,
     "metadata": {},
     "output_type": "execute_result"
    }
   ],
   "source": [
    "tridim1 = np.random.randint(0, 50, (2,5,3))\n",
    "tridim1"
   ]
  },
  {
   "cell_type": "code",
   "execution_count": 10,
   "metadata": {},
   "outputs": [
    {
     "data": {
      "text/plain": [
       "array([[[27, 29, 21,  1, 33],\n",
       "        [35, 15, 44, 28, 32]],\n",
       "\n",
       "       [[20, 45, 32, 30, 19],\n",
       "        [12, 17, 25, 35,  3]],\n",
       "\n",
       "       [[49, 26, 26,  4, 19],\n",
       "        [30, 34, 12, 28, 44]]])"
      ]
     },
     "execution_count": 10,
     "metadata": {},
     "output_type": "execute_result"
    }
   ],
   "source": [
    "tridim2 = np.random.randint(0, 50, (3,2,5))\n",
    "tridim2"
   ]
  },
  {
   "attachments": {},
   "cell_type": "markdown",
   "metadata": {},
   "source": [
    "- Haced un análisis exploratorio de los array creados. Recordad que en el ejercicio de ayer nos creamos una función para esto.\n"
   ]
  },
  {
   "cell_type": "code",
   "execution_count": 12,
   "metadata": {},
   "outputs": [],
   "source": [
    "\n",
    "def propiedades_array(array): \n",
    "    \"\"\" Esta función devuelve las propiedades de un array que se pasa como parámetro\"\"\"\n",
    "\n",
    "    print(array)\n",
    "    return f\"Tiene forma de {array.shape}, su tamaño es de {array.size} elemento/s, tiene {array.ndim} dimension/es y el tipo de dato que contiene es {array.dtype}\""
   ]
  },
  {
   "cell_type": "code",
   "execution_count": 13,
   "metadata": {},
   "outputs": [
    {
     "name": "stdout",
     "output_type": "stream",
     "text": [
      "[[[12 16 36]\n",
      "  [ 2  0  5]\n",
      "  [47 32 35]\n",
      "  [10 36 37]\n",
      "  [18 19  1]]\n",
      "\n",
      " [[ 2 43 31]\n",
      "  [ 3  7 37]\n",
      "  [ 8 22 19]\n",
      "  [39 43 37]\n",
      "  [21 29  9]]]\n"
     ]
    },
    {
     "data": {
      "text/plain": [
       "'Tiene forma de (2, 5, 3), su tamaño es de 30 elemento/s, tiene 3 dimension/es y el tipo de dato que contiene es int64'"
      ]
     },
     "execution_count": 13,
     "metadata": {},
     "output_type": "execute_result"
    }
   ],
   "source": [
    "propiedades_array(tridim1)"
   ]
  },
  {
   "cell_type": "code",
   "execution_count": 14,
   "metadata": {},
   "outputs": [
    {
     "name": "stdout",
     "output_type": "stream",
     "text": [
      "[[[27 29 21  1 33]\n",
      "  [35 15 44 28 32]]\n",
      "\n",
      " [[20 45 32 30 19]\n",
      "  [12 17 25 35  3]]\n",
      "\n",
      " [[49 26 26  4 19]\n",
      "  [30 34 12 28 44]]]\n"
     ]
    },
    {
     "data": {
      "text/plain": [
       "'Tiene forma de (3, 2, 5), su tamaño es de 30 elemento/s, tiene 3 dimension/es y el tipo de dato que contiene es int64'"
      ]
     },
     "execution_count": 14,
     "metadata": {},
     "output_type": "execute_result"
    }
   ],
   "source": [
    "propiedades_array(tridim2)"
   ]
  },
  {
   "attachments": {},
   "cell_type": "markdown",
   "metadata": {},
   "source": [
    "- Sumad los dos arrays. ¿Podéis? ¿Por qué?\n"
   ]
  },
  {
   "cell_type": "code",
   "execution_count": 17,
   "metadata": {},
   "outputs": [
    {
     "ename": "ValueError",
     "evalue": "operands could not be broadcast together with shapes (2,5,3) (3,2,5) ",
     "output_type": "error",
     "traceback": [
      "\u001b[0;31m---------------------------------------------------------------------------\u001b[0m",
      "\u001b[0;31mValueError\u001b[0m                                Traceback (most recent call last)",
      "\u001b[1;32m/mnt/c/Users/lidya/Documents/Nuestros documentos/Documentos de Lidya/Estudios/Adalab/modulos/modulo2/pair_programming/promo-d-da-modulo2-sprint1-cristina-lidya/numpy/numpy-leccion2-indexacion.ipynb Celda 14\u001b[0m in \u001b[0;36m1\n\u001b[0;32m----> <a href='vscode-notebook-cell://wsl%2Bubuntu-18.04/mnt/c/Users/lidya/Documents/Nuestros%20documentos/Documentos%20de%20Lidya/Estudios/Adalab/modulos/modulo2/pair_programming/promo-d-da-modulo2-sprint1-cristina-lidya/numpy/numpy-leccion2-indexacion.ipynb#X22sdnNjb2RlLXJlbW90ZQ%3D%3D?line=0'>1</a>\u001b[0m suma \u001b[39m=\u001b[39m np\u001b[39m.\u001b[39;49madd(tridim1, tridim2)\n",
      "\u001b[0;31mValueError\u001b[0m: operands could not be broadcast together with shapes (2,5,3) (3,2,5) "
     ]
    }
   ],
   "source": [
    "suma = np.add(tridim1, tridim2)\n",
    "#No nos permite hacer la suma porque no tienen la misma forma."
   ]
  },
  {
   "attachments": {},
   "cell_type": "markdown",
   "metadata": {},
   "source": [
    "- Para cambiar la forma de un array y poder hacer operaciones entre arrays que tienen distintas formas hemos aprendido dos métodos:\n",
    "\n",
    "    .reshape()\n",
    "    .transpose()\n",
    "\n",
    "        \n",
    "- Utiliza estas dos funciones para cambiar la forma de los array y hacer operaciones entre ellos."
   ]
  },
  {
   "cell_type": "code",
   "execution_count": 18,
   "metadata": {},
   "outputs": [
    {
     "data": {
      "text/plain": [
       "array([[[12,  2, 47, 10, 18],\n",
       "        [ 2,  3,  8, 39, 21]],\n",
       "\n",
       "       [[16,  0, 32, 36, 19],\n",
       "        [43,  7, 22, 43, 29]],\n",
       "\n",
       "       [[36,  5, 35, 37,  1],\n",
       "        [31, 37, 19, 37,  9]]])"
      ]
     },
     "execution_count": 18,
     "metadata": {},
     "output_type": "execute_result"
    }
   ],
   "source": [
    "nuevo_tridim1 = np.transpose(tridim1, (2,0,1))\n",
    "nuevo_tridim1"
   ]
  },
  {
   "cell_type": "code",
   "execution_count": 22,
   "metadata": {},
   "outputs": [
    {
     "data": {
      "text/plain": [
       "array([[[39, 31, 68, 11, 51],\n",
       "        [37, 18, 52, 67, 53]],\n",
       "\n",
       "       [[36, 45, 64, 66, 38],\n",
       "        [55, 24, 47, 78, 32]],\n",
       "\n",
       "       [[85, 31, 61, 41, 20],\n",
       "        [61, 71, 31, 65, 53]]])"
      ]
     },
     "execution_count": 22,
     "metadata": {},
     "output_type": "execute_result"
    }
   ],
   "source": [
    "suma2 = np.add(nuevo_tridim1, tridim2)\n",
    "suma2\n"
   ]
  },
  {
   "cell_type": "code",
   "execution_count": 21,
   "metadata": {},
   "outputs": [
    {
     "data": {
      "text/plain": [
       "array([[[27, 29, 21],\n",
       "        [ 1, 33, 35],\n",
       "        [15, 44, 28],\n",
       "        [32, 20, 45],\n",
       "        [32, 30, 19]],\n",
       "\n",
       "       [[12, 17, 25],\n",
       "        [35,  3, 49],\n",
       "        [26, 26,  4],\n",
       "        [19, 30, 34],\n",
       "        [12, 28, 44]]])"
      ]
     },
     "execution_count": 21,
     "metadata": {},
     "output_type": "execute_result"
    }
   ],
   "source": [
    "nuevo_tridim2 = np.reshape(tridim2, (2,5,3))\n",
    "nuevo_tridim2"
   ]
  },
  {
   "cell_type": "code",
   "execution_count": 23,
   "metadata": {},
   "outputs": [
    {
     "data": {
      "text/plain": [
       "array([[[39, 45, 57],\n",
       "        [ 3, 33, 40],\n",
       "        [62, 76, 63],\n",
       "        [42, 56, 82],\n",
       "        [50, 49, 20]],\n",
       "\n",
       "       [[14, 60, 56],\n",
       "        [38, 10, 86],\n",
       "        [34, 48, 23],\n",
       "        [58, 73, 71],\n",
       "        [33, 57, 53]]])"
      ]
     },
     "execution_count": 23,
     "metadata": {},
     "output_type": "execute_result"
    }
   ],
   "source": [
    "suma3 = np.add(nuevo_tridim2, tridim1)\n",
    "suma3\n"
   ]
  }
 ],
 "metadata": {
  "kernelspec": {
   "display_name": "adalabenv",
   "language": "python",
   "name": "python3"
  },
  "language_info": {
   "codemirror_mode": {
    "name": "ipython",
    "version": 3
   },
   "file_extension": ".py",
   "mimetype": "text/x-python",
   "name": "python",
   "nbconvert_exporter": "python",
   "pygments_lexer": "ipython3",
   "version": "3.10.9"
  },
  "orig_nbformat": 4
 },
 "nbformat": 4,
 "nbformat_minor": 2
}
