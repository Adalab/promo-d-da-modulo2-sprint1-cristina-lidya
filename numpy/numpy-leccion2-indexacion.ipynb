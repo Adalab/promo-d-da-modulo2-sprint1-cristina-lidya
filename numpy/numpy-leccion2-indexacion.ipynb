{
 "cells": [
  {
   "attachments": {},
   "cell_type": "markdown",
   "metadata": {},
   "source": [
    "# **Ejercicios de pair programming Módulo 2 Sprint 1**\n",
    "## **NumPy: Lección 2**\n",
    "### **Indexación**"
   ]
  },
  {
   "cell_type": "code",
   "execution_count": null,
   "metadata": {},
   "outputs": [],
   "source": [
    "import numpy as np"
   ]
  },
  {
   "attachments": {},
   "cell_type": "markdown",
   "metadata": {},
   "source": [
    "1. Cread un array de dos dimensiones de 5 filas y 3 columnas. Sobre el array creado anteriormente, extraed:\n",
    "\n",
    "    - El valor de la primera fila y la segunda columna.\n",
    "    - Los valores de la segunda fila y las dos primeras columnas.\n",
    "    - Extraed las filas pares (incluyendo la 0) y todas las columnas.\n",
    "    - Extraed los valores que sean mayores que 0.5.\n",
    "    - Extraed los valores menores que 0.2 o mayores que 0.5"
   ]
  },
  {
   "cell_type": "code",
   "execution_count": null,
   "metadata": {},
   "outputs": [],
   "source": []
  },
  {
   "cell_type": "code",
   "execution_count": null,
   "metadata": {},
   "outputs": [],
   "source": []
  },
  {
   "attachments": {},
   "cell_type": "markdown",
   "metadata": {},
   "source": [
    "2. Cread dos array de tres dimensiones:\n",
    "\n",
    "    - El primero de 2 matrices, 5 filas y 3 columnas.\n",
    "    - El segundo de 3 matrices, 2 filas y 5 columnas.\n",
    "    - Haced un análisis exploratorio de los array creados. Recordad que en el ejercicio de ayer nos creamos una función para esto.\n",
    "    - Sumad los dos arrays. ¿Podéis? ¿Por qué?\n",
    "    - Para cambiar la forma de un array y poder hacer operaciones entre arrays que tienen distintas formas hemos aprendido dos métodos:\n",
    "\n",
    "        .reshape()\n",
    "        .transpose()\n",
    "        \n",
    "    - Utiliza estas dos funciones para cambiar la forma de los array y hacer operaciones entre ellos."
   ]
  },
  {
   "cell_type": "code",
   "execution_count": null,
   "metadata": {},
   "outputs": [],
   "source": []
  },
  {
   "cell_type": "code",
   "execution_count": null,
   "metadata": {},
   "outputs": [],
   "source": []
  }
 ],
 "metadata": {
  "language_info": {
   "name": "python"
  },
  "orig_nbformat": 4
 },
 "nbformat": 4,
 "nbformat_minor": 2
}
